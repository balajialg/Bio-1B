{
 "cells": [
  {
   "cell_type": "code",
   "execution_count": 1,
   "metadata": {
    "scrolled": true
   },
   "outputs": [
    {
     "name": "stdout",
     "output_type": "stream",
     "text": [
      "Collecting calysto\n",
      "  Using cached https://files.pythonhosted.org/packages/70/ca/b6417f9745e29f0620391d594d2a9019f1d2e654c8a5d907d86a58649a2e/calysto-1.0.6-py3-none-any.whl\n",
      "Requirement already satisfied: ipywidgets in /srv/app/venv/lib/python3.6/site-packages (from calysto)\n",
      "Collecting cairosvg (from calysto)\n",
      "  Using cached https://files.pythonhosted.org/packages/8e/3a/762f9272c20db092f4d537aaf364dd0770ecf8f7101b58c4e933e99ee2f6/CairoSVG-2.4.2-py3-none-any.whl\n",
      "Collecting svgwrite (from calysto)\n",
      "  Using cached https://files.pythonhosted.org/packages/4f/2e/f36cfec1da6162055b884e6366074cff18475a9538559ceae0c0bc58e186/svgwrite-1.3.1-py2.py3-none-any.whl\n",
      "Collecting metakernel (from calysto)\n",
      "  Using cached https://files.pythonhosted.org/packages/ad/a9/0cd74cfbc9c4aeb117bdb7fd9ff12c3890be34ef5c77932e00ef4afaca98/metakernel-0.24.3-py2.py3-none-any.whl\n",
      "Requirement already satisfied: IPython in /srv/app/venv/lib/python3.6/site-packages (from calysto)\n",
      "Requirement already satisfied: widgetsnbextension~=3.2.0 in /srv/app/venv/lib/python3.6/site-packages (from ipywidgets->calysto)\n",
      "Requirement already satisfied: traitlets>=4.3.1 in /srv/app/venv/lib/python3.6/site-packages (from ipywidgets->calysto)\n",
      "Requirement already satisfied: nbformat>=4.2.0 in /srv/app/venv/lib/python3.6/site-packages (from ipywidgets->calysto)\n",
      "Requirement already satisfied: ipykernel>=4.5.1 in /srv/app/venv/lib/python3.6/site-packages (from ipywidgets->calysto)\n",
      "Collecting tinycss2 (from cairosvg->calysto)\n",
      "  Using cached https://files.pythonhosted.org/packages/94/2c/4e501f9c351343c8ba10d70b5a7ca97cdab2690af043a6e52ada65b85b6b/tinycss2-1.0.2-py3-none-any.whl\n",
      "Collecting cairocffi (from cairosvg->calysto)\n",
      "  Using cached https://files.pythonhosted.org/packages/f7/99/b3a2c6393563ccbe081ffcceb359ec27a6227792c5169604c1bd8128031a/cairocffi-1.1.0.tar.gz\n",
      "Requirement already satisfied: defusedxml in /srv/app/venv/lib/python3.6/site-packages (from cairosvg->calysto)\n",
      "Requirement already satisfied: pillow in /srv/app/venv/lib/python3.6/site-packages (from cairosvg->calysto)\n",
      "Collecting cssselect2 (from cairosvg->calysto)\n",
      "  Using cached https://files.pythonhosted.org/packages/c4/a1/1a37602bbcfa2f7c079758f31555776a00a947e43457a3e0110b2165c7d9/cssselect2-0.2.2-py2.py3-none-any.whl\n",
      "Requirement already satisfied: pyparsing>=2.0.1 in /srv/app/venv/lib/python3.6/site-packages (from svgwrite->calysto)\n",
      "Collecting portalocker (from metakernel->calysto)\n",
      "  Using cached https://files.pythonhosted.org/packages/60/ec/836a494dbaa72541f691ec4e66f29fdc8db9bcc7f49e1c2d457ba13ced42/portalocker-1.5.1-py2.py3-none-any.whl\n",
      "Requirement already satisfied: pexpect>=4.2 in /srv/app/venv/lib/python3.6/site-packages (from metakernel->calysto)\n",
      "Collecting ipyparallel (from metakernel->calysto)\n",
      "  Using cached https://files.pythonhosted.org/packages/3f/82/aaa7a357845a98d4028f27c799f0d3bb2fe55fc1247c73dc712b4ae2344c/ipyparallel-6.2.4-py2.py3-none-any.whl\n",
      "Requirement already satisfied: prompt-toolkit<2.1.0,>=2.0.0 in /srv/app/venv/lib/python3.6/site-packages (from IPython->calysto)\n",
      "Requirement already satisfied: backcall in /srv/app/venv/lib/python3.6/site-packages (from IPython->calysto)\n",
      "Requirement already satisfied: pickleshare in /srv/app/venv/lib/python3.6/site-packages (from IPython->calysto)\n",
      "Requirement already satisfied: setuptools>=18.5 in /srv/app/venv/lib/python3.6/site-packages (from IPython->calysto)\n",
      "Requirement already satisfied: jedi>=0.10 in /srv/app/venv/lib/python3.6/site-packages (from IPython->calysto)\n",
      "Requirement already satisfied: pygments in /srv/app/venv/lib/python3.6/site-packages (from IPython->calysto)\n",
      "Requirement already satisfied: decorator in /srv/app/venv/lib/python3.6/site-packages (from IPython->calysto)\n",
      "Requirement already satisfied: notebook>=4.4.1 in /srv/app/venv/lib/python3.6/site-packages (from widgetsnbextension~=3.2.0->ipywidgets->calysto)\n",
      "Requirement already satisfied: ipython-genutils in /srv/app/venv/lib/python3.6/site-packages (from traitlets>=4.3.1->ipywidgets->calysto)\n",
      "Requirement already satisfied: six in /srv/app/venv/lib/python3.6/site-packages (from traitlets>=4.3.1->ipywidgets->calysto)\n",
      "Requirement already satisfied: jsonschema!=2.5.0,>=2.4 in /srv/app/venv/lib/python3.6/site-packages (from nbformat>=4.2.0->ipywidgets->calysto)\n",
      "Requirement already satisfied: jupyter-core in /srv/app/venv/lib/python3.6/site-packages (from nbformat>=4.2.0->ipywidgets->calysto)\n",
      "Requirement already satisfied: jupyter-client in /srv/app/venv/lib/python3.6/site-packages (from ipykernel>=4.5.1->ipywidgets->calysto)\n",
      "Requirement already satisfied: tornado>=4.2 in /srv/app/venv/lib/python3.6/site-packages (from ipykernel>=4.5.1->ipywidgets->calysto)\n",
      "Requirement already satisfied: webencodings>=0.4 in /srv/app/venv/lib/python3.6/site-packages (from tinycss2->cairosvg->calysto)\n",
      "Requirement already satisfied: cffi>=1.1.0 in /srv/app/venv/lib/python3.6/site-packages (from cairocffi->cairosvg->calysto)\n",
      "Requirement already satisfied: olefile in /srv/app/venv/lib/python3.6/site-packages (from pillow->cairosvg->calysto)\n",
      "Requirement already satisfied: ptyprocess>=0.5 in /srv/app/venv/lib/python3.6/site-packages (from pexpect>=4.2->metakernel->calysto)\n",
      "Requirement already satisfied: pyzmq>=13 in /srv/app/venv/lib/python3.6/site-packages (from ipyparallel->metakernel->calysto)\n",
      "Requirement already satisfied: python-dateutil>=2.1 in /srv/app/venv/lib/python3.6/site-packages (from ipyparallel->metakernel->calysto)\n",
      "Requirement already satisfied: wcwidth in /srv/app/venv/lib/python3.6/site-packages (from prompt-toolkit<2.1.0,>=2.0.0->IPython->calysto)\n",
      "Requirement already satisfied: parso>=0.5.0 in /srv/app/venv/lib/python3.6/site-packages (from jedi>=0.10->IPython->calysto)\n",
      "Requirement already satisfied: nbconvert in /srv/app/venv/lib/python3.6/site-packages (from notebook>=4.4.1->widgetsnbextension~=3.2.0->ipywidgets->calysto)\n",
      "Requirement already satisfied: jinja2 in /srv/app/venv/lib/python3.6/site-packages (from notebook>=4.4.1->widgetsnbextension~=3.2.0->ipywidgets->calysto)\n",
      "Requirement already satisfied: terminado>=0.8.1 in /srv/app/venv/lib/python3.6/site-packages (from notebook>=4.4.1->widgetsnbextension~=3.2.0->ipywidgets->calysto)\n",
      "Requirement already satisfied: Send2Trash in /srv/app/venv/lib/python3.6/site-packages (from notebook>=4.4.1->widgetsnbextension~=3.2.0->ipywidgets->calysto)\n",
      "Requirement already satisfied: prometheus-client in /srv/app/venv/lib/python3.6/site-packages (from notebook>=4.4.1->widgetsnbextension~=3.2.0->ipywidgets->calysto)\n",
      "Requirement already satisfied: pyrsistent>=0.14.0 in /srv/app/venv/lib/python3.6/site-packages (from jsonschema!=2.5.0,>=2.4->nbformat>=4.2.0->ipywidgets->calysto)\n",
      "Requirement already satisfied: attrs>=17.4.0 in /srv/app/venv/lib/python3.6/site-packages (from jsonschema!=2.5.0,>=2.4->nbformat>=4.2.0->ipywidgets->calysto)\n",
      "Requirement already satisfied: importlib-metadata in /srv/app/venv/lib/python3.6/site-packages (from jsonschema!=2.5.0,>=2.4->nbformat>=4.2.0->ipywidgets->calysto)\n",
      "Requirement already satisfied: pycparser in /srv/app/venv/lib/python3.6/site-packages (from cffi>=1.1.0->cairocffi->cairosvg->calysto)\n",
      "Requirement already satisfied: bleach in /srv/app/venv/lib/python3.6/site-packages (from nbconvert->notebook>=4.4.1->widgetsnbextension~=3.2.0->ipywidgets->calysto)\n",
      "Requirement already satisfied: mistune<2,>=0.8.1 in /srv/app/venv/lib/python3.6/site-packages (from nbconvert->notebook>=4.4.1->widgetsnbextension~=3.2.0->ipywidgets->calysto)\n",
      "Requirement already satisfied: testpath in /srv/app/venv/lib/python3.6/site-packages (from nbconvert->notebook>=4.4.1->widgetsnbextension~=3.2.0->ipywidgets->calysto)\n",
      "Requirement already satisfied: entrypoints>=0.2.2 in /srv/app/venv/lib/python3.6/site-packages (from nbconvert->notebook>=4.4.1->widgetsnbextension~=3.2.0->ipywidgets->calysto)\n",
      "Requirement already satisfied: pandocfilters>=1.4.1 in /srv/app/venv/lib/python3.6/site-packages (from nbconvert->notebook>=4.4.1->widgetsnbextension~=3.2.0->ipywidgets->calysto)\n",
      "Requirement already satisfied: MarkupSafe>=0.23 in /srv/app/venv/lib/python3.6/site-packages (from jinja2->notebook>=4.4.1->widgetsnbextension~=3.2.0->ipywidgets->calysto)\n",
      "Requirement already satisfied: zipp>=0.5 in /srv/app/venv/lib/python3.6/site-packages (from importlib-metadata->jsonschema!=2.5.0,>=2.4->nbformat>=4.2.0->ipywidgets->calysto)\n",
      "Requirement already satisfied: more-itertools in /srv/app/venv/lib/python3.6/site-packages (from zipp>=0.5->importlib-metadata->jsonschema!=2.5.0,>=2.4->nbformat>=4.2.0->ipywidgets->calysto)\n",
      "Building wheels for collected packages: cairocffi\n"
     ]
    },
    {
     "name": "stdout",
     "output_type": "stream",
     "text": [
      "  Running setup.py bdist_wheel for cairocffi ... \u001b[?25ldone\n",
      "\u001b[?25h  Stored in directory: /home/jovyan/.cache/pip/wheels/11/5e/47/167d9dfd5fa5850dd0cd3db80afe6db46e620edec3419dce5a\n",
      "Successfully built cairocffi\n",
      "Installing collected packages: tinycss2, cairocffi, cssselect2, cairosvg, svgwrite, portalocker, ipyparallel, metakernel, calysto\n",
      "Successfully installed cairocffi-file-.cairocffi-VERSION cairosvg-2.4.2 calysto-1.0.6 cssselect2-0.2.2 ipyparallel-6.2.4 metakernel-0.24.3 portalocker-1.5.1 svgwrite-1.3.1 tinycss2-1.0.2\n"
     ]
    }
   ],
   "source": [
    "! pip install calysto"
   ]
  },
  {
   "cell_type": "code",
   "execution_count": 2,
   "metadata": {
    "collapsed": true
   },
   "outputs": [
    {
     "name": "stdout",
     "output_type": "stream",
     "text": [
      "Requirement already satisfied: ipywidgets in /srv/app/venv/lib/python3.6/site-packages\n",
      "Requirement already satisfied: widgetsnbextension~=3.2.0 in /srv/app/venv/lib/python3.6/site-packages (from ipywidgets)\n",
      "Requirement already satisfied: nbformat>=4.2.0 in /srv/app/venv/lib/python3.6/site-packages (from ipywidgets)\n",
      "Requirement already satisfied: ipython>=4.0.0; python_version >= \"3.3\" in /srv/app/venv/lib/python3.6/site-packages (from ipywidgets)\n",
      "Requirement already satisfied: traitlets>=4.3.1 in /srv/app/venv/lib/python3.6/site-packages (from ipywidgets)\n",
      "Requirement already satisfied: ipykernel>=4.5.1 in /srv/app/venv/lib/python3.6/site-packages (from ipywidgets)\n",
      "Requirement already satisfied: notebook>=4.4.1 in /srv/app/venv/lib/python3.6/site-packages (from widgetsnbextension~=3.2.0->ipywidgets)\n",
      "Requirement already satisfied: jsonschema!=2.5.0,>=2.4 in /srv/app/venv/lib/python3.6/site-packages (from nbformat>=4.2.0->ipywidgets)\n",
      "Requirement already satisfied: jupyter-core in /srv/app/venv/lib/python3.6/site-packages (from nbformat>=4.2.0->ipywidgets)\n",
      "Requirement already satisfied: ipython-genutils in /srv/app/venv/lib/python3.6/site-packages (from nbformat>=4.2.0->ipywidgets)\n",
      "Requirement already satisfied: jedi>=0.10 in /srv/app/venv/lib/python3.6/site-packages (from ipython>=4.0.0; python_version >= \"3.3\"->ipywidgets)\n",
      "Requirement already satisfied: decorator in /srv/app/venv/lib/python3.6/site-packages (from ipython>=4.0.0; python_version >= \"3.3\"->ipywidgets)\n",
      "Requirement already satisfied: setuptools>=18.5 in /srv/app/venv/lib/python3.6/site-packages (from ipython>=4.0.0; python_version >= \"3.3\"->ipywidgets)\n",
      "Requirement already satisfied: prompt-toolkit<2.1.0,>=2.0.0 in /srv/app/venv/lib/python3.6/site-packages (from ipython>=4.0.0; python_version >= \"3.3\"->ipywidgets)\n",
      "Requirement already satisfied: pexpect; sys_platform != \"win32\" in /srv/app/venv/lib/python3.6/site-packages (from ipython>=4.0.0; python_version >= \"3.3\"->ipywidgets)\n",
      "Requirement already satisfied: pygments in /srv/app/venv/lib/python3.6/site-packages (from ipython>=4.0.0; python_version >= \"3.3\"->ipywidgets)\n",
      "Requirement already satisfied: backcall in /srv/app/venv/lib/python3.6/site-packages (from ipython>=4.0.0; python_version >= \"3.3\"->ipywidgets)\n",
      "Requirement already satisfied: pickleshare in /srv/app/venv/lib/python3.6/site-packages (from ipython>=4.0.0; python_version >= \"3.3\"->ipywidgets)\n",
      "Requirement already satisfied: six in /srv/app/venv/lib/python3.6/site-packages (from traitlets>=4.3.1->ipywidgets)\n",
      "Requirement already satisfied: tornado>=4.2 in /srv/app/venv/lib/python3.6/site-packages (from ipykernel>=4.5.1->ipywidgets)\n",
      "Requirement already satisfied: jupyter-client in /srv/app/venv/lib/python3.6/site-packages (from ipykernel>=4.5.1->ipywidgets)\n",
      "Requirement already satisfied: prometheus-client in /srv/app/venv/lib/python3.6/site-packages (from notebook>=4.4.1->widgetsnbextension~=3.2.0->ipywidgets)\n",
      "Requirement already satisfied: terminado>=0.8.1 in /srv/app/venv/lib/python3.6/site-packages (from notebook>=4.4.1->widgetsnbextension~=3.2.0->ipywidgets)\n",
      "Requirement already satisfied: Send2Trash in /srv/app/venv/lib/python3.6/site-packages (from notebook>=4.4.1->widgetsnbextension~=3.2.0->ipywidgets)\n",
      "Requirement already satisfied: jinja2 in /srv/app/venv/lib/python3.6/site-packages (from notebook>=4.4.1->widgetsnbextension~=3.2.0->ipywidgets)\n",
      "Requirement already satisfied: pyzmq>=17 in /srv/app/venv/lib/python3.6/site-packages (from notebook>=4.4.1->widgetsnbextension~=3.2.0->ipywidgets)\n",
      "Requirement already satisfied: nbconvert in /srv/app/venv/lib/python3.6/site-packages (from notebook>=4.4.1->widgetsnbextension~=3.2.0->ipywidgets)\n",
      "Requirement already satisfied: pyrsistent>=0.14.0 in /srv/app/venv/lib/python3.6/site-packages (from jsonschema!=2.5.0,>=2.4->nbformat>=4.2.0->ipywidgets)\n",
      "Requirement already satisfied: importlib-metadata in /srv/app/venv/lib/python3.6/site-packages (from jsonschema!=2.5.0,>=2.4->nbformat>=4.2.0->ipywidgets)\n",
      "Requirement already satisfied: attrs>=17.4.0 in /srv/app/venv/lib/python3.6/site-packages (from jsonschema!=2.5.0,>=2.4->nbformat>=4.2.0->ipywidgets)\n",
      "Requirement already satisfied: parso>=0.5.0 in /srv/app/venv/lib/python3.6/site-packages (from jedi>=0.10->ipython>=4.0.0; python_version >= \"3.3\"->ipywidgets)\n",
      "Requirement already satisfied: wcwidth in /srv/app/venv/lib/python3.6/site-packages (from prompt-toolkit<2.1.0,>=2.0.0->ipython>=4.0.0; python_version >= \"3.3\"->ipywidgets)\n",
      "Requirement already satisfied: ptyprocess>=0.5 in /srv/app/venv/lib/python3.6/site-packages (from pexpect; sys_platform != \"win32\"->ipython>=4.0.0; python_version >= \"3.3\"->ipywidgets)\n",
      "Requirement already satisfied: python-dateutil>=2.1 in /srv/app/venv/lib/python3.6/site-packages (from jupyter-client->ipykernel>=4.5.1->ipywidgets)\n",
      "Requirement already satisfied: MarkupSafe>=0.23 in /srv/app/venv/lib/python3.6/site-packages (from jinja2->notebook>=4.4.1->widgetsnbextension~=3.2.0->ipywidgets)\n",
      "Requirement already satisfied: pandocfilters>=1.4.1 in /srv/app/venv/lib/python3.6/site-packages (from nbconvert->notebook>=4.4.1->widgetsnbextension~=3.2.0->ipywidgets)\n",
      "Requirement already satisfied: mistune<2,>=0.8.1 in /srv/app/venv/lib/python3.6/site-packages (from nbconvert->notebook>=4.4.1->widgetsnbextension~=3.2.0->ipywidgets)\n",
      "Requirement already satisfied: bleach in /srv/app/venv/lib/python3.6/site-packages (from nbconvert->notebook>=4.4.1->widgetsnbextension~=3.2.0->ipywidgets)\n",
      "Requirement already satisfied: entrypoints>=0.2.2 in /srv/app/venv/lib/python3.6/site-packages (from nbconvert->notebook>=4.4.1->widgetsnbextension~=3.2.0->ipywidgets)\n",
      "Requirement already satisfied: defusedxml in /srv/app/venv/lib/python3.6/site-packages (from nbconvert->notebook>=4.4.1->widgetsnbextension~=3.2.0->ipywidgets)\n",
      "Requirement already satisfied: testpath in /srv/app/venv/lib/python3.6/site-packages (from nbconvert->notebook>=4.4.1->widgetsnbextension~=3.2.0->ipywidgets)\n",
      "Requirement already satisfied: zipp>=0.5 in /srv/app/venv/lib/python3.6/site-packages (from importlib-metadata->jsonschema!=2.5.0,>=2.4->nbformat>=4.2.0->ipywidgets)\n",
      "Requirement already satisfied: webencodings in /srv/app/venv/lib/python3.6/site-packages (from bleach->nbconvert->notebook>=4.4.1->widgetsnbextension~=3.2.0->ipywidgets)\n",
      "Requirement already satisfied: more-itertools in /srv/app/venv/lib/python3.6/site-packages (from zipp>=0.5->importlib-metadata->jsonschema!=2.5.0,>=2.4->nbformat>=4.2.0->ipywidgets)\n"
     ]
    }
   ],
   "source": [
    "! pip install ipywidgets\n",
    "# ! jupyter nbextension enable --py widgetsnbextension"
   ]
  },
  {
   "cell_type": "code",
   "execution_count": 4,
   "metadata": {
    "scrolled": true
   },
   "outputs": [],
   "source": [
    "# ! jupyter labextension install @jupyter-widgets/jupyterlab-manager"
   ]
  },
  {
   "cell_type": "code",
   "execution_count": 4,
   "metadata": {},
   "outputs": [],
   "source": [
    "from model import *\n",
    "# import ipywidgets as widgets\n",
    "from ipywidgets import *\n",
    "# from IPython.display import display"
   ]
  },
  {
   "cell_type": "code",
   "execution_count": 5,
   "metadata": {},
   "outputs": [],
   "source": [
    "world = World(25, 25, grass=True, sheep=50, wolves=25)\n",
    "\n",
    "# widgets:\n",
    "ticks = Text(description=\"Ticks:\")\n",
    "sheep = Text(description=\"sheep:\", margin=5, width=\"60px\")\n",
    "wolves = Text(description=\"wolves:\", margin=5, width=\"60px\")\n",
    "grass = Text(description=\"grass/4:\", margin=5, width=\"60px\")\n",
    "canvas = HTML(margin=10)\n",
    "plot = Image()\n",
    "setup_button = Button(description=\"setup\", width=\"47%\", margin=5)\n",
    "go_button = Button(description=\"go\", width=\"47%\", margin=5)\n",
    "grass_checkbox = Checkbox(description=\"grass?\", margin=5)\n",
    "grass_regrowth_time = IntSlider(description=\"grass_regrowth_time:\",\n",
    "                               min=0, max=100, margin=5, width=\"300px\")\n",
    "sheep_slider = IntSlider(description=\"initial_number_sheep:\", min=0, max=250, margin=5, width=\"100px\")\n",
    "wolves_slider = IntSlider(description=\"initial_number_wolves:\", min=0, max=250, margin=5, width=\"100px\")\n",
    "sheep_gain_from_food_slider = IntSlider(description=\"sheep_gain_from_food:\", min=0, max=50, margin=5, width=\"100px\")\n",
    "wolf_gain_from_food_slider = IntSlider(description=\"wolf_gain_from_food:\", min=0, max=100, margin=5, width=\"100px\")\n",
    "sheep_reproduce_slider = FloatSlider(description=\"sheep_reproduce:\", min=0, max=20, margin=5, width=\"100px\")\n",
    "wolf_reproduce_slider = FloatSlider(description=\"wolf_reproduce:\", min=0, max=20, margin=5, width=\"100px\")\n",
    "\n",
    "# layout:\n",
    "row1 = HBox([setup_button, go_button], background_color=\"lightblue\", width=\"100%\")\n",
    "row2 = HBox([grass_checkbox, grass_regrowth_time], background_color=\"lightgreen\", width=\"100%\")\n",
    "row3 = HBox([sheep_slider, wolves_slider], background_color=\"lightgreen\", width=\"100%\")\n",
    "row4 = HBox([sheep_gain_from_food_slider, wolf_gain_from_food_slider, ], background_color=\"lightgreen\", width=\"100%\")\n",
    "row5 = HBox([sheep_reproduce_slider, wolf_reproduce_slider], background_color=\"lightgreen\", width=\"100%\")\n",
    "row61 = HBox([sheep], background_color=\"Khaki\", width=\"100%\")\n",
    "row62 = HBox([wolves], background_color=\"Khaki\", width=\"100%\")\n",
    "row63 = HBox([grass], background_color=\"Khaki\", width=\"100%\")\n",
    "row7 = HBox([plot], width=\"100%\")\n",
    "widgets = HBox([VBox([row1, row2, row3, row4, row5, \n",
    "                      row61, row62, row63, row7], width=\"60%\"), \n",
    "                VBox([ticks, canvas], background_color=\"Khaki\")], width=\"100%\")\n",
    "\n",
    "# update:\n",
    "ticks.value = str(world.ticks)\n",
    "canvas.value = str(world.draw(15))\n",
    "plot.value = world.plot(6.0, 3.0)\n",
    "grass_checkbox.value = world.use_grass\n",
    "grass_regrowth_time.value = world.grass_regrowth_time\n",
    "sheep_slider.value = world.initial_number_sheep\n",
    "wolves_slider.value = world.initial_number_wolves\n",
    "sheep_gain_from_food_slider.value = Sheep.GAIN_FROM_FOOD\n",
    "wolf_gain_from_food_slider.value = Wolf.GAIN_FROM_FOOD\n",
    "sheep_reproduce_slider.value = Sheep.REPRODUCE\n",
    "wolf_reproduce_slider.value = Wolf.REPRODUCE\n",
    "stats = world.get_stats()\n",
    "sheep.value = str(stats[0])\n",
    "wolves.value = str(stats[1])\n",
    "grass.value = str(stats[2])\n",
    "ticks.value = str(world.ticks)\n",
    "\n",
    "def update(args):\n",
    "    if args[\"name\"] != \"value\":\n",
    "        return\n",
    "    owner = args[\"owner\"]\n",
    "    name = args[\"name\"]\n",
    "    value = args[\"new\"]\n",
    "    if owner == grass_checkbox:\n",
    "        world.use_grass = value\n",
    "    elif owner == grass_regrowth_time:\n",
    "        world.grass_regrowth_time = value\n",
    "    elif owner == sheep_slider:\n",
    "        world.initial_number_sheep = value\n",
    "    elif owner == wolves_slider:\n",
    "        world.initial_number_wolves = value\n",
    "    elif owner == sheep_gain_from_food_slider:\n",
    "        Sheep.GAIN_FROM_FOOD = value\n",
    "    elif owner == wolf_gain_from_food_slider:\n",
    "        Wolf.GAIN_FROM_FOOD = value\n",
    "    elif owner == sheep_reproduce_slider:\n",
    "        Sheep.REPRODUCE = value\n",
    "    elif owner == wolf_reproduce_slider:\n",
    "        Wolf.REPRODUCE = value\n",
    "\n",
    "def setup(widgets):\n",
    "    world.setup()\n",
    "    canvas.value = str(world.draw(15))\n",
    "    plot.value = world.plot(6.0, 3.0)\n",
    "    stats = world.get_stats()\n",
    "    sheep.value = str(stats[0])\n",
    "    wolves.value = str(stats[1])\n",
    "    grass.value = str(stats[2])\n",
    "    ticks.value = str(world.ticks)\n",
    "\n",
    "def run(widgets):\n",
    "    global thread\n",
    "    if world.state == \"stopped\":\n",
    "        go_button.description = \"pause\"\n",
    "        w = {\"canvas\": canvas, \"plot\": plot, \"ticks\": ticks, \n",
    "             \"sheep\": sheep, \"wolves\": wolves, \"grass\": grass}\n",
    "        thread = threading.Thread(target=lambda: world.run(w, 6.0, 3.0, 15))\n",
    "        thread.start()\n",
    "    else:\n",
    "        go_button.description = \"go\"\n",
    "        world.state = \"stopped\"\n",
    "        thread.join()\n",
    "        clear_output()\n",
    "    \n",
    "grass_checkbox.observe(update)\n",
    "# FIX:\n",
    "grass_regrowth_time.observe(update)\n",
    "sheep_slider.observe(update)\n",
    "wolves_slider.observe(update)\n",
    "sheep_gain_from_food_slider.observe(update)\n",
    "wolf_gain_from_food_slider.observe(update)\n",
    "sheep_reproduce_slider.observe(update)\n",
    "wolf_reproduce_slider.observe(update)\n",
    "# END OF FIX\n",
    "\n",
    "setup_button.on_click(setup)\n",
    "go_button.on_click(run)"
   ]
  },
  {
   "cell_type": "code",
   "execution_count": 7,
   "metadata": {},
   "outputs": [],
   "source": [
    "widgets"
   ]
  },
  {
   "cell_type": "code",
   "execution_count": null,
   "metadata": {
    "collapsed": true
   },
   "outputs": [],
   "source": [
    "display(html(world.plot(12.0, 6.0)))"
   ]
  },
  {
   "cell_type": "code",
   "execution_count": null,
   "metadata": {
    "collapsed": true
   },
   "outputs": [],
   "source": [
    "display(html(str(world.draw(20))))"
   ]
  },
  {
   "cell_type": "code",
   "execution_count": null,
   "metadata": {},
   "outputs": [],
   "source": []
  }
 ],
 "metadata": {
  "kernelspec": {
   "display_name": "Python 3",
   "language": "python",
   "name": "python3"
  },
  "language_info": {
   "codemirror_mode": {
    "name": "ipython",
    "version": 3
   },
   "file_extension": ".py",
   "mimetype": "text/x-python",
   "name": "python",
   "nbconvert_exporter": "python",
   "pygments_lexer": "ipython3",
   "version": "3.6.8"
  }
 },
 "nbformat": 4,
 "nbformat_minor": 2
}
