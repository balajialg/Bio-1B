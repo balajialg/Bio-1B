{
 "cells": [
  {
   "cell_type": "code",
   "execution_count": null,
   "metadata": {
    "scrolled": true
   },
   "outputs": [],
   "source": [
    "! pip install calysto"
   ]
  },
  {
   "cell_type": "code",
   "execution_count": null,
   "metadata": {
    "scrolled": true
   },
   "outputs": [],
   "source": [
    "! pip install ipywidgets"
   ]
  },
  {
   "cell_type": "code",
   "execution_count": 3,
   "metadata": {},
   "outputs": [],
   "source": [
    "from model import *\n",
    "from ipywidgets import *\n",
    "\n",
    "world = World(25, 25, grass=True, sheep=50, wolves=25)\n",
    "\n",
    "# widgets:\n",
    "ticks = Text(description=\"Ticks:\")\n",
    "sheep = Text(description=\"sheep:\", margin=5, width=\"60px\")\n",
    "wolves = Text(description=\"wolves:\", margin=5, width=\"60px\")\n",
    "grass = Text(description=\"grass/4:\", margin=5, width=\"60px\")\n",
    "canvas = HTML(margin=10)\n",
    "plot = Image()\n",
    "setup_button = Button(description=\"setup\", width=\"47%\", margin=5)\n",
    "go_button = Button(description=\"go\", width=\"47%\", margin=5)\n",
    "grass_checkbox = Checkbox(description=\"grass?\", margin=5)\n",
    "style = {'description_width': 'initial'}\n",
    "grass_regrowth_time = IntSlider(description=\"grass_regrowth_time:\",\n",
    "                                min=0, max=100, margin=5, width=\"300px\", style=style)\n",
    "sheep_slider = IntSlider(description=\"initial_number_sheep:\",\n",
    "                         min=0, max=250, margin=5, width=\"100px\", style=style)\n",
    "wolves_slider = IntSlider(description=\"initial_number_wolves:\",\n",
    "                          min=0, max=250, margin=5, width=\"100px\", style=style)\n",
    "sheep_gain_from_food_slider = IntSlider(description=\"sheep_gain_from_food:\",\n",
    "                                        min=0, max=50, margin=5, width=\"100px\", style=style)\n",
    "wolf_gain_from_food_slider = IntSlider(description=\"wolf_gain_from_food:\",\n",
    "                                       min=0, max=100, margin=5, width=\"100px\", style=style)\n",
    "sheep_reproduce_slider = FloatSlider(description=\"sheep_reproduce:\",\n",
    "                                     min=0, max=20, margin=5, width=\"100px\", style=style)\n",
    "wolf_reproduce_slider = FloatSlider(description=\"wolf_reproduce:\",\n",
    "                                    min=0, max=20, margin=5, width=\"100px\", style=style)\n",
    "\n",
    "# layout:\n",
    "row1 = HBox([setup_button, go_button], background_color=\"lightblue\", width=\"100%\")\n",
    "row2 = HBox([grass_checkbox, grass_regrowth_time], background_color=\"lightgreen\", width=\"100%\")\n",
    "row3 = HBox([sheep_slider, wolves_slider], background_color=\"lightgreen\", width=\"100%\")\n",
    "row4 = HBox([sheep_gain_from_food_slider, wolf_gain_from_food_slider, ], background_color=\"lightgreen\", width=\"100%\")\n",
    "row5 = HBox([sheep_reproduce_slider, wolf_reproduce_slider], background_color=\"lightgreen\", width=\"100%\")\n",
    "row61 = HBox([sheep], background_color=\"Khaki\", width=\"100%\")\n",
    "row62 = HBox([wolves], background_color=\"Khaki\", width=\"100%\")\n",
    "row63 = HBox([grass], background_color=\"Khaki\", width=\"100%\")\n",
    "row7 = HBox([plot], width=\"100%\")\n",
    "widgets = HBox([VBox([row1, row2, row3, row4, row5, \n",
    "                      row61, row62, row63, row7], width=\"60%\"), \n",
    "                VBox([ticks, canvas], background_color=\"Khaki\")], width=\"100%\")\n",
    "\n",
    "# update:\n",
    "ticks.value = str(world.ticks)\n",
    "canvas.value = str(world.draw(15))\n",
    "plot.value = world.plot(6.0, 4.0)\n",
    "grass_checkbox.value = world.use_grass\n",
    "grass_regrowth_time.value = world.grass_regrowth_time\n",
    "sheep_slider.value = world.initial_number_sheep\n",
    "wolves_slider.value = world.initial_number_wolves\n",
    "sheep_gain_from_food_slider.value = Sheep.GAIN_FROM_FOOD\n",
    "wolf_gain_from_food_slider.value = Wolf.GAIN_FROM_FOOD\n",
    "sheep_reproduce_slider.value = Sheep.REPRODUCE\n",
    "wolf_reproduce_slider.value = Wolf.REPRODUCE\n",
    "stats = world.get_stats()\n",
    "sheep.value = str(stats[0])\n",
    "wolves.value = str(stats[1])\n",
    "grass.value = str(stats[2])\n",
    "ticks.value = str(world.ticks)\n",
    "\n",
    "def update(args):\n",
    "    if args[\"name\"] != \"value\":\n",
    "        return\n",
    "    owner = args[\"owner\"]\n",
    "    name = args[\"name\"]\n",
    "    value = args[\"new\"]\n",
    "    if owner == grass_checkbox:\n",
    "        world.use_grass = value\n",
    "    elif owner == grass_regrowth_time:\n",
    "        world.grass_regrowth_time = value\n",
    "    elif owner == sheep_slider:\n",
    "        world.initial_number_sheep = value\n",
    "    elif owner == wolves_slider:\n",
    "        world.initial_number_wolves = value\n",
    "    elif owner == sheep_gain_from_food_slider:\n",
    "        Sheep.GAIN_FROM_FOOD = value\n",
    "    elif owner == wolf_gain_from_food_slider:\n",
    "        Wolf.GAIN_FROM_FOOD = value\n",
    "    elif owner == sheep_reproduce_slider:\n",
    "        Sheep.REPRODUCE = value\n",
    "    elif owner == wolf_reproduce_slider:\n",
    "        Wolf.REPRODUCE = value\n",
    "\n",
    "def setup(widgets):\n",
    "    world.setup()\n",
    "    canvas.value = str(world.draw(15))\n",
    "    plot.value = world.plot(6.0, 4.0)\n",
    "    stats = world.get_stats()\n",
    "    sheep.value = str(stats[0])\n",
    "    wolves.value = str(stats[1])\n",
    "    grass.value = str(stats[2])\n",
    "    ticks.value = str(world.ticks)\n",
    "\n",
    "def run(widgets):\n",
    "    global thread\n",
    "    if world.state == \"stopped\":\n",
    "        go_button.description = \"pause\"\n",
    "        w = {\"canvas\": canvas, \"plot\": plot, \"ticks\": ticks, \n",
    "             \"sheep\": sheep, \"wolves\": wolves, \"grass\": grass}\n",
    "        thread = threading.Thread(target=lambda: world.run(w, 6.0, 4.0, 15))\n",
    "        thread.start()\n",
    "    else:\n",
    "        go_button.description = \"go\"\n",
    "        world.state = \"stopped\"\n",
    "        thread.join()\n",
    "    \n",
    "grass_checkbox.observe(update)\n",
    "grass_regrowth_time.observe(update)\n",
    "sheep_slider.observe(update)\n",
    "wolves_slider.observe(update)\n",
    "sheep_gain_from_food_slider.observe(update)\n",
    "wolf_gain_from_food_slider.observe(update)\n",
    "sheep_reproduce_slider.observe(update)\n",
    "wolf_reproduce_slider.observe(update)\n",
    "\n",
    "setup_button.on_click(setup)\n",
    "go_button.on_click(run)"
   ]
  },
  {
   "cell_type": "code",
   "execution_count": 4,
   "metadata": {
    "scrolled": false
   },
   "outputs": [
    {
     "data": {
      "application/vnd.jupyter.widget-view+json": {
       "model_id": "3ef53875153343679a7d031129dbb5b3",
       "version_major": 2,
       "version_minor": 0
      },
      "text/plain": [
       "HBox(children=(VBox(children=(HBox(children=(Button(description='setup', style=ButtonStyle()), Button(descript…"
      ]
     },
     "metadata": {},
     "output_type": "display_data"
    }
   ],
   "source": [
    "widgets"
   ]
  },
  {
   "cell_type": "code",
   "execution_count": null,
   "metadata": {},
   "outputs": [],
   "source": []
  }
 ],
 "metadata": {
  "kernelspec": {
   "display_name": "Python 3",
   "language": "python",
   "name": "python3"
  },
  "language_info": {
   "codemirror_mode": {
    "name": "ipython",
    "version": 3
   },
   "file_extension": ".py",
   "mimetype": "text/x-python",
   "name": "python",
   "nbconvert_exporter": "python",
   "pygments_lexer": "ipython3",
   "version": "3.6.9"
  }
 },
 "nbformat": 4,
 "nbformat_minor": 2
}
