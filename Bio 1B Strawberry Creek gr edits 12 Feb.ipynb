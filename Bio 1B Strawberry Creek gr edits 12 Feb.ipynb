{
 "cells": [
  {
   "cell_type": "markdown",
   "metadata": {},
   "source": [
    "# Bioindicators of Strawberry Creek\n",
    "### Professors George Roderick, John Huelsenbeck & Alan Shabel\n",
    "_Estimated Time: 50 minutes_"
   ]
  },
  {
   "cell_type": "markdown",
   "metadata": {},
   "source": [
    "Welcome! In this lab you will be using data science tools to examine differences in the ecological health between two branches of Strawberry Creek on the Berkeley Campus."
   ]
  },
  {
   "cell_type": "markdown",
   "metadata": {},
   "source": [
    "<p><a href=\"https://www.bravoyourcity.com/story/cal-secret-spots-strawberry-creek\"><img src=\\\"images/Bridge.png\\\"></a></p>"
   ]
  },
  {
   "cell_type": "markdown",
   "metadata": {},
   "source": [
    "**Learning Outcomes**\n",
    "\n",
    "By the end of the notebook, students should be able to:\n",
    "\n",
    "1. Explain the use of biological organisms as indicators of ecosystem health.\n",
    "2. Interpret biological metrics of diversity: taxon richness, %EPT, biotic index (FBI), % filterers, % predators, Shannon index.\n",
    "3. Use simulated resampling, or permutaions, to determine if means of two distributions are different.\n",
    "4. Apply a p-value to describe statistical significance."
   ]
  },
  {
   "cell_type": "markdown",
   "metadata": {},
   "source": [
    "## Table of Contents \n",
    "\n",
    "1. [Jupyter Notebooks](#1)\n",
    "    - [Types of Cells](#1.1)\n",
    "    - [Running Cells](#1.2)\n",
    "    - [Editting, Saving and Submitting](#1.3)\n",
    "<br/><br/>\n",
    "2. [Data Recording](#2)\n",
    "<br/><br/>\n",
    "3. [Introduction to Data Analytics](#3)\n",
    "    - [Null and Alternate Hypothess](#3.1)\n",
    "    - [Permutation Tests](#3.2)\n",
    "<br/><br/>"
   ]
  },
  {
   "cell_type": "markdown",
   "metadata": {},
   "source": [
    "## Jupyter Notebooks <a id='1'></a>"
   ]
  },
  {
   "cell_type": "markdown",
   "metadata": {},
   "source": [
    "This lab is currently set up in a Jupyter Notebook. A Jupyter Notebook is an online, interactive computing environment, composed of different types of __cells__. Cells are chunks of code or text that are used to break up a larger notebook into smaller, more manageable parts and to let the viewer modify and interact with the elements of the notebook.\n",
    " \n",
    "### Types of cells <a id= '1.1'> </a>\n",
    "\n",
    "There are two types of cells in Jupyter, __code__ cells and __markdown__ cells. Code cells are cells indicated with “In [  ]:” to the left of the cell. In these cells you can write you own code and run the code in the individual cell.\n",
    "Markdown cells hold text a majority of the time and do not have the “In [ ]” to the left of the cell."
   ]
  },
  {
   "cell_type": "markdown",
   "metadata": {},
   "source": [
    "### Running cells <a id= '1.2'> </a>"
   ]
  },
  {
   "cell_type": "markdown",
   "metadata": {},
   "source": [
    "'Running' a cell is similar to pressing 'Enter' on a calculator once you've typed in an expression; it computes all of the expressions contained within the cell.\n",
    "\n",
    "To run a code cell, you can do one of the following:\n",
    "- press __Shift + Enter__\n",
    "- click __Cell -> Run Cells__ in the toolbar at the top of the screen.\n",
    "\n",
    "You can navigate the cells by either clicking on them or by using your up and down arrow keys. Try running the cell below to see what happens. "
   ]
  },
  {
   "cell_type": "code",
   "execution_count": 98,
   "metadata": {},
   "outputs": [
    {
     "name": "stdout",
     "output_type": "stream",
     "text": [
      "Hello, World\n"
     ]
    }
   ],
   "source": [
    "print(\"Hello, World\")"
   ]
  },
  {
   "cell_type": "markdown",
   "metadata": {},
   "source": [
    "The input of the cell consists of the text/code that is contained within the cell's enclosing box. Here, the input is an expression in Python that \"prints\" or repeats whatever text or number is passed in. \n",
    "\n",
    "The output of running a cell is shown in the line immediately after it. Notice that markdown cells have no output. "
   ]
  },
  {
   "cell_type": "markdown",
   "metadata": {},
   "source": [
    "### Editing, Saving and Sumbitting <a id='1.3'> </a>"
   ]
  },
  {
   "cell_type": "markdown",
   "metadata": {},
   "source": [
    "- To __edit__ a cell simply click on the desired cell and begin typing \n",
    "- To __save__ your notebook press _command + s_ on the keyboard \n",
    "- We will go into the specifics of how to __submit__ your work at the end of the lab, but you will essentially be converting copying values for your Lab Report and, if needed, converting your work into a PDF file and then including that in your Lab Report"
   ]
  },
  {
   "cell_type": "markdown",
   "metadata": {},
   "source": [
    "## Introduction"
   ]
  },
  {
   "cell_type": "markdown",
   "metadata": {},
   "source": [
    "<p><a href=\\\"https://en.wikipedia.org/wiki/File:Strawberry_Creek_near_Dwinelle_Hall.jpg\"><img src=\\\"images/Strawberry_Creek.png\\\"></a></p>"
   ]
  },
  {
   "cell_type": "code",
   "execution_count": null,
   "metadata": {},
   "outputs": [],
   "source": []
  },
  {
   "cell_type": "markdown",
   "metadata": {},
   "source": [
    "Throughout this lab you will be using Python to analyze the data that you collected from Strawberry Creek. Python is a general-purpose programming language that allows one to use data analysis methods that simulate data sets that we may not have the resources to collect in real life. \n",
    "\n",
    "The main purpose of this lab is to use biological metrics to determine whether or not the ecological health of the two branches of the creek are significantly different from each other.\n",
    "\n",
    "This next cell imports the Python tools you will need for importing and visualizing your data."
   ]
  },
  {
   "cell_type": "code",
   "execution_count": 99,
   "metadata": {},
   "outputs": [],
   "source": [
    "import numpy as np\n",
    "import pandas as pd\n",
    "import qgrid\n",
    "import ipywidgets as widgets\n",
    "from IPython.display import display\n",
    "import matplotlib.pyplot as plt\n",
    "%matplotlib inline"
   ]
  },
  {
   "cell_type": "markdown",
   "metadata": {},
   "source": [
    "## Data Recording <a id='2'> </a>"
   ]
  },
  {
   "cell_type": "markdown",
   "metadata": {},
   "source": [
    "In this section you will be importing the data you collected in the lab!\n",
    "\n",
    "To import your data you must:\n",
    "1. Open up the desired google sheets form.\n",
    "2. Navigate to the __File__ tab and hover over __Download__.\n",
    "3. From there another drop down tab should appear with differect formats to chose to download the form. Select the __Comma-Separated Values (csv)__ option.  Check to make sure the name of the file is \"SC_data.csv\".\n",
    "4. Upload the file into your datahub folder."
   ]
  },
  {
   "cell_type": "markdown",
   "metadata": {},
   "source": [
    "To import the data set just run the following cell!  If all goes smoothly, you will see the first few rows of your data file."
   ]
  },
  {
   "cell_type": "code",
   "execution_count": 100,
   "metadata": {},
   "outputs": [
    {
     "data": {
      "text/html": [
       "<div>\n",
       "<style scoped>\n",
       "    .dataframe tbody tr th:only-of-type {\n",
       "        vertical-align: middle;\n",
       "    }\n",
       "\n",
       "    .dataframe tbody tr th {\n",
       "        vertical-align: top;\n",
       "    }\n",
       "\n",
       "    .dataframe thead th {\n",
       "        text-align: right;\n",
       "    }\n",
       "</style>\n",
       "<table border=\"1\" class=\"dataframe\">\n",
       "  <thead>\n",
       "    <tr style=\"text-align: right;\">\n",
       "      <th></th>\n",
       "      <th>Group</th>\n",
       "      <th>Fork</th>\n",
       "      <th>Richness</th>\n",
       "      <th>EPT</th>\n",
       "      <th>Filters</th>\n",
       "      <th>Predators</th>\n",
       "      <th>FBI</th>\n",
       "      <th>Shannon</th>\n",
       "    </tr>\n",
       "  </thead>\n",
       "  <tbody>\n",
       "    <tr>\n",
       "      <th>0</th>\n",
       "      <td>1</td>\n",
       "      <td>North</td>\n",
       "      <td>8</td>\n",
       "      <td>32</td>\n",
       "      <td>36</td>\n",
       "      <td>6</td>\n",
       "      <td>5.52</td>\n",
       "      <td>0.9</td>\n",
       "    </tr>\n",
       "    <tr>\n",
       "      <th>1</th>\n",
       "      <td>2</td>\n",
       "      <td>North</td>\n",
       "      <td>7</td>\n",
       "      <td>42</td>\n",
       "      <td>36</td>\n",
       "      <td>6</td>\n",
       "      <td>5.14</td>\n",
       "      <td>0.9</td>\n",
       "    </tr>\n",
       "    <tr>\n",
       "      <th>2</th>\n",
       "      <td>3</td>\n",
       "      <td>North</td>\n",
       "      <td>7</td>\n",
       "      <td>40</td>\n",
       "      <td>62</td>\n",
       "      <td>2</td>\n",
       "      <td>5.28</td>\n",
       "      <td>0.4</td>\n",
       "    </tr>\n",
       "    <tr>\n",
       "      <th>3</th>\n",
       "      <td>4</td>\n",
       "      <td>North</td>\n",
       "      <td>6</td>\n",
       "      <td>50</td>\n",
       "      <td>65</td>\n",
       "      <td>0</td>\n",
       "      <td>5.48</td>\n",
       "      <td>0.5</td>\n",
       "    </tr>\n",
       "    <tr>\n",
       "      <th>4</th>\n",
       "      <td>5</td>\n",
       "      <td>North</td>\n",
       "      <td>6</td>\n",
       "      <td>30</td>\n",
       "      <td>66</td>\n",
       "      <td>0</td>\n",
       "      <td>5.18</td>\n",
       "      <td>1.0</td>\n",
       "    </tr>\n",
       "  </tbody>\n",
       "</table>\n",
       "</div>"
      ],
      "text/plain": [
       "   Group   Fork  Richness  EPT  Filters  Predators   FBI  Shannon\n",
       "0      1  North         8   32       36          6  5.52      0.9\n",
       "1      2  North         7   42       36          6  5.14      0.9\n",
       "2      3  North         7   40       62          2  5.28      0.4\n",
       "3      4  North         6   50       65          0  5.48      0.5\n",
       "4      5  North         6   30       66          0  5.18      1.0"
      ]
     },
     "execution_count": 100,
     "metadata": {},
     "output_type": "execute_result"
    }
   ],
   "source": [
    "#if you don't want a line of code to run, put a # before the line, like this one\n",
    "#data = pd.read_csv(\"data set name\")\n",
    "data = pd.read_csv(\"SC_data.csv\")\n",
    "data.head()"
   ]
  },
  {
   "cell_type": "markdown",
   "metadata": {},
   "source": [
    "__QGrid__"
   ]
  },
  {
   "cell_type": "markdown",
   "metadata": {},
   "source": [
    "We will be using a Python widget called QGrid to manupulate the data. QGrid allows you to easily examine the different columns of data in your data set and filter your data. To implement Qgrid on your data set run the following cell!"
   ]
  },
  {
   "cell_type": "code",
   "execution_count": 101,
   "metadata": {},
   "outputs": [
    {
     "data": {
      "application/vnd.jupyter.widget-view+json": {
       "model_id": "ed903076ccdc48acad19eb4b0aaac31e",
       "version_major": 2,
       "version_minor": 0
      },
      "text/plain": [
       "QgridWidget(grid_options={'fullWidthRows': True, 'syncColumnCellResize': True, 'forceFitColumns': True, 'defau…"
      ]
     },
     "metadata": {},
     "output_type": "display_data"
    }
   ],
   "source": [
    "qgrid.show_grid(data)\n",
    "#data.describe()"
   ]
  },
  {
   "cell_type": "markdown",
   "metadata": {},
   "source": [
    "To the right of each column title there is a little filter icon that displays a drop down bar when you click on it. From here you can choose which items or numbers you would like to include in you data set. Here, we will continue with all the data.\n",
    "\n",
    "At this point, it is good to look at your data frame and make sure it is organized in the way you thought it should be.  If it is not the way it should be, go back to your excel file or google sheet, make changes, save to a .csv file, and upload the .csv file again."
   ]
  },
  {
   "cell_type": "markdown",
   "metadata": {},
   "source": [
    "## Introduction to Data Analytics <a id= '3'> </a>"
   ]
  },
  {
   "cell_type": "markdown",
   "metadata": {},
   "source": [
    "### Null Hypothesis vs. Alternate Hypothesis <a id='3.1'> </a>\n",
    "\n",
    "One of the first problems to work through when looking at a data set is to determine whether or not the trends in the data are significant or purely due to random chance, including measurement error. In this particular lab we are trying to determine whether or not the difference between the ecological health of the two branches of the creek are significantly different from each other or not. To do this we begin by forming a null hypothesis and an alternative hypothesis to test. \n",
    "\n",
    "__Null Hypothesis__: A null hypothesis claims that there is no statistical difference between two distributions and that any difference is due to experimental error, measurement error, or chance.\n",
    "\n",
    "__Alternative Hypothesis__: An alternative hypothesis essentially counters the null hypothesis and claims that the difference between distributions is meaningful, or significant."
   ]
  },
  {
   "cell_type": "markdown",
   "metadata": {},
   "source": [
    "__Discussion Questions__"
   ]
  },
  {
   "cell_type": "markdown",
   "metadata": {},
   "source": [
    "**What would be a potential null hypothesis for this lab?**"
   ]
  },
  {
   "cell_type": "markdown",
   "metadata": {},
   "source": [
    "_Type your answer here_"
   ]
  },
  {
   "cell_type": "markdown",
   "metadata": {},
   "source": [
    "**What would be a potential alternative hypothesis?**"
   ]
  },
  {
   "cell_type": "markdown",
   "metadata": {},
   "source": [
    "_Type your answer here_"
   ]
  },
  {
   "cell_type": "markdown",
   "metadata": {},
   "source": [
    "First, let's look at the data.  Run the next cell to look at the FBI data you collected for the two forks."
   ]
  },
  {
   "cell_type": "code",
   "execution_count": 102,
   "metadata": {},
   "outputs": [
    {
     "data": {
      "image/png": "[encoded data removed]",
      "text/plain": [
       "<Figure size 432x288 with 1 Axes>"
      ]
     },
     "metadata": {
      "needs_background": "light"
     },
     "output_type": "display_data"
    }
   ],
   "source": [
    "dataNorth = data[:10]\n",
    "dataSouth = data[10:]\n",
    "\n",
    "plt.hist(dataNorth['FBI'], color='blue', alpha=0.5, label='North')\n",
    "plt.hist(dataSouth['FBI'], color='gold', alpha=0.5, label='South')\n",
    "\n",
    "plt.axvline(dataNorth['FBI'].mean(), color='blue', label='Mean North')\n",
    "plt.axvline(dataSouth['FBI'].mean(), color='gold', label='Mean South')\n",
    "\n",
    "plt.xlabel('FBI')\n",
    "plt.ylabel('Observations')\n",
    "plt.legend();"
   ]
  },
  {
   "cell_type": "markdown",
   "metadata": {},
   "source": [
    "First, we need to calculate the observed difference in means of FBI between Forks for the actual data you collected.  The means are denoted by the vertical lines.\n",
    "\n",
    "Run the cell below to see the observed difference in FBI means between the two samples."
   ]
  },
  {
   "cell_type": "code",
   "execution_count": 103,
   "metadata": {},
   "outputs": [
    {
     "name": "stdout",
     "output_type": "stream",
     "text": [
      "Observed difference between the means for FBI of the original two distributions = \n"
     ]
    },
    {
     "data": {
      "text/plain": [
       "1.9439999999999995"
      ]
     },
     "execution_count": 103,
     "metadata": {},
     "output_type": "execute_result"
    }
   ],
   "source": [
    "observed_difference = data[data['Fork']=='North'].mean() - data[data['Fork']=='South'].mean()\n",
    "print(\"Observed difference between the means for FBI of the original two distributions = \")\n",
    "observed_difference['FBI']"
   ]
  },
  {
   "cell_type": "markdown",
   "metadata": {},
   "source": [
    "The next step is to see if this difference is likely to have arisen by chance alone. Theoretically, if the differences in distributions were solely due to random chance including measurement error, then the data that two distributions originally come from would be the same. This is where permutation tests come in to play."
   ]
  },
  {
   "cell_type": "markdown",
   "metadata": {},
   "source": [
    "### Permutation Test <a id='3.2'> </a>"
   ]
  },
  {
   "cell_type": "markdown",
   "metadata": {},
   "source": [
    "A permutation test essentially shuffles the given data set among categories and creates new distributions. In this case, we are using a permutation test to shuffle the difference in ecological health of the two creeks. As was previously mentioned, a permutation test simulates the null hypothesis because it assumes that there is no significant difference between the distributions. "
   ]
  },
  {
   "cell_type": "markdown",
   "metadata": {},
   "source": [
    "A permutation test essentially shuffles the given data set and creates new distributions, with the same size as the original data. In this case, we are using a permutation test to shuffle measurements randomly between categories of North and South Forks. We end up with the same size data set and with the the same number of observations in each category as we had when we started, but the data have been shuffled between categories. We then calculate the mean for each of the two new distributions and compare those means. \n",
    "\n",
    "Run the cell below to generate a permutation of the data and to calculate the difference between in means for the FBI index for each of the two new shuffled distributions.  "
   ]
  },
  {
   "cell_type": "code",
   "execution_count": 104,
   "metadata": {},
   "outputs": [
    {
     "name": "stdout",
     "output_type": "stream",
     "text": [
      "Difference between the means of the two distributions after one permutation = \n"
     ]
    },
    {
     "data": {
      "text/plain": [
       "FBI   -0.124\n",
       "dtype: float64"
      ]
     },
     "execution_count": 104,
     "metadata": {},
     "output_type": "execute_result"
    },
    {
     "data": {
      "image/png": "[encoded data removed]",
      "text/plain": [
       "<Figure size 432x288 with 1 Axes>"
      ]
     },
     "metadata": {
      "needs_background": "light"
     },
     "output_type": "display_data"
    }
   ],
   "source": [
    "perm_example = pd.DataFrame({\n",
    "    'FBI':data['FBI'].sample(len(data['FBI'])),\n",
    "    'Fork':np.append(np.repeat('North', 10), np.repeat('South', 10))\n",
    "})\n",
    "#perm_example\n",
    "\n",
    "dataNorth = perm_example[:10]\n",
    "dataSouth = perm_example[10:]\n",
    "\n",
    "plt.hist(dataNorth['FBI'] , color='blue', alpha=0.5, label='North')\n",
    "plt.hist(dataSouth['FBI'], color='gold', alpha=0.5, label='South')\n",
    "\n",
    "plt.axvline(dataNorth['FBI'].mean(), color='blue', label='Mean North')\n",
    "plt.axvline(dataSouth['FBI'].mean(), color='gold', label='Mean South')\n",
    "\n",
    "plt.xlabel('FBI')\n",
    "plt.ylabel('Observations')\n",
    "plt.legend();\n",
    "\n",
    "perm_difference = perm_example[perm_example['Fork']=='North'].mean() - perm_example[perm_example['Fork']=='South'].mean()\n",
    "print(\"Difference between the means of the two distributions after one permutation = \")\n",
    "perm_difference"
   ]
  },
  {
   "cell_type": "markdown",
   "metadata": {},
   "source": [
    "You can run the cell above again several times and each time you will see that each permutation will give a slightly different set of distributions and slightly different means. Why?"
   ]
  },
  {
   "cell_type": "markdown",
   "metadata": {},
   "source": [
    "This is just for one permutation of the data. Now we perform the permutation test many more times, and with these values we can plot the distribution of differences between means for each permutaion. Using this distribution of simulated differences, we can compare it with our actual observed difference to see how likely it is to observe this difference and if our null hypotheis is true."
   ]
  },
  {
   "cell_type": "code",
   "execution_count": 105,
   "metadata": {},
   "outputs": [
    {
     "data": {
      "image/png": "[encoded data removed]",
      "text/plain": [
       "<Figure size 432x288 with 1 Axes>"
      ]
     },
     "metadata": {
      "needs_background": "light"
     },
     "output_type": "display_data"
    }
   ],
   "source": [
    "def difference_in_means(fbi_scores):\n",
    "    return np.mean(fbi_scores[:10]) - np.mean(fbi_scores[10:])\n",
    "\n",
    "n_repeats = 1000\n",
    "permutation_differences = []\n",
    "for i in range(n_repeats):\n",
    "    permutation = data['FBI'].sample(len(data['FBI']))\n",
    "    new_difference = difference_in_means(permutation)\n",
    "    permutation_differences.append(new_difference)\n",
    "    \n",
    "#permutation_differences\n",
    "\n",
    "plt.hist(permutation_differences)\n",
    "plt.axvline(observed_difference[\"FBI\"], color='red', label='Observed Difference')\n",
    "plt.xlabel('Differences in Mean FBI from 1000 Permutations')\n",
    "plt.ylabel('Count of Outcomes')\n",
    "plt.legend();"
   ]
  },
  {
   "cell_type": "markdown",
   "metadata": {},
   "source": [
    "Using this plot, we can guess if the null hypothesis is true (the observed difference between the two branches is due to random chance) or if the alternative hypothesis is true (that it is not due to chance alone).\n",
    "\n",
    "If you run the cell above several times, you will see that the resampling is slightly different each time, but the overall result is the same."
   ]
  },
  {
   "cell_type": "markdown",
   "metadata": {},
   "source": [
    "__Discussion Question__"
   ]
  },
  {
   "cell_type": "markdown",
   "metadata": {},
   "source": [
    "**How likely is it for the observed difference to occur, and can we reject the null hypothesis?**"
   ]
  },
  {
   "cell_type": "markdown",
   "metadata": {},
   "source": [
    "_Type your answer here_"
   ]
  },
  {
   "cell_type": "markdown",
   "metadata": {},
   "source": [
    "__P-value & Statistical Significance__"
   ]
  },
  {
   "cell_type": "markdown",
   "metadata": {},
   "source": [
    "Now that we have a distribution of what the differences in FBI Scores generally look like, we can calculate the p-value to determine how probable it is for the observed_differnce to occur. To calculate the p-value we count the number of times the difference is more extreme or equal to the observed difference in the bootstrapped distribution and divide it by the total amount of bootstrap repetitions. Note that for some hypotheses the observed value may be on the left side of the distribution and for others, the right."
   ]
  },
  {
   "cell_type": "code",
   "execution_count": 106,
   "metadata": {
    "scrolled": true
   },
   "outputs": [
    {
     "name": "stdout",
     "output_type": "stream",
     "text": [
      "p-value = \n"
     ]
    },
    {
     "data": {
      "text/plain": [
       "0.0"
      ]
     },
     "execution_count": 106,
     "metadata": {},
     "output_type": "execute_result"
    }
   ],
   "source": [
    "p_val_count = sum(i >= observed_difference[\"FBI\"] for i in permutation_differences)/len(permutation_differences)\n",
    "print(\"p-value = \")\n",
    "p_val_count\n"
   ]
  },
  {
   "cell_type": "markdown",
   "metadata": {},
   "source": [
    "If the p-value is small, it implies that it is very unlikely for this statistic to occur under the null hypothesis and we say we “reject the null hypothesis”. Otherwise, if the p-value is large, it implies that the observed test statistic has a high likelihood of occurring under the null and we say we “fail to reject the null hypothesis”. \n",
    "\n",
    "A conventional cut-off for p-values is 0.05 or 5%. If the p-value is less than or equal to 5%, then the p-value is deemed “statistically significant”. Here, the p-value is larger than that. We will discuss p-values more in lab."
   ]
  },
  {
   "cell_type": "markdown",
   "metadata": {},
   "source": [
    "__Discussion Question__"
   ]
  },
  {
   "cell_type": "markdown",
   "metadata": {},
   "source": [
    "__Using the calculated p-value above, do we reject the null hypothesis or fail to reject the null hypothesis? Why?__"
   ]
  },
  {
   "cell_type": "markdown",
   "metadata": {},
   "source": [
    "_type answer here_"
   ]
  },
  {
   "cell_type": "markdown",
   "metadata": {},
   "source": [
    "### Your data<a id='4'> </a>"
   ]
  },
  {
   "cell_type": "markdown",
   "metadata": {},
   "source": [
    "Next, you will calculate the mean differences for each of the metrics you measured.  Run the next cell for the observerd differences between forks for each of the biological measures."
   ]
  },
  {
   "cell_type": "code",
   "execution_count": 107,
   "metadata": {},
   "outputs": [
    {
     "data": {
      "text/plain": [
       "Group         0.000\n",
       "Richness     -1.000\n",
       "EPT         -12.300\n",
       "Filters      21.300\n",
       "Predators   -37.700\n",
       "FBI           1.944\n",
       "Shannon      -0.495\n",
       "dtype: float64"
      ]
     },
     "execution_count": 107,
     "metadata": {},
     "output_type": "execute_result"
    }
   ],
   "source": [
    "observed_difference = data[data['Fork']=='North'].mean() - data[data['Fork']=='South'].mean()\n",
    "observed_difference"
   ]
  },
  {
   "cell_type": "markdown",
   "metadata": {},
   "source": [
    "Let's start with the FBI index, which you just did.  The next cell runs the permutations, graphs the data, and calculates a p-value, just like for the sample data above. We will do each of the measurements in turn."
   ]
  },
  {
   "cell_type": "code",
   "execution_count": 108,
   "metadata": {},
   "outputs": [
    {
     "data": {
      "image/png": "[encoded data removed]",
      "text/plain": [
       "<Figure size 432x288 with 1 Axes>"
      ]
     },
     "metadata": {
      "needs_background": "light"
     },
     "output_type": "display_data"
    }
   ],
   "source": [
    "dataNorth = data[:10]\n",
    "dataSouth = data[10:]\n",
    "\n",
    "plt.hist(dataNorth['FBI'], color='blue', alpha=0.5, label='North')\n",
    "plt.hist(dataSouth['FBI'], color='gold', alpha=0.5, label='South')\n",
    "\n",
    "plt.axvline(dataNorth['FBI'].mean(), color='blue', label='Mean North')\n",
    "plt.axvline(dataSouth['FBI'].mean(), color='gold', label='Mean South')\n",
    "\n",
    "plt.xlabel('FBI')\n",
    "plt.ylabel('Observations')\n",
    "plt.legend();"
   ]
  },
  {
   "cell_type": "code",
   "execution_count": 118,
   "metadata": {},
   "outputs": [
    {
     "data": {
      "text/plain": [
       "0.0"
      ]
     },
     "execution_count": 118,
     "metadata": {},
     "output_type": "execute_result"
    },
    {
     "data": {
      "image/png": "[encoded data removed]",
      "text/plain": [
       "<Figure size 432x288 with 1 Axes>"
      ]
     },
     "metadata": {
      "needs_background": "light"
     },
     "output_type": "display_data"
    }
   ],
   "source": [
    "def difference_in_means(SC_scores):\n",
    "    return np.mean(SC_scores[:10]) - np.mean(SC_scores[10:])\n",
    "\n",
    "n_repeats = 1000\n",
    "permutation_differences = []\n",
    "for i in range(n_repeats):\n",
    "    permutation = data['FBI'].sample(len(data['FBI']))\n",
    "    new_difference = difference_in_means(permutation)\n",
    "    permutation_differences.append(new_difference)\n",
    "    \n",
    "plt.hist(permutation_differences)\n",
    "plt.axvline(observed_difference[\"FBI\"], color='red', label='Observed Difference')\n",
    "plt.xlabel('FBI Difference in Means')\n",
    "plt.legend();\n",
    "\n",
    "p_val_count = sum(i >= observed_difference[\"FBI\"] for i in permutation_differences)/len(permutation_differences)\n",
    "p_val_count\n",
    "    \n",
    "#permutation_differences\n",
    "\n"
   ]
  },
  {
   "cell_type": "markdown",
   "metadata": {},
   "source": [
    "Now, it is easy to do repeat the same analysis for each of the other biological measures you collected in the lab.  Note, that for the p-value, if the observed difference is on the _left_ side of the distribution, you are interested in how many permutations were more extreme on the _left_ side.  In the code, we will have to change the <= sign in the line i >= observed_difference[\"measure\"] to i <= observed_difference[\"measure\"].  We have tried to make these edits for you already.\n",
    "\n",
    "One of the values of using a Notebook, is that it makes repeating the same process easy and repeatable."
   ]
  },
  {
   "cell_type": "markdown",
   "metadata": {},
   "source": [
    "Next we will look at Richness."
   ]
  },
  {
   "cell_type": "code",
   "execution_count": 110,
   "metadata": {},
   "outputs": [
    {
     "data": {
      "image/png": "[encoded data removed]",
      "text/plain": [
       "<Figure size 432x288 with 1 Axes>"
      ]
     },
     "metadata": {
      "needs_background": "light"
     },
     "output_type": "display_data"
    }
   ],
   "source": [
    "dataNorth = data[:10]\n",
    "dataSouth = data[10:]\n",
    "\n",
    "plt.hist(dataNorth['Richness'], color='blue', alpha=0.5, label='North')\n",
    "plt.hist(dataSouth['Richness'], color='gold', alpha=0.5, label='South')\n",
    "\n",
    "plt.axvline(dataNorth['Richness'].mean(), color='blue', label='Mean North')\n",
    "plt.axvline(dataSouth['Richness'].mean(), color='gold', label='Mean South')\n",
    "\n",
    "plt.xlabel('Richness')\n",
    "plt.ylabel('Observations')\n",
    "plt.legend();"
   ]
  },
  {
   "cell_type": "code",
   "execution_count": 111,
   "metadata": {},
   "outputs": [
    {
     "data": {
      "text/plain": [
       "0.039"
      ]
     },
     "execution_count": 111,
     "metadata": {},
     "output_type": "execute_result"
    },
    {
     "data": {
      "image/png": "[encoded data removed]",
      "text/plain": [
       "<Figure size 432x288 with 1 Axes>"
      ]
     },
     "metadata": {
      "needs_background": "light"
     },
     "output_type": "display_data"
    }
   ],
   "source": [
    "def difference_in_means(SC_scores):\n",
    "    return np.mean(SC_scores[:10]) - np.mean(SC_scores[10:])\n",
    "\n",
    "n_repeats = 1000\n",
    "permutation_differences = []\n",
    "for i in range(n_repeats):\n",
    "    permutation = data['Richness'].sample(len(data['Richness']))\n",
    "    new_difference = difference_in_means(permutation)\n",
    "    permutation_differences.append(new_difference)\n",
    "    \n",
    "plt.hist(permutation_differences)\n",
    "plt.axvline(observed_difference[\"Richness\"], color='red', label='Observed Difference')\n",
    "plt.xlabel('Richness Difference in Means')\n",
    "plt.legend();\n",
    "\n",
    "p_val_count = sum(i <= observed_difference[\"Richness\"] for i in permutation_differences)/len(permutation_differences)\n",
    "p_val_count"
   ]
  },
  {
   "cell_type": "markdown",
   "metadata": {},
   "source": [
    "EPT"
   ]
  },
  {
   "cell_type": "code",
   "execution_count": 112,
   "metadata": {},
   "outputs": [
    {
     "data": {
      "image/png": "[encoded data removed]",
      "text/plain": [
       "<Figure size 432x288 with 1 Axes>"
      ]
     },
     "metadata": {
      "needs_background": "light"
     },
     "output_type": "display_data"
    }
   ],
   "source": [
    "dataNorth = data[:10]\n",
    "dataSouth = data[10:]\n",
    "\n",
    "plt.hist(dataNorth['EPT'], color='blue', alpha=0.5, label='North')\n",
    "plt.hist(dataSouth['EPT'], color='gold', alpha=0.5, label='South')\n",
    "\n",
    "plt.axvline(dataNorth['EPT'].mean(), color='blue', label='Mean North')\n",
    "plt.axvline(dataSouth['EPT'].mean(), color='gold', label='Mean South')\n",
    "\n",
    "plt.xlabel('EPT')\n",
    "plt.ylabel('Observations')\n",
    "plt.legend();"
   ]
  },
  {
   "cell_type": "code",
   "execution_count": 113,
   "metadata": {},
   "outputs": [
    {
     "data": {
      "text/plain": [
       "0.0"
      ]
     },
     "execution_count": 113,
     "metadata": {},
     "output_type": "execute_result"
    },
    {
     "data": {
      "image/png": "[encoded data removed]",
      "text/plain": [
       "<Figure size 432x288 with 1 Axes>"
      ]
     },
     "metadata": {
      "needs_background": "light"
     },
     "output_type": "display_data"
    }
   ],
   "source": [
    "def difference_in_means(SC_scores):\n",
    "    return np.mean(SC_scores[:10]) - np.mean(SC_scores[10:])\n",
    "\n",
    "n_repeats = 1000\n",
    "permutation_differences = []\n",
    "for i in range(n_repeats):\n",
    "    permutation = data['EPT'].sample(len(data['EPT']))\n",
    "    new_difference = difference_in_means(permutation)\n",
    "    permutation_differences.append(new_difference)\n",
    "    \n",
    "plt.hist(permutation_differences)\n",
    "plt.axvline(observed_difference[\"EPT\"], color='red', label='Observed Difference')\n",
    "plt.xlabel('EPT Difference in Means')\n",
    "plt.legend();\n",
    "\n",
    "p_val_count = sum(i <= observed_difference[\"EPT\"] for i in permutation_differences)/len(permutation_differences)\n",
    "p_val_count"
   ]
  },
  {
   "cell_type": "code",
   "execution_count": 114,
   "metadata": {},
   "outputs": [
    {
     "ename": "NameError",
     "evalue": "name 'Filters' is not defined",
     "output_type": "error",
     "traceback": [
      "\u001b[0;31m---------------------------------------------------------------------------\u001b[0m",
      "\u001b[0;31mNameError\u001b[0m                                 Traceback (most recent call last)",
      "\u001b[0;32m<ipython-input-114-395e0d4eb5f8>\u001b[0m in \u001b[0;36m<module>\u001b[0;34m\u001b[0m\n\u001b[0;32m----> 1\u001b[0;31m \u001b[0mFilters\u001b[0m\u001b[0;34m\u001b[0m\u001b[0;34m\u001b[0m\u001b[0m\n\u001b[0m",
      "\u001b[0;31mNameError\u001b[0m: name 'Filters' is not defined"
     ]
    }
   ],
   "source": [
    "Filters"
   ]
  },
  {
   "cell_type": "code",
   "execution_count": null,
   "metadata": {},
   "outputs": [],
   "source": [
    "dataNorth = data[:10]\n",
    "dataSouth = data[10:]\n",
    "\n",
    "plt.hist(dataNorth['Filters'], color='blue', alpha=0.5, label='North')\n",
    "plt.hist(dataSouth['Filters'], color='gold', alpha=0.5, label='South')\n",
    "\n",
    "plt.axvline(dataNorth['Filters'].mean(), color='blue', label='Mean North')\n",
    "plt.axvline(dataSouth['Filters'].mean(), color='gold', label='Mean South')\n",
    "\n",
    "plt.xlabel('Filters')\n",
    "plt.ylabel('Observations')\n",
    "plt.legend();"
   ]
  },
  {
   "cell_type": "code",
   "execution_count": null,
   "metadata": {},
   "outputs": [],
   "source": [
    "def difference_in_means(SC_scores):\n",
    "    return np.mean(SC_scores[:10]) - np.mean(SC_scores[10:])\n",
    "\n",
    "n_repeats = 1000\n",
    "permutation_differences = []\n",
    "for i in range(n_repeats):\n",
    "    permutation = data['Filters'].sample(len(data['Filters']))\n",
    "    new_difference = difference_in_means(permutation)\n",
    "    permutation_differences.append(new_difference)\n",
    "    \n",
    "plt.hist(permutation_differences)\n",
    "plt.axvline(observed_difference[\"Filters\"], color='red', label='Observed Difference')\n",
    "plt.xlabel('Filters Difference in Means')\n",
    "plt.legend();\n",
    "\n",
    "p_val_count = sum(i >= observed_difference[\"Filters\"] for i in permutation_differences)/len(permutation_differences)\n",
    "p_val_count"
   ]
  },
  {
   "cell_type": "markdown",
   "metadata": {},
   "source": [
    "Predators"
   ]
  },
  {
   "cell_type": "code",
   "execution_count": null,
   "metadata": {},
   "outputs": [],
   "source": [
    "dataNorth = data[:10]\n",
    "dataSouth = data[10:]\n",
    "\n",
    "plt.hist(dataNorth['Predators'], color='blue', alpha=0.5, label='North')\n",
    "plt.hist(dataSouth['Predators'], color='gold', alpha=0.5, label='South')\n",
    "\n",
    "plt.axvline(dataNorth['Predators'].mean(), color='blue', label='Mean North')\n",
    "plt.axvline(dataSouth['Predators'].mean(), color='gold', label='Mean South')\n",
    "\n",
    "plt.xlabel('Predators')\n",
    "plt.ylabel('Observations')\n",
    "plt.legend();"
   ]
  },
  {
   "cell_type": "code",
   "execution_count": 115,
   "metadata": {},
   "outputs": [
    {
     "data": {
      "text/plain": [
       "0.0"
      ]
     },
     "execution_count": 115,
     "metadata": {},
     "output_type": "execute_result"
    },
    {
     "data": {
      "image/png": "[encoded data removed]",
      "text/plain": [
       "<Figure size 432x288 with 1 Axes>"
      ]
     },
     "metadata": {
      "needs_background": "light"
     },
     "output_type": "display_data"
    }
   ],
   "source": [
    "def difference_in_means(SC_scores):\n",
    "    return np.mean(SC_scores[:10]) - np.mean(SC_scores[10:])\n",
    "\n",
    "n_repeats = 1000\n",
    "permutation_differences = []\n",
    "for i in range(n_repeats):\n",
    "    permutation = data['Predators'].sample(len(data['Predators']))\n",
    "    new_difference = difference_in_means(permutation)\n",
    "    permutation_differences.append(new_difference)\n",
    "    \n",
    "plt.hist(permutation_differences)\n",
    "plt.axvline(observed_difference[\"Predators\"], color='red', label='Observed Difference')\n",
    "plt.xlabel('Predators Difference in Means')\n",
    "plt.legend();\n",
    "\n",
    "p_val_count = sum(i <= observed_difference[\"Predators\"] for i in permutation_differences)/len(permutation_differences)\n",
    "p_val_count"
   ]
  },
  {
   "cell_type": "markdown",
   "metadata": {},
   "source": [
    "Shannon"
   ]
  },
  {
   "cell_type": "code",
   "execution_count": 116,
   "metadata": {},
   "outputs": [
    {
     "data": {
      "image/png": "[encoded data removed]",
      "text/plain": [
       "<Figure size 432x288 with 1 Axes>"
      ]
     },
     "metadata": {
      "needs_background": "light"
     },
     "output_type": "display_data"
    }
   ],
   "source": [
    "dataNorth = data[:10]\n",
    "dataSouth = data[10:]\n",
    "\n",
    "plt.hist(dataNorth['Shannon'], color='blue', alpha=0.5, label='North')\n",
    "plt.hist(dataSouth['Shannon'], color='gold', alpha=0.5, label='South')\n",
    "\n",
    "plt.axvline(dataNorth['Shannon'].mean(), color='blue', label='Mean North')\n",
    "plt.axvline(dataSouth['Shannon'].mean(), color='gold', label='Mean South')\n",
    "\n",
    "plt.xlabel('Shannon')\n",
    "plt.ylabel('Observations')\n",
    "plt.legend();"
   ]
  },
  {
   "cell_type": "code",
   "execution_count": 117,
   "metadata": {},
   "outputs": [
    {
     "data": {
      "text/plain": [
       "0.0"
      ]
     },
     "execution_count": 117,
     "metadata": {},
     "output_type": "execute_result"
    },
    {
     "data": {
      "image/png": "[encoded data removed]",
      "text/plain": [
       "<Figure size 432x288 with 1 Axes>"
      ]
     },
     "metadata": {
      "needs_background": "light"
     },
     "output_type": "display_data"
    }
   ],
   "source": [
    "def difference_in_means(SC_scores):\n",
    "    return np.mean(SC_scores[:10]) - np.mean(SC_scores[10:])\n",
    "\n",
    "n_repeats = 1000\n",
    "permutation_differences = []\n",
    "for i in range(n_repeats):\n",
    "    permutation = data['Shannon'].sample(len(data['Shannon']))\n",
    "    new_difference = difference_in_means(permutation)\n",
    "    permutation_differences.append(new_difference)\n",
    "    \n",
    "plt.hist(permutation_differences)\n",
    "plt.axvline(observed_difference[\"Shannon\"], color='red', label='Observed Difference')\n",
    "plt.xlabel('Shannon Difference in Means')\n",
    "plt.legend();\n",
    "\n",
    "p_val_count = sum(i <= observed_difference[\"Shannon\"] for i in permutation_differences)/len(permutation_differences)\n",
    "p_val_count"
   ]
  },
  {
   "cell_type": "markdown",
   "metadata": {},
   "source": [
    "## Submitting the Lab"
   ]
  },
  {
   "cell_type": "markdown",
   "metadata": {},
   "source": [
    "## Bibliography "
   ]
  },
  {
   "cell_type": "markdown",
   "metadata": {},
   "source": [
    "---\n",
    "\n",
    "Notebook developed by: Joshua Asuncion, Karalyn Chong, Andy Sheu\n",
    "\n",
    "Data Science Modules: http://data.berkeley.edu/education/modules"
   ]
  },
  {
   "cell_type": "code",
   "execution_count": null,
   "metadata": {},
   "outputs": [],
   "source": []
  }
 ],
 "metadata": {
  "kernelspec": {
   "display_name": "Python 3",
   "language": "python",
   "name": "python3"
  },
  "language_info": {
   "codemirror_mode": {
    "name": "ipython",
    "version": 3
   },
   "file_extension": ".py",
   "mimetype": "text/x-python",
   "name": "python",
   "nbconvert_exporter": "python",
   "pygments_lexer": "ipython3",
   "version": "3.6.9"
  }
 },
 "nbformat": 4,
 "nbformat_minor": 2
}
