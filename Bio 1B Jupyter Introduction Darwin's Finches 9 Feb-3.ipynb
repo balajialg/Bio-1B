{
 "cells": [
  {
   "cell_type": "markdown",
   "metadata": {},
   "source": [
    "## Bio 1B Jupyter Introduction: Darwin's Finches\n",
    "_Estimated Time: 20 minutes_"
   ]
  },
  {
   "cell_type": "markdown",
   "metadata": {},
   "source": [
    "Welcome! In this introduction to Jupyter Notebooks, we will learn how to compare the means of two distributions of data.  Specifically, we will compare distributions of beak sizes of Darwin's Finches, _Geospiza fortis_, for those that survived a drought and those that did not. We will use resampling approaches to estimate a p-value to test if the distributions are significantly different from each other. These are the same approaches you will use in the Strawberry Creek Lab.\n",
    "\n",
    "Jupyter Notebooks are especially useful to visualize data and to repeat easily manipulations of data.\n",
    "\n",
    "To access your Notebooks, go to https://datahub.berkeley.edu and log-in through bCourses.\n",
    "\n",
    "You will need to upload this file and another file of your data.  Click the upload button in the upper right of the screen and find your file.  Then click upload again.  This file is called \n",
    "_Bio 1B Jupyter Introduction Darwin's Finches.ipynb_.  The data file is _Finches.csv_.\n",
    "The data needs to be in .csv, or comma-delimited format.  To do this, open your data file in Excel or Google Sheets, delete any rows with missing data (for convenience) and save the file as a .csv file.\n"
   ]
  },
  {
   "cell_type": "markdown",
   "metadata": {},
   "source": [
    "<p><a href=\"https://www.bravoyourcity.com/story/cal-secret-spots-strawberry-creek\"><img src=\\\"images/Bridge.png\\\"></a></p>"
   ]
  },
  {
   "cell_type": "markdown",
   "metadata": {},
   "source": [
    "**Learning Outcomes**\n",
    "\n",
    "By the end of the notebook, students should be able to:\n",
    "\n",
    "1. Open and run a Jupyter Notebook on Berkeley's jupyterhub.\n",
    "2. Understand how to compare the central tendency (mean) of two distributions.\n",
    "3. Be able to describe how to estimate p-values through resampling."
   ]
  },
  {
   "cell_type": "markdown",
   "metadata": {},
   "source": [
    "## Table of Contents \n",
    "\n",
    "1. [Jupyter Notebooks](#1)\n",
    "    - [Types of Cells](#1.1)\n",
    "    - [Running Cells](#1.2)\n",
    "    - [Editting, Saving and Submitting](#1.3)\n",
    "<br/><br/>\n",
    "2. [Data Recording](#2)\n",
    "<br/><br/>\n",
    "3. [Introduction to Data Analytics](#3)\n",
    "    - [Null and Alternate Hypothesis](#3.1)\n",
    "    - [Permutation Test](#3.2)\n",
    "<br/><br/> "
   ]
  },
  {
   "cell_type": "markdown",
   "metadata": {},
   "source": [
    "## Jupyter Notebooks <a id='1'></a>"
   ]
  },
  {
   "cell_type": "markdown",
   "metadata": {},
   "source": [
    "This exercise is currently set up in a Jupyter Notebook. A Jupyter Notebook is an online, interactive computing environment, comprising different types of __cells__. Cells are chunks of code or text that are used to break up a larger notebook into smaller, more manageable parts and to let the viewer modify and interact with the elements of the notebook.\n",
    " \n",
    "### Types of cells <a id= '1.1'> </a>\n",
    "\n",
    "There are two types of cells in Jupyter, __code__ cells and __markdown__ cells. Code cells are cells indicated with “In [  ]:” to the left of the cell. In these cells you can write you own code and run the code in the individual cell.\n",
    "Markdown cells hold text a majority of the time and do not have the “In [ ]” to the left of the cell."
   ]
  },
  {
   "cell_type": "markdown",
   "metadata": {},
   "source": [
    "### Running cells <a id= '1.2'> </a>"
   ]
  },
  {
   "cell_type": "markdown",
   "metadata": {},
   "source": [
    "'Running' a cell is similar to pressing 'Enter' on a calculator once you've typed in an expression; it computes all of the expressions contained within the cell.\n",
    "\n",
    "To run a code cell, you can do one of the following:\n",
    "- press __Shift + Enter__\n",
    "- click __Cell -> Run Cells__ in the toolbar at the top of the screen.\n",
    "\n",
    "You can navigate the cells by either clicking on them or by using your up and down arrow keys. Try running the cell below to see what happens. "
   ]
  },
  {
   "cell_type": "code",
   "execution_count": null,
   "metadata": {},
   "outputs": [],
   "source": [
    "print(\"Hello, World\")"
   ]
  },
  {
   "cell_type": "markdown",
   "metadata": {},
   "source": [
    "The input of the cell consists of the text/code that is contained within the cell's enclosing box. Here, the input is an expression in Python that \"prints\" or repeats whatever text or number is passed in. \n",
    "\n",
    "The output of running a cell is shown in the line immediately after it. Notice that markdown cells have no output. "
   ]
  },
  {
   "cell_type": "markdown",
   "metadata": {},
   "source": [
    "### Editing, Saving and Sumbitting <a id='1.3'> </a>"
   ]
  },
  {
   "cell_type": "markdown",
   "metadata": {},
   "source": [
    "- To __edit__ a cell simply click on the desired cell and begin typing \n",
    "- To __save__ your notebook press _command + s_ on the keyboard \n",
    "- We will go into the specifics of how to __submit__ your work at the end of the lab, but you will essentially be converting your work into a PDF file and then including it in your Lab Report"
   ]
  },
  {
   "cell_type": "markdown",
   "metadata": {},
   "source": [
    "## Introduction"
   ]
  },
  {
   "cell_type": "markdown",
   "metadata": {},
   "source": [
    "Here, we will use Python, one of the programming languages Jupyter supports, to analyze survival data of Darwin's Finches, _Giospiza fortis_, in the Galapagos following a drought. Python is a general-purpose programming language that allows us to analyze and manipulates large amounts of data. The main purpose of this exercise is to determine whether or not the beak depths differ significantly between birds that survived a drought and those that did not. \n",
    "\n",
    "You will need to run this next cell to import tools needed by Python for manipulating data frames and for plotting."
   ]
  },
  {
   "cell_type": "code",
   "execution_count": 2,
   "metadata": {},
   "outputs": [],
   "source": [
    "import numpy as np\n",
    "import pandas as pd\n",
    "import qgrid\n",
    "import ipywidgets as widgets\n",
    "from IPython.display import display\n",
    "import matplotlib.pyplot as plt\n",
    "%matplotlib inline"
   ]
  },
  {
   "cell_type": "markdown",
   "metadata": {},
   "source": [
    "## Data Recording <a id='2'> </a>"
   ]
  },
  {
   "cell_type": "markdown",
   "metadata": {},
   "source": [
    "In this section you will be importing the data from an excel sheet.  In the lab, you will be importing the data from your lab section!\n",
    "\n",
    "To import your data from excel or a google sheet you must save the file as a \".csv\" file.  To do this:\n",
    "1. Open up the desired excel or google sheets form.\n",
    "2. Navigate to the __File__ tab and hover over __Download__ or __Save As__.\n",
    "3. From there another drop down tab should appear with differect formats in which to download the form. Select the __Comma-Separated Values (csv)__ option."
   ]
  },
  {
   "cell_type": "markdown",
   "metadata": {},
   "source": [
    "To import the data set just run the following cell!  Then, you will see the first few rows of the data frame."
   ]
  },
  {
   "cell_type": "code",
   "execution_count": 3,
   "metadata": {},
   "outputs": [
    {
     "data": {
      "text/html": [
       "<div>\n",
       "<style scoped>\n",
       "    .dataframe tbody tr th:only-of-type {\n",
       "        vertical-align: middle;\n",
       "    }\n",
       "\n",
       "    .dataframe tbody tr th {\n",
       "        vertical-align: top;\n",
       "    }\n",
       "\n",
       "    .dataframe thead th {\n",
       "        text-align: right;\n",
       "    }\n",
       "</style>\n",
       "<table border=\"1\" class=\"dataframe\">\n",
       "  <thead>\n",
       "    <tr style=\"text-align: right;\">\n",
       "      <th></th>\n",
       "      <th>Bird</th>\n",
       "      <th>Survived</th>\n",
       "      <th>Beak_depth</th>\n",
       "    </tr>\n",
       "  </thead>\n",
       "  <tbody>\n",
       "    <tr>\n",
       "      <th>0</th>\n",
       "      <td>9</td>\n",
       "      <td>No</td>\n",
       "      <td>8.3</td>\n",
       "    </tr>\n",
       "    <tr>\n",
       "      <th>1</th>\n",
       "      <td>12</td>\n",
       "      <td>No</td>\n",
       "      <td>7.5</td>\n",
       "    </tr>\n",
       "    <tr>\n",
       "      <th>2</th>\n",
       "      <td>276</td>\n",
       "      <td>No</td>\n",
       "      <td>8.0</td>\n",
       "    </tr>\n",
       "    <tr>\n",
       "      <th>3</th>\n",
       "      <td>278</td>\n",
       "      <td>No</td>\n",
       "      <td>10.6</td>\n",
       "    </tr>\n",
       "    <tr>\n",
       "      <th>4</th>\n",
       "      <td>283</td>\n",
       "      <td>No</td>\n",
       "      <td>11.2</td>\n",
       "    </tr>\n",
       "  </tbody>\n",
       "</table>\n",
       "</div>"
      ],
      "text/plain": [
       "   Bird Survived  Beak_depth\n",
       "0     9       No         8.3\n",
       "1    12       No         7.5\n",
       "2   276       No         8.0\n",
       "3   278       No        10.6\n",
       "4   283       No        11.2"
      ]
     },
     "execution_count": 3,
     "metadata": {},
     "output_type": "execute_result"
    }
   ],
   "source": [
    "#if you don't want a line of code to run, put a # before the line, like this one\n",
    "#data = pd.read_csv(\"data set name\")\n",
    "data = pd.read_csv(\"Finches.csv\")\n",
    "data.head()"
   ]
  },
  {
   "cell_type": "markdown",
   "metadata": {},
   "source": [
    "__QGrid__"
   ]
  },
  {
   "cell_type": "markdown",
   "metadata": {},
   "source": [
    "We will be using a Python widget called QGrid to inspect and manupulate the data. QGrid allows you to easily filter through the different columns of data in your data set. To implement Qgrid on your data set run the following cell!  You will see that each bird has an individual number as well as information on whether it survived (yes or no) and its beak depth. Try clicking on the column headings to sort the data by that column."
   ]
  },
  {
   "cell_type": "code",
   "execution_count": null,
   "metadata": {},
   "outputs": [],
   "source": [
    "qgrid.show_grid(data)\n",
    "#data.describe()"
   ]
  },
  {
   "cell_type": "markdown",
   "metadata": {},
   "source": [
    "To the right of each column title there is a little filter icon that displays a drop down bar when you click on it. This view lets you decice which items or numbers you would like to include in your analysis. "
   ]
  },
  {
   "cell_type": "markdown",
   "metadata": {},
   "source": [
    "## Introduction to Data Analytics <a id= '3'> </a>"
   ]
  },
  {
   "cell_type": "markdown",
   "metadata": {},
   "source": [
    "### Null Hypothesis vs. Alternate Hypothesis <a id='3.1'> </a>\n",
    "\n",
    "One of the first problems to work through when looking at a data set is to determine whether or not the trends in the data are significant or purely due to random chance. In this exercise we are trying to determine whether or not the difference between beak sizes (here measured as beak depth) of birds that survive a drought or not is significant. To do this we begin by forming a null hypothesis and an alternative hypothesis to test. \n",
    "\n",
    "__Null Hypothesis__: A null hypothesis claims that there is no statistical difference between two distributions and that any difference is due to experimental error, or measurement error, or chance.\n",
    "\n",
    "__Alternative Hypothesis__: An alternative hypothesis essentially counters the null hypothesis and claims that the difference in distribution is meaningful, or significant, for some reason."
   ]
  },
  {
   "cell_type": "markdown",
   "metadata": {},
   "source": [
    "\n",
    "Rosemary Grant and Peter Grant have been studying finches in the Galapagos Islands for many years.  In 1977, there was a major drought and because of seed scarcity approzimately 1/2 of a poplulation of the medium ground finch, _Giospiza fortis_, did not survive.  They measured many morphological characters of those finches that survived and those that did not; in this dataset are measurements of 50 finches that survived the drought and 50 finches that did not.\n",
    "\n",
    "Beak depth provides an indication of how large a seed a bird crunch open and eat--those birds with larger beak depths can eat larger seeds as well as the small seeds.  For this data set, what would the potential hypotheses be? \n",
    "\n",
    "__Example Null Hypothesis__\n",
    "- The drought affected all birds equally, and only chance determined which survived the drought and which did not.  If true, we predict that the distribution of the beak depths is the same for birds that survived the drought and those that did not. Thus, any differences in the two sample distributions is due to chance or measurement error.\n",
    "\n",
    "__Example Alternative Hypothesis__  \n",
    "- Birds that could eat a wider range of sizes of seeds, were more likely to survive, because they had access to a wider range of sizes of seeds, and especially the larger ones.  If this is true, we predict that the beak sizes of those birds that survived will be larger than those of birds that did not."
   ]
  },
  {
   "cell_type": "markdown",
   "metadata": {},
   "source": [
    "How would we test this? What would be our prediction for each hypothesis?  First, let's look at the data for the entire population before the drought."
   ]
  },
  {
   "cell_type": "code",
   "execution_count": null,
   "metadata": {},
   "outputs": [],
   "source": [
    "plt.hist(data['Beak_depth'], bins=30, label=\"All Finches\")\n",
    "plt.xlabel('Beak Depth (mm)')\n",
    "plt.ylabel('Number of Finches')\n",
    "plt.legend();"
   ]
  },
  {
   "cell_type": "markdown",
   "metadata": {},
   "source": [
    "Next, of these, let's look at distributions of those that survived (gold) and those that did not (blue)."
   ]
  },
  {
   "cell_type": "code",
   "execution_count": null,
   "metadata": {},
   "outputs": [],
   "source": [
    "dataNo = data[:50]\n",
    "dataYes = data[50:]\n",
    "\n",
    "plt.hist(dataNo['Beak_depth'] , color='blue', alpha=0.5, bins=30, label='Died')\n",
    "plt.hist(dataYes['Beak_depth'], color='gold', alpha=0.5, bins=30, label='Survived')\n",
    "\n",
    "plt.axvline(dataNo['Beak_depth'].mean(), color='blue', label='Mean died')\n",
    "plt.axvline(dataYes['Beak_depth'].mean(), color='gold', label='Mean survived')\n",
    "\n",
    "plt.xlabel('Beak Depth (mm)')\n",
    "plt.ylabel('Number of Finches')\n",
    "plt.legend();"
   ]
  },
  {
   "cell_type": "markdown",
   "metadata": {},
   "source": [
    "What are your null and alternative hypotheses? What prediction about the means of the distribuion can you make?"
   ]
  },
  {
   "cell_type": "markdown",
   "metadata": {},
   "source": [
    "First, lets calculate the observed difference in the means of the two distribution. We call this our observed difference because this statistic is observed from data that is actually collected."
   ]
  },
  {
   "cell_type": "code",
   "execution_count": null,
   "metadata": {},
   "outputs": [],
   "source": [
    "observed_difference = data[data['Survived']=='Yes'].mean() - data[data['Survived']=='No'].mean()\n",
    "observed_difference['Beak_depth']"
   ]
  },
  {
   "cell_type": "markdown",
   "metadata": {},
   "source": [
    "After you have your null and alternative hypothesis, and your observed difference, the next step is to simulate the distribution under the null hypothesis and test your prediction! Theoretically, if the differences in distributions were solely due to random chance, then the data that each distribution originally comes from would be the same. This is where permutation tests come in to play."
   ]
  },
  {
   "cell_type": "markdown",
   "metadata": {},
   "source": [
    "### Permutation Test <a id='3.2'> </a>"
   ]
  },
  {
   "cell_type": "markdown",
   "metadata": {},
   "source": [
    "A permutation test essentially shuffles the given data set and creates new distributions. In this case, we are using a permutation test to shuffle finches randomly between categories of those that survived and those that did not. We end up with the same size data set in the end, with the same number in each category as we started. We then compare differences in means between the two new distributions. \n",
    "\n",
    "Run the cell below to generate a permutation of the data and to calculate the difference between the two new distributions.  \n",
    "\n",
    "You can run this cell again several times and see that each permutation will give a slightly different answer. Why?"
   ]
  },
  {
   "cell_type": "code",
   "execution_count": 4,
   "metadata": {
    "scrolled": true
   },
   "outputs": [
    {
     "data": {
      "text/plain": [
       "Beak_depth   -0.3448\n",
       "dtype: float64"
      ]
     },
     "execution_count": 4,
     "metadata": {},
     "output_type": "execute_result"
    },
    {
     "data": {
      "image/png": "[encoded data removed]",
      "text/plain": [
       "<Figure size 432x288 with 1 Axes>"
      ]
     },
     "metadata": {
      "needs_background": "light"
     },
     "output_type": "display_data"
    }
   ],
   "source": [
    "perm_example = pd.DataFrame({\n",
    "    'Beak_depth':data['Beak_depth'].sample(len(data['Beak_depth'])),\n",
    "    'Survived':np.append(np.repeat('No', 50), np.repeat('Yes', 50))\n",
    "})\n",
    "#perm_example\n",
    "\n",
    "dataNo = perm_example[:50]\n",
    "dataYes = perm_example[50:]\n",
    "\n",
    "plt.hist(dataNo['Beak_depth'] , color='blue', alpha=0.5, bins=30, label='Died')\n",
    "plt.hist(dataYes['Beak_depth'], color='gold', alpha=0.5, bins=30, label='Survived')\n",
    "plt.axvline(dataNo['Beak_depth'].mean(), color='blue', label='Mean died')\n",
    "plt.axvline(dataYes['Beak_depth'].mean(), color='gold', label='Mean survived')\n",
    "plt.xlabel('Beak Depth (mm)')\n",
    "plt.ylabel('Number of Finches')\n",
    "plt.legend();\n",
    "\n",
    "perm_difference = perm_example[perm_example['Survived']=='No'].mean() - perm_example[perm_example['Survived']=='Yes'].mean()\n",
    "perm_difference"
   ]
  },
  {
   "cell_type": "markdown",
   "metadata": {},
   "source": [
    "What you see above is just for one permutation of the data. Now we perform the permutation test many many more times (here, 5,000), and with these values we can plot the distribution of all those differences. We can look back at our actual observed difference between the two distributions and compare that with this distribution of simulated differences.  We can than ask how likely it is to observe the actual difference we did if our null hypotheis is true."
   ]
  },
  {
   "cell_type": "code",
   "execution_count": 5,
   "metadata": {},
   "outputs": [],
   "source": [
    "def difference_in_means(BD_scores):\n",
    "    return np.mean(BD_scores[:50]) - np.mean(BD_scores[50:])\n",
    "\n",
    "n_repeats = 5000\n",
    "permutation_differences = []\n",
    "for i in range(n_repeats):\n",
    "    permutation = data['Beak_depth'].sample(len(data['Beak_depth']))\n",
    "    new_difference = difference_in_means(permutation)\n",
    "    permutation_differences.append(new_difference)\n",
    "    \n",
    "#permutation_differences"
   ]
  },
  {
   "cell_type": "code",
   "execution_count": 6,
   "metadata": {},
   "outputs": [
    {
     "ename": "NameError",
     "evalue": "name 'observed_difference' is not defined",
     "output_type": "error",
     "traceback": [
      "\u001b[0;31m---------------------------------------------------------------------------\u001b[0m",
      "\u001b[0;31mNameError\u001b[0m                                 Traceback (most recent call last)",
      "\u001b[0;32m<ipython-input-6-f30fd90683ff>\u001b[0m in \u001b[0;36m<module>\u001b[0;34m\u001b[0m\n\u001b[1;32m      1\u001b[0m \u001b[0mplt\u001b[0m\u001b[0;34m.\u001b[0m\u001b[0mhist\u001b[0m\u001b[0;34m(\u001b[0m\u001b[0mpermutation_differences\u001b[0m\u001b[0;34m,\u001b[0m \u001b[0mbins\u001b[0m\u001b[0;34m=\u001b[0m\u001b[0;36m20\u001b[0m\u001b[0;34m)\u001b[0m\u001b[0;34m\u001b[0m\u001b[0;34m\u001b[0m\u001b[0m\n\u001b[0;32m----> 2\u001b[0;31m \u001b[0mplt\u001b[0m\u001b[0;34m.\u001b[0m\u001b[0maxvline\u001b[0m\u001b[0;34m(\u001b[0m\u001b[0mobserved_difference\u001b[0m\u001b[0;34m[\u001b[0m\u001b[0;34m\"Beak_depth\"\u001b[0m\u001b[0;34m]\u001b[0m\u001b[0;34m,\u001b[0m \u001b[0mcolor\u001b[0m\u001b[0;34m=\u001b[0m\u001b[0;34m'red'\u001b[0m\u001b[0;34m,\u001b[0m \u001b[0mlabel\u001b[0m\u001b[0;34m=\u001b[0m\u001b[0;34m'Observed Difference'\u001b[0m\u001b[0;34m)\u001b[0m\u001b[0;34m\u001b[0m\u001b[0;34m\u001b[0m\u001b[0m\n\u001b[0m\u001b[1;32m      3\u001b[0m \u001b[0mplt\u001b[0m\u001b[0;34m.\u001b[0m\u001b[0mxlabel\u001b[0m\u001b[0;34m(\u001b[0m\u001b[0;34m'Differences in Mean Beak Depth from 5000 Permutations'\u001b[0m\u001b[0;34m)\u001b[0m\u001b[0;34m\u001b[0m\u001b[0;34m\u001b[0m\u001b[0m\n\u001b[1;32m      4\u001b[0m \u001b[0mplt\u001b[0m\u001b[0;34m.\u001b[0m\u001b[0mylabel\u001b[0m\u001b[0;34m(\u001b[0m\u001b[0;34m'Count of Outcomes'\u001b[0m\u001b[0;34m)\u001b[0m\u001b[0;34m\u001b[0m\u001b[0;34m\u001b[0m\u001b[0m\n\u001b[1;32m      5\u001b[0m \u001b[0mplt\u001b[0m\u001b[0;34m.\u001b[0m\u001b[0mlegend\u001b[0m\u001b[0;34m(\u001b[0m\u001b[0;34m)\u001b[0m\u001b[0;34m;\u001b[0m\u001b[0;34m\u001b[0m\u001b[0;34m\u001b[0m\u001b[0m\n",
      "\u001b[0;31mNameError\u001b[0m: name 'observed_difference' is not defined"
     ]
    },
    {
     "data": {
      "image/png": "[encoded data removed]",
      "text/plain": [
       "<Figure size 432x288 with 1 Axes>"
      ]
     },
     "metadata": {
      "needs_background": "light"
     },
     "output_type": "display_data"
    }
   ],
   "source": [
    "plt.hist(permutation_differences, bins=20)\n",
    "plt.axvline(observed_difference[\"Beak_depth\"], color='red', label='Observed Difference')\n",
    "plt.xlabel('Differences in Mean Beak Depth from 5000 Permutations')\n",
    "plt.ylabel('Count of Outcomes')\n",
    "plt.legend();"
   ]
  },
  {
   "cell_type": "markdown",
   "metadata": {},
   "source": [
    "The red line is the observed difference and the histogram shows the differences from the 5,000 repeats of permuted data. This may take a few seconds to finish.\n",
    "\n",
    "Using this plot, we can guess whether the null hypothesis is true (the observed difference between beak depth of finches that survived or did not survive is due to random chance) or if the alternative hypothesis is true (that finches that survived had larger beak depths, and a difference between the two distributions is not due to chance alone)."
   ]
  },
  {
   "cell_type": "markdown",
   "metadata": {},
   "source": [
    "__Discussion Question__"
   ]
  },
  {
   "cell_type": "markdown",
   "metadata": {},
   "source": [
    "**Based on the graph, how likely is it for the observed difference to occur, and can we reject the null hypothesis?**"
   ]
  },
  {
   "cell_type": "markdown",
   "metadata": {},
   "source": [
    "_Type your answer here_"
   ]
  },
  {
   "cell_type": "markdown",
   "metadata": {},
   "source": [
    "Answer: Based on the distribution, getting the observed difference by random chance or measurement error is very unlikely, because the observed difference is far out in the tail of the distribution. Thus, our original observation is considered very unlikely to have occurred by chance alone.\n",
    "\n",
    "We can calculate how unlikely our observation is, by calculating how many permutaions are as extreme, or more extreme, than what we observed.  Typically, we use p < 0.05 (or 5%) as a cut-off value, or p-value, for what is \"statistically significant\". In this case, does our observation fall in the most extreme 5% of the permutatation results?"
   ]
  },
  {
   "cell_type": "code",
   "execution_count": null,
   "metadata": {},
   "outputs": [],
   "source": [
    "p_val_count = sum(i >= observed_difference[\"Beak_depth\"] for i in permutation_differences)/len(permutation_differences)\n",
    "p_val_count"
   ]
  },
  {
   "cell_type": "markdown",
   "metadata": {},
   "source": [
    "We will use this same approach in the Strawberry Creek Lab next week to test whether there are differneces in environmental health between two forks of the creek.  Instead of beak data, we will be comparing counts of aquatic organisms and related measures.\n",
    "In the lab next week, as you did for this Jupyter Notebook, you will upload into https://datahub.berkeley.edu the files for the Strawberry Creek Jypyter Notebook as well as data you collect in lab, as a .csv file.  These files are found in the Bio1B Resources folder on bCourses."
   ]
  },
  {
   "cell_type": "markdown",
   "metadata": {},
   "source": [
    "## Bibliography \n",
    "\n",
    "---\n",
    "\n",
    "Notebook developed by: Joshua Asuncion, Karalyn Chong, Andy Sheu, George Roderick\n",
    "\n",
    "Data Science Modules: http://data.berkeley.edu/education/modules\n",
    "\n",
    "Bird Beak Data: https://www.biointeractive.org/classroom-resources/evolution-action-data-analysis\n",
    "\n",
    "Berkeley's Data8 on Hypothesis Testing: https://www.inferentialthinking.com/chapters/12/1/AB_Testing.html \n",
    "\n",
    "Galapagos medium ground finch, _Geospiza fortis_: https://en.wikipedia.org/wiki/Medium_ground_finch"
   ]
  },
  {
   "cell_type": "code",
   "execution_count": null,
   "metadata": {},
   "outputs": [],
   "source": []
  }
 ],
 "metadata": {
  "kernelspec": {
   "display_name": "Python 3",
   "language": "python",
   "name": "python3"
  },
  "language_info": {
   "codemirror_mode": {
    "name": "ipython",
    "version": 3
   },
   "file_extension": ".py",
   "mimetype": "text/x-python",
   "name": "python",
   "nbconvert_exporter": "python",
   "pygments_lexer": "ipython3",
   "version": "3.6.9"
  }
 },
 "nbformat": 4,
 "nbformat_minor": 2
}
