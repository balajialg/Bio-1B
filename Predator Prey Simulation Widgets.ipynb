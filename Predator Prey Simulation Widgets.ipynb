{
 "cells": [
  {
   "cell_type": "markdown",
   "metadata": {},
   "source": [
    "# Predator Prey Simulation Widgets"
   ]
  },
  {
   "cell_type": "markdown",
   "metadata": {},
   "source": [
    "Run all the following cells until you reach the Experiment 1 Widget."
   ]
  },
  {
   "cell_type": "code",
   "execution_count": null,
   "metadata": {},
   "outputs": [],
   "source": [
    "import numpy as np\n",
    "import pandas as pd\n",
    "import ipywidgets as widgets\n",
    "from IPython.display import clear_output\n",
    "import matplotlib\n",
    "%matplotlib inline\n",
    "import matplotlib.pyplot as plt\n",
    "plt.style.use('fivethirtyeight')"
   ]
  },
  {
   "cell_type": "code",
   "execution_count": null,
   "metadata": {},
   "outputs": [],
   "source": [
    "def populations_validate_and_normalize_parameters(parameters):\n",
    "    parameters['population_sizes'] = parameters['starting_population_sizes']\n",
    "    assert len(parameters['population_sizes']) == len(parameters['reproduction_rates'])\n",
    "    parameters['predation_rates'] = np.divide(parameters['predation_rates'], sum(parameters['predation_rates']))\n",
    "\n",
    "def populations_predation_episode(parameters):\n",
    "    if sum(parameters['population_sizes']) == 0:\n",
    "        return parameters['population_sizes']\n",
    "    prey_species_count = len(parameters['population_sizes'])\n",
    "    num_prey_to_eat = int(parameters['predator_population'] * 0.3)\n",
    "    chance_eaten = np.multiply(parameters['population_sizes'], parameters['predation_rates'])\n",
    "    chance_eaten = np.divide(chance_eaten, sum(chance_eaten))\n",
    "    prey_eaten = np.random.choice(prey_species_count, num_prey_to_eat, replace=True, p=chance_eaten)\n",
    "    yield_counts = [list(prey_eaten).count(prey) for prey in range(prey_species_count)]\n",
    "    return yield_counts\n",
    "\n",
    "def populations_eat_prey(parameters, yield_counts):\n",
    "    reproduction_rates, population_sizes = parameters['reproduction_rates'], parameters['population_sizes']\n",
    "    new_population_sizes = []\n",
    "    for (reproduction_rate, population, yield_count) in zip(reproduction_rates, population_sizes, yield_counts):\n",
    "        new_population_sizes.append(max(0, int(reproduction_rate * (population - yield_count))))\n",
    "    parameters['population_sizes'] = new_population_sizes\n",
    "\n",
    "def populations_process_carrying_capacity(parameters):\n",
    "    carrying_capacity, population_sizes = parameters['carrying_capacity'], parameters['population_sizes']\n",
    "    total_population = sum(population_sizes)\n",
    "    if carrying_capacity != 0 and total_population > carrying_capacity:\n",
    "        ratio = carrying_capacity / total_population\n",
    "        parameters['population_sizes'] = [int(population * ratio) for population in population_sizes]\n",
    "\n",
    "def populations_simulate(parameters):\n",
    "    populations_validate_and_normalize_parameters(parameters)\n",
    "    prey_names = ['Prey ' + str(i) for i in range(len(parameters['population_sizes']))]\n",
    "    population_df = pd.DataFrame(columns=['Generation'] + prey_names).set_index('Generation')\n",
    "    population_df.loc[0] = parameters['population_sizes']\n",
    "    for generation in np.arange(1, 1 + parameters['generations']):\n",
    "        yield_counts = populations_predation_episode(parameters)\n",
    "        populations_eat_prey(parameters, yield_counts)\n",
    "        populations_process_carrying_capacity(parameters)\n",
    "        population_df.loc[generation] = parameters['population_sizes']\n",
    "    return population_df"
   ]
  },
  {
   "cell_type": "code",
   "execution_count": null,
   "metadata": {},
   "outputs": [],
   "source": [
    "style = {'description_width': 'initial'}\n",
    "\n",
    "population_size_1 = widgets.IntSlider(description='Prey 1 Population Size', value=15, min=0, max=100, style=style)\n",
    "population_size_2 = widgets.IntSlider(description='Prey 2 Population Size', value=15, min=0, max=100, style=style)\n",
    "population_size_3 = widgets.IntSlider(description='Prey 3 Population Size', value=15, min=0, max=100, style=style)\n",
    "\n",
    "reproduction_rate_1 = widgets.FloatSlider(description='Prey 1 Reproduction Rate', value=1.2, min=0.5, max=2, style=style)\n",
    "reproduction_rate_2 = widgets.FloatSlider(description='Prey 2 Reproduction Rate', value=1.2, min=0.5, max=2, style=style)\n",
    "reproduction_rate_3 = widgets.FloatSlider(description='Prey 3 Reproduction Rate', value=1.2, min=0.5, max=2, style=style)\n",
    "\n",
    "predation_rate_1 = widgets.IntSlider(description='Prey 1 Predation Rate', value=15, min=0, max=10, style=style)\n",
    "predation_rate_2 = widgets.IntSlider(description='Prey 2 Predation Rate', value=15, min=0, max=10, style=style)\n",
    "predation_rate_3 = widgets.IntSlider(description='Prey 3 Predation Rate', value=15, min=0, max=10, style=style)\n",
    "\n",
    "carrying_capacity = widgets.IntSlider(description='Carrying Capacity', value=60, min=0, max=100, style=style)\n",
    "predator_population = widgets.IntSlider(description='Predator Population', value=20, min=0, max=25, style=style)\n",
    "generations = widgets.IntSlider(description='Generations', value=25, min=0, max=100, style=style)\n",
    "\n",
    "reset_populations_button = widgets.Button(description='Reset', layout=widgets.Layout(width='100%', height='100%'))\n",
    "simulate_populations_button = widgets.Button(description='Simulate', layout=widgets.Layout(width='100%', height='100%'))\n",
    "    \n",
    "def show_populations_widget():\n",
    "    clear_output()\n",
    "    prey_1_box = widgets.VBox([population_size_1, reproduction_rate_1, predation_rate_1])\n",
    "    prey_2_box = widgets.VBox([population_size_2, reproduction_rate_2, predation_rate_2])\n",
    "    prey_3_box = widgets.VBox([population_size_3, reproduction_rate_3, predation_rate_3])\n",
    "    general_box = widgets.HBox([carrying_capacity, predator_population, generations])\n",
    "    reset_box = widgets.HBox([reset_populations_button])\n",
    "    simulate_box = widgets.HBox([simulate_populations_button])\n",
    "    \n",
    "    \"\"\"\n",
    "    tab = widgets.Tab([prey_1_box, prey_2_box, prey_3_box])\n",
    "    tab.set_title(0, 'Prey 1')\n",
    "    tab.set_title(1, 'Prey 2')\n",
    "    tab.set_title(2, 'Prey 3')\n",
    "    display(tab)\n",
    "    \"\"\"\n",
    "    \n",
    "    display(widgets.HBox([prey_1_box, prey_2_box, prey_3_box]))\n",
    "    display(widgets.VBox([general_box, reset_box, simulate_box]))\n",
    "    \n",
    "def get_populations_parameters():\n",
    "    parameters = {}\n",
    "    parameters['starting_population_sizes'] = [population_size_1.value, population_size_2.value, population_size_3.value]\n",
    "    parameters['reproduction_rates'] = [reproduction_rate_1.value, reproduction_rate_2.value, reproduction_rate_3.value]\n",
    "    parameters['predation_rates'] = [predation_rate_1.value, predation_rate_2.value, predation_rate_3.value]\n",
    "    parameters['carrying_capacity'] = carrying_capacity.value\n",
    "    parameters['predator_population'] = predator_population.value\n",
    "    parameters['generations'] = generations.value\n",
    "    return parameters\n",
    "\n",
    "@reset_populations_button.on_click\n",
    "def reset_populations(_):\n",
    "    population_size_1.value=15\n",
    "    population_size_2.value=15\n",
    "    population_size_3.value=15\n",
    "    reproduction_rate_1.value=1.2\n",
    "    reproduction_rate_2.value=1.2\n",
    "    reproduction_rate_3.value=1.2\n",
    "    predation_rate_1.value=15\n",
    "    predation_rate_2.value=15\n",
    "    predation_rate_3.value=15\n",
    "    carrying_capacity.value=60\n",
    "    predator_population.value=20\n",
    "    generations.value=25\n",
    "    \n",
    "    show_populations_widget()\n",
    "    \n",
    "@simulate_populations_button.on_click\n",
    "def run_simulation_populations(_):\n",
    "    parameters = get_populations_parameters()\n",
    "    show_populations_widget()\n",
    "    simulation_df = populations_simulate(parameters)\n",
    "    \n",
    "    fig = plt.figure(figsize=(15,7))\n",
    "    ax1 = fig.add_subplot(121)\n",
    "    simulation_df.plot(ax=ax1)\n",
    "    ax1.set_xlabel('Generation')\n",
    "    ax1.set_ylabel('Population Size')\n",
    "    ax1.legend(frameon=False, loc='upper left')\n",
    "    \n",
    "    ax2 = fig.add_subplot(122)\n",
    "    ax2.axis('off')\n",
    "    filtered_df = simulation_df.iloc[::5, :].reset_index()\n",
    "    table = ax2.table(cellLoc='center', cellText=filtered_df.values, bbox=[0, 0, 1, 1], colLabels=filtered_df.columns)\n",
    "    \n",
    "    # simulation_df.plot();\n",
    "    "
   ]
  },
  {
   "cell_type": "markdown",
   "metadata": {},
   "source": [
    "---"
   ]
  },
  {
   "cell_type": "markdown",
   "metadata": {},
   "source": [
    "# Experiment 1 and 2 Widget"
   ]
  },
  {
   "cell_type": "markdown",
   "metadata": {},
   "source": [
    "Run the following widget for Experiment 1 and 2."
   ]
  },
  {
   "cell_type": "code",
   "execution_count": null,
   "metadata": {},
   "outputs": [],
   "source": [
    "show_populations_widget()"
   ]
  },
  {
   "cell_type": "markdown",
   "metadata": {},
   "source": [
    "---"
   ]
  },
  {
   "cell_type": "markdown",
   "metadata": {},
   "source": [
    "# Experiment 3 Widget"
   ]
  },
  {
   "cell_type": "markdown",
   "metadata": {},
   "source": [
    "---"
   ]
  },
  {
   "cell_type": "markdown",
   "metadata": {},
   "source": [
    "Notebook developed by: Andy Sheu\n",
    "\n",
    "Data Science Modules: http://data.berkeley.edu/education/modules"
   ]
  }
 ],
 "metadata": {
  "kernelspec": {
   "display_name": "Python 3",
   "language": "python",
   "name": "python3"
  },
  "language_info": {
   "codemirror_mode": {
    "name": "ipython",
    "version": 3
   },
   "file_extension": ".py",
   "mimetype": "text/x-python",
   "name": "python",
   "nbconvert_exporter": "python",
   "pygments_lexer": "ipython3",
   "version": "3.7.3"
  }
 },
 "nbformat": 4,
 "nbformat_minor": 2
}
