{
 "cells": [
  {
   "cell_type": "markdown",
   "metadata": {},
   "source": [
    "# Predator-Prey Interactions\n",
    "\n",
    "### Professors George Roderick, John Huelsenbeck & Alan Shabel\n",
    "\n",
    "_Estimated Time: 50 Minutes_\n",
    "\n",
    "---"
   ]
  },
  {
   "cell_type": "markdown",
   "metadata": {},
   "source": [
    "Welcome! Throughout the course of this lab you will be using data analysis tools to simulate predator prey interactions and observe the changes in these interactions under different parameters. Data analysis tools allow us to simulate under circumstances that we might not necessarily have the resources to produce or sample in real life. The main purpose of this lab is to determine how certain parameters affect predator prey interactions.\n",
    "\n",
    "**Learning Outcomes**\n",
    "\n",
    "By the end of the notebook, students will be able to:\n",
    "\n",
    "1. Use Jupyter notebook simulations to test ecological assumptions\n",
    "2. Define carrying capacity, rate of reproduction, density dependent and density independent growth, exponential and logistic models of population growth and say how they relate to predator-prey interactions\n",
    "3. Explain how initial population parameters affect predator-prey populations over time, including which conditions lead to cycles or extinctions\n"
   ]
  },
  {
   "cell_type": "markdown",
   "metadata": {},
   "source": [
    "## Table of Contents \n",
    "\n",
    "1. [Jupyter Notebooks](#1)\n",
    "    - [Types of Cells](#1.1)\n",
    "    - [Running Cells](#1.2)\n",
    "    - [Editing, Saving and Submitting](#1.3)\n",
    "    - [Debugging Tips and Jupyter Help](#1.4)\n",
    "<br/><br/>\n",
    "2. [Simulations](#2)\n",
    "    - [Experiment 1](#2.1)\n",
    "    - [Experiment 2](#2.2)\n",
    "    - [Experiment 3](#2.3)\n",
    "<br/><br/>\n",
    "3. [Submitting the Lab](#3)\n",
    "<br/><br/>\n",
    "4. [Bibliography](#4)"
   ]
  },
  {
   "cell_type": "markdown",
   "metadata": {},
   "source": [
    "# Jupyter Notebooks <a id='1'></a>\n",
    "---"
   ]
  },
  {
   "cell_type": "markdown",
   "metadata": {},
   "source": [
    "This lab is currently set up in a Jupyter Notebook. A Jupyter Notebook is an online, interactive computing environment, composed of different types of __cells__. Cells are chunks of code or text that are used to break up a larger notebook into smaller, more manageable parts and to let the viewer modify and interact with the elements of the notebook."
   ]
  },
  {
   "cell_type": "markdown",
   "metadata": {},
   "source": [
    "### Types of cells <a id='1.1'></a>"
   ]
  },
  {
   "cell_type": "markdown",
   "metadata": {},
   "source": [
    "There are two types of cells in Jupyter, code cells and markdown cells. Coding cells are cells indicated with \n",
    "“In [ ]:” to the left of the cell. In these cells you can write you own code and run the code in the individual cell. Markdown cells hold text a majority of the time and do not have the “In [ ]” to the left of the cell (Just an empty space)."
   ]
  },
  {
   "cell_type": "markdown",
   "metadata": {},
   "source": [
    "### Running Cells <a id='1.2'></a>"
   ]
  },
  {
   "cell_type": "markdown",
   "metadata": {},
   "source": [
    "\"Running\" a cell is similar to pressing 'Enter' on a calculator once you've typed in an expression; it computes all of the expressions contained within the cell.\n",
    "\n",
    "To run a code cell, you can do one of the following:\n",
    "- press __Shift + Enter__\n",
    "- click __Cell -> Run Cells__ in the toolbar at the top of the screen.\n",
    "\n",
    "You can navigate the cells by either clicking on them or by using your up and down arrow keys. Try running the cell below to see what happens. "
   ]
  },
  {
   "cell_type": "code",
   "execution_count": null,
   "metadata": {},
   "outputs": [],
   "source": [
    "print(\"Hello, World!\")"
   ]
  },
  {
   "cell_type": "markdown",
   "metadata": {},
   "source": [
    "The input of the cell consists of the text/code that is contained within the cell's enclosing box. Here, the input is an expression in Python that \"prints\" or repeats whatever text or number is passed in. \n",
    "\n",
    "The output of running a cell is shown in the line immediately after it. Notice that markdown cells have no output. "
   ]
  },
  {
   "cell_type": "markdown",
   "metadata": {},
   "source": [
    "### Editing, Saving and Sumbitting <a id='1.3'> </a>"
   ]
  },
  {
   "cell_type": "markdown",
   "metadata": {},
   "source": [
    "- To __edit__ a cell simply click on the desired cell and begin typing \n",
    "- To __save__ your notebook press command + s on the keyboard \n",
    "- We will go into the specifics of how to __submit__ your work at the end of the lab, but you will essentially be converting your work into a PDF file and then submitting it to bCourses"
   ]
  },
  {
   "cell_type": "markdown",
   "metadata": {},
   "source": [
    "__Make sure to run the cells below before continuing with the rest of this notebook!__"
   ]
  },
  {
   "cell_type": "code",
   "execution_count": null,
   "metadata": {},
   "outputs": [],
   "source": [
    "! pip install pycairo"
   ]
  },
  {
   "cell_type": "code",
   "execution_count": null,
   "metadata": {},
   "outputs": [],
   "source": [
    "! pip install calysto"
   ]
  },
  {
   "cell_type": "code",
   "execution_count": null,
   "metadata": {},
   "outputs": [],
   "source": [
    "! pip install ipywidgets"
   ]
  },
  {
   "cell_type": "code",
   "execution_count": null,
   "metadata": {},
   "outputs": [],
   "source": [
    "import numpy as np\n",
    "import pandas as pd\n",
    "import matplotlib\n",
    "%matplotlib inline\n",
    "import matplotlib.pyplot as plt\n",
    "plt.style.use('fivethirtyeight')\n",
    "\n",
    "import widget1\n",
    "import widget2\n",
    "import widget3\n",
    "import sheep_wolves_widget"
   ]
  },
  {
   "cell_type": "markdown",
   "metadata": {},
   "source": [
    "<br>\n",
    "\n",
    "# Simulations <a id='2'></a>\n",
    "---"
   ]
  },
  {
   "cell_type": "markdown",
   "metadata": {},
   "source": [
    "## Experiment 1: Investigating the Effect of Camouflage on Population Size <a id='2.1'></a>"
   ]
  },
  {
   "cell_type": "markdown",
   "metadata": {
    "collapsed": true
   },
   "source": [
    "In this experiment your group used three different colored beads as the prey population. In the allotted amount of time the designated predator captured as many prey as possible. The remaining prey that is not captured was then used to calculate the reproduction rate for the next generation. \n",
    "\n",
    "The purpose of this experiment is to examine the role of coloration in susceptibility to predation, in this case, the different colors of beads and the difficulty each color poses when trying to find them in grass. With the same starting density, same reproductive rate, constant carry capacity and constant predation, this experiment attempts isolate the effect of coloration on predation. "
   ]
  },
  {
   "cell_type": "markdown",
   "metadata": {},
   "source": [
    "Note that the values start with populations 10 time larger than on the lab worksheet. This is helpful because it reduces the variability in outcomes (especially early extinction). Also note that predation rates are relative (all 5s is the same as all 1s)."
   ]
  },
  {
   "cell_type": "code",
   "execution_count": null,
   "metadata": {},
   "outputs": [],
   "source": [
    "widget1.show_widget()"
   ]
  },
  {
   "cell_type": "markdown",
   "metadata": {},
   "source": [
    "### Discussion Questions"
   ]
  },
  {
   "cell_type": "markdown",
   "metadata": {},
   "source": [
    "**Question 1a**\n",
    "\n",
    "What is your hypothesis in regards to the effect of camouflage on the population size?"
   ]
  },
  {
   "cell_type": "markdown",
   "metadata": {},
   "source": [
    "*Type your answer here*"
   ]
  },
  {
   "cell_type": "markdown",
   "metadata": {},
   "source": [
    "**Question 1b**\n",
    "\n",
    "Due to the limited amount of bead availabe for use in this experiment, there was a constant carrying capacity. With these simulations, resources are not a limiting factor! Use the widget below to simulate the experiment with no carrying capacity and describe what, if anything, changes during the predator prey interactions.\n"
   ]
  },
  {
   "cell_type": "markdown",
   "metadata": {},
   "source": [
    "_Type your answer here_"
   ]
  },
  {
   "cell_type": "markdown",
   "metadata": {},
   "source": [
    "**Question 1c**\n",
    "\n",
    "Using the simulation widget above, run multiple simulations with different parameters. \n",
    "\n",
    "Describe the changes that occurred in the simulation under different conditions. \n",
    "\n",
    "* When were there extinctions? \n",
    "\n",
    "* When were there cycles? \n",
    "\n",
    "* Explain how parameter changes result in outcome changes."
   ]
  },
  {
   "cell_type": "markdown",
   "metadata": {},
   "source": [
    "*Type your answer here*"
   ]
  },
  {
   "cell_type": "markdown",
   "metadata": {
    "collapsed": true
   },
   "source": [
    "<br>\n",
    "\n",
    "## Experiment 2: Can reproductive rate compensate for vulnerability to predation; incorporating population density dependence?  <a id='2.2'></a>"
   ]
  },
  {
   "cell_type": "markdown",
   "metadata": {
    "collapsed": true
   },
   "source": [
    "This variation of the experiment works with two species, rather than the three from experiment 1 and focuses on the effects of a change in reproduction rate and density dependence. In particular, this experiment changes two aspects of the simulation:\n",
    "\n",
    "1. The level of reproduction of the two prey species - this experiment gives one species a reproductive advantage\n",
    "2. The population growth is computed with density-dependence\n"
   ]
  },
  {
   "cell_type": "code",
   "execution_count": null,
   "metadata": {},
   "outputs": [],
   "source": [
    "widget2.show_widget()"
   ]
  },
  {
   "cell_type": "markdown",
   "metadata": {},
   "source": [
    "### Discussion Questions"
   ]
  },
  {
   "cell_type": "markdown",
   "metadata": {},
   "source": [
    "**Question 2a**\n",
    "\n",
    "What is your hypothesis regarding the ability of reproductive rate to compensate for predation?"
   ]
  },
  {
   "cell_type": "markdown",
   "metadata": {},
   "source": [
    "*Type your answer here*"
   ]
  },
  {
   "cell_type": "markdown",
   "metadata": {},
   "source": [
    "**Question 2b**\n",
    "\n",
    "\n",
    "How does the incorportation of desity dependence change the simulation? "
   ]
  },
  {
   "cell_type": "markdown",
   "metadata": {},
   "source": [
    "*Type you answer here*"
   ]
  },
  {
   "cell_type": "markdown",
   "metadata": {},
   "source": [
    "<br>\n",
    "\n",
    "## Experiment 3: Predator-Prey Cycles <a id='2.3'></a>"
   ]
  },
  {
   "cell_type": "markdown",
   "metadata": {},
   "source": [
    "This last experiment uses the Lotka-Volterra equation to model the interaction between predator and prey. The Lotka-Volterra equation predicts the cyclicity or stable coexistence of predators and preys. This particular experiment uses only one prey species and multiple generations of predators. "
   ]
  },
  {
   "cell_type": "code",
   "execution_count": null,
   "metadata": {},
   "outputs": [],
   "source": [
    "lynx_hare_df = pd.read_csv('lynxhare.csv', delimiter=';') # Read the data from the CSV file\n",
    "lynx_hare_df = lynx_hare_df[(lynx_hare_df['hare'].notna()) & (lynx_hare_df['lynx'].notna())]\n",
    "# Remove null (missing) data\n",
    "lynx_hare_df = lynx_hare_df[['year', 'hare', 'lynx']].set_index('year') # Clean up dataframe\n",
    "\n",
    "def normalize_column(series):\n",
    "    return series / np.mean(series)\n",
    "\n",
    "# Normalize the data to be centered around 1.0\n",
    "lynx_hare_df['hare'] = normalize_column(lynx_hare_df['hare'])\n",
    "lynx_hare_df['lynx'] = normalize_column(lynx_hare_df['lynx'])\n",
    "\n",
    "# Create the plot\n",
    "ax = lynx_hare_df.plot();\n",
    "ax.set_ylabel('Normalized Population Size');\n",
    "ax.set_title('Lynx Hare Populations');"
   ]
  },
  {
   "cell_type": "markdown",
   "metadata": {},
   "source": [
    "Data Source:\n",
    "https://github.com/bblais/Systems-Modeling-Spring-2015-Notebooks/blob/master/data/Lynx%20and%20Hare%20Data/lynxhare.csv"
   ]
  },
  {
   "cell_type": "code",
   "execution_count": null,
   "metadata": {
    "scrolled": true
   },
   "outputs": [],
   "source": [
    "lynx_hare_2_df = pd.read_excel('hare_lynx_data.xlsx') # Read the data from an Excel file\n",
    "lynx_hare_2_df = lynx_hare_2_df[1:].iloc[:,0:3] # Select the columns we care about\n",
    "lynx_hare_2_df.columns = ['Year', 'Hare', 'Lynx'] # Clean up dataframe\n",
    "lynx_hare_2_df = lynx_hare_2_df.set_index('Year')\n",
    "\n",
    "def normalize_column(series):\n",
    "    return series / np.mean(series)\n",
    "\n",
    "# Normalize the data to be centered around 1.0\n",
    "lynx_hare_2_df['Hare'] = normalize_column(lynx_hare_2_df['Hare'])\n",
    "lynx_hare_2_df['Lynx'] = normalize_column(lynx_hare_2_df['Lynx'])\n",
    "\n",
    "ax = lynx_hare_2_df.plot();\n",
    "ax.set_ylabel('Population Size');\n",
    "ax.set_title('Lynx Hare Populations');"
   ]
  },
  {
   "cell_type": "markdown",
   "metadata": {},
   "source": [
    "Data Source: http://www2.nau.edu/lrm22/lessons/predator_prey/predator_prey.html"
   ]
  },
  {
   "cell_type": "code",
   "execution_count": null,
   "metadata": {},
   "outputs": [],
   "source": [
    "widget3.show_widget()"
   ]
  },
  {
   "cell_type": "markdown",
   "metadata": {},
   "source": [
    "### Discussion Questions"
   ]
  },
  {
   "cell_type": "markdown",
   "metadata": {},
   "source": [
    "**Question 3a**\n",
    "\n",
    "This experiment incorporated multiple generations of predators. Describe how this affects the experiment in relation to the previous two experiments, where there was a constant predator number. "
   ]
  },
  {
   "cell_type": "markdown",
   "metadata": {},
   "source": [
    "*Type your answer here*"
   ]
  },
  {
   "cell_type": "markdown",
   "metadata": {},
   "source": [
    "**Question 3b**\n",
    "\n",
    "How did the population of prey and the population of predators fluctuate in relation to eachother? Is there a relationship between the two?"
   ]
  },
  {
   "cell_type": "markdown",
   "metadata": {},
   "source": [
    "*Type your answer here*"
   ]
  },
  {
   "cell_type": "markdown",
   "metadata": {},
   "source": [
    "### Sheep, Wolves and Grass"
   ]
  },
  {
   "cell_type": "markdown",
   "metadata": {},
   "source": [
    "Below is an interactive widget that simulated the interactions between wolves, sheep and the numerous factors that have an effect of their interactions. Use the toggles to set different parameters for a cycle of the wolves and sheep interactions. Feel free to click around and try different sets of parameters!"
   ]
  },
  {
   "cell_type": "code",
   "execution_count": null,
   "metadata": {},
   "outputs": [],
   "source": [
    "sheep_wolves_widget.show_widget()"
   ]
  },
  {
   "cell_type": "markdown",
   "metadata": {},
   "source": [
    "<br>\n",
    "\n",
    "## Submitting the Lab <a id='3'> </a>"
   ]
  },
  {
   "cell_type": "markdown",
   "metadata": {},
   "source": [
    "<br>\n",
    "\n",
    "## Bibliography<a id='4'> </a>\n",
    "\n",
    "Lynx Hare Datasets:\n",
    "- https://github.com/bblais/Systems-Modeling-Spring-2015-Notebooks/blob/master/data/Lynx%20and%20Hare%20Data/lynxhare.csv\n",
    "- http://www2.nau.edu/lrm22/lessons/predator_prey/predator_prey.html"
   ]
  },
  {
   "cell_type": "markdown",
   "metadata": {},
   "source": [
    "---\n",
    "\n",
    "Notebook developed by: Joshua Asuncion, Karalyn Chong, Andy Sheu\n",
    "\n",
    "Data Science Modules: http://data.berkeley.edu/education/modules"
   ]
  }
 ],
 "metadata": {
  "kernelspec": {
   "display_name": "Python 3",
   "language": "python",
   "name": "python3"
  },
  "language_info": {
   "codemirror_mode": {
    "name": "ipython",
    "version": 3
   },
   "file_extension": ".py",
   "mimetype": "text/x-python",
   "name": "python",
   "nbconvert_exporter": "python",
   "pygments_lexer": "ipython3",
   "version": "3.6.9"
  }
 },
 "nbformat": 4,
 "nbformat_minor": 2
}
