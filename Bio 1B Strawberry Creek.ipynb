{
 "cells": [
  {
   "cell_type": "markdown",
   "metadata": {},
   "source": [
    "# Bioindicators of Strawberry Creek"
   ]
  },
  {
   "cell_type": "code",
   "execution_count": 1,
   "metadata": {},
   "outputs": [],
   "source": [
    "import pandas as pd\n",
    "import ipywidgets as widget\n",
    "import numpy as np\n",
    "import qgrid\n",
    "from datascience import *"
   ]
  },
  {
   "cell_type": "markdown",
   "metadata": {},
   "source": [
    "Throughout the course of this lab you will be using Python to analyze the data that you collected from Strawberry Creek. The main purpose of this lab is to determine whether or not the ecological health of the two branches of the creek have a significant different."
   ]
  },
  {
   "cell_type": "markdown",
   "metadata": {},
   "source": [
    "The goals of the lab are to be able to:\n",
    "- Explain the use of biological organisms as indicators of ecosystem health\n",
    "- Define dichotomous keys and use them to ID organisms\n",
    "- Interpret biological metrics: taxa richness, %EPT, Biotic Index, % Filterers, % Predators\n",
    "- Analyze simulated resampling to determine if two assemblages of organisms are different fro"
   ]
  },
  {
   "cell_type": "markdown",
   "metadata": {},
   "source": [
    "## Biological Organisms as Indicators of Ecological Health"
   ]
  },
  {
   "cell_type": "markdown",
   "metadata": {},
   "source": [
    "**short refresher on the pdf of lab**"
   ]
  },
  {
   "cell_type": "markdown",
   "metadata": {},
   "source": [
    "## Introduction to Python"
   ]
  },
  {
   "cell_type": "markdown",
   "metadata": {},
   "source": [
    "This lab is currently set up in a Jupyter Notebook. Jupyter Notebook is an application that allows for creating and sharing documents of code, equations, visualizations, etc.\n",
    " \n",
    "**Types of cells:**\n",
    "\n",
    "There are two types of cells in Jupyter, code cells and markdown cells. Coding cells are cells indicated with \n",
    "“In []:” to the left of the cell. In these cells you can write you own code and run the code in the individual cell. Markdown cells hold text a majority of the time and do not have the “In [ ]” to the left of the cell (Just an empty space). \n",
    "\n",
    "**How to run a cell:**\n",
    "\n",
    "To run a cell you can either press the “Run” option on the Jupyter toolbar to run the individual cell, or you can select the “Cell” option and a dropdown bar will appear. With the dropdown bar you can choose to run all cells, all of the cells above, or all of the cells below the cell you are working in.\n",
    "\n",
    "**How to Edit/Save/Submit:**\n",
    "- To edit a cell simply click on the desired cell and begin typing \n",
    "- To save your notebook press command + s on the keyboard \n",
    "- We will go into the specifics of how to submit your work at the end of the lab, but you will essentially be converting your work into a PDF file and then submitting it to bCourses\n",
    "\n",
    "**Debugging Tips/Jupyter Help**\n",
    "...\n"
   ]
  },
  {
   "cell_type": "markdown",
   "metadata": {},
   "source": [
    "## Introduction to Data Analytics"
   ]
  },
  {
   "cell_type": "markdown",
   "metadata": {},
   "source": [
    "**Null Hypothesis vs. Alternate Hypothesis**\n",
    "\n",
    "One of the first problems to work through when looking at a data set is to determine whether or not the trends in the data are significant or purely due to random chance. In this particular lab we are trying to determine whether or not the difference between the ecological healths of the two branches of the creek are significant or if it is due to chance. To do this we begin by forming a null hypothesis and an alternative hypothesis to test. A null hypothesis claims that there is no statistical difference between two distributions and that any difference is due to experimental error or chance. An alternative hypothesis essentially counters the null hypothesis and claims that the difference in distribution is significant. An example of a null and alternative hypothesis for this lab would be: \n",
    "\n",
    "\n",
    "Null Hypothesis: The distribution of the ecological health is the same for the samples taken from North Fork as the samples taken from South Fork. The difference in sample distribution is due to chance. \n",
    "\n",
    "Alternative Hypothesis: The ecological health in (North/ South) Fork of Strawberry Creek is lower than the ecological health in the (North/South) Fork.\n",
    "\n",
    "After you have your null and alternative hypothesis, the next step is to simulate the distribution under the null hypothesis! Theoretically, if the difference in distribution were do solely to random chance, then it would not "
   ]
  },
  {
   "cell_type": "markdown",
   "metadata": {},
   "source": [
    "**Resampling/Bootstrapping**"
   ]
  },
  {
   "cell_type": "markdown",
   "metadata": {},
   "source": [
    "## Submitting the Lab"
   ]
  },
  {
   "cell_type": "markdown",
   "metadata": {},
   "source": [
    "... "
   ]
  },
  {
   "cell_type": "code",
   "execution_count": null,
   "metadata": {},
   "outputs": [],
   "source": []
  },
  {
   "cell_type": "code",
   "execution_count": 2,
   "metadata": {},
   "outputs": [],
   "source": [
    "#not exactly sure why the qgrid widget isn't displaying anything"
   ]
  },
  {
   "cell_type": "code",
   "execution_count": 3,
   "metadata": {},
   "outputs": [],
   "source": [
    "data = pd.read_csv('ice cream.csv')"
   ]
  },
  {
   "cell_type": "code",
   "execution_count": 4,
   "metadata": {},
   "outputs": [
    {
     "data": {
      "application/vnd.jupyter.widget-view+json": {
       "model_id": "44ab130685f64d85bebb99316fa27151",
       "version_major": 2,
       "version_minor": 0
      },
      "text/plain": [
       "QgridWidget(grid_options={'fullWidthRows': True, 'syncColumnCellResize': True, 'forceFitColumns': True, 'defau…"
      ]
     },
     "metadata": {},
     "output_type": "display_data"
    }
   ],
   "source": [
    "qgrid.show_grid(data)"
   ]
  },
  {
   "cell_type": "code",
   "execution_count": 5,
   "metadata": {},
   "outputs": [
    {
     "data": {
      "text/html": [
       "<div>\n",
       "<style scoped>\n",
       "    .dataframe tbody tr th:only-of-type {\n",
       "        vertical-align: middle;\n",
       "    }\n",
       "\n",
       "    .dataframe tbody tr th {\n",
       "        vertical-align: top;\n",
       "    }\n",
       "\n",
       "    .dataframe thead th {\n",
       "        text-align: right;\n",
       "    }\n",
       "</style>\n",
       "<table border=\"1\" class=\"dataframe\">\n",
       "  <thead>\n",
       "    <tr style=\"text-align: right;\">\n",
       "      <th></th>\n",
       "      <th>flavor</th>\n",
       "      <th>color</th>\n",
       "      <th>price</th>\n",
       "    </tr>\n",
       "  </thead>\n",
       "  <tbody>\n",
       "    <tr>\n",
       "      <th>0</th>\n",
       "      <td>chocolate</td>\n",
       "      <td>brown</td>\n",
       "      <td>1</td>\n",
       "    </tr>\n",
       "    <tr>\n",
       "      <th>1</th>\n",
       "      <td>strawberry</td>\n",
       "      <td>pink</td>\n",
       "      <td>3</td>\n",
       "    </tr>\n",
       "    <tr>\n",
       "      <th>2</th>\n",
       "      <td>mint</td>\n",
       "      <td>green</td>\n",
       "      <td>2</td>\n",
       "    </tr>\n",
       "    <tr>\n",
       "      <th>3</th>\n",
       "      <td>vanilla</td>\n",
       "      <td>white</td>\n",
       "      <td>2</td>\n",
       "    </tr>\n",
       "    <tr>\n",
       "      <th>4</th>\n",
       "      <td>mint chip</td>\n",
       "      <td>green</td>\n",
       "      <td>1</td>\n",
       "    </tr>\n",
       "    <tr>\n",
       "      <th>5</th>\n",
       "      <td>pistachio</td>\n",
       "      <td>green</td>\n",
       "      <td>3</td>\n",
       "    </tr>\n",
       "    <tr>\n",
       "      <th>6</th>\n",
       "      <td>black cherry</td>\n",
       "      <td>pink</td>\n",
       "      <td>2</td>\n",
       "    </tr>\n",
       "    <tr>\n",
       "      <th>7</th>\n",
       "      <td>chocolate chip</td>\n",
       "      <td>brown</td>\n",
       "      <td>1</td>\n",
       "    </tr>\n",
       "  </tbody>\n",
       "</table>\n",
       "</div>"
      ],
      "text/plain": [
       "           flavor  color  price\n",
       "0       chocolate  brown      1\n",
       "1      strawberry   pink      3\n",
       "2            mint  green      2\n",
       "3         vanilla  white      2\n",
       "4       mint chip  green      1\n",
       "5       pistachio  green      3\n",
       "6    black cherry   pink      2\n",
       "7  chocolate chip  brown      1"
      ]
     },
     "execution_count": 5,
     "metadata": {},
     "output_type": "execute_result"
    }
   ],
   "source": [
    "data"
   ]
  }
 ],
 "metadata": {
  "kernelspec": {
   "display_name": "Python 3",
   "language": "python",
   "name": "python3"
  },
  "language_info": {
   "codemirror_mode": {
    "name": "ipython",
    "version": 3
   },
   "file_extension": ".py",
   "mimetype": "text/x-python",
   "name": "python",
   "nbconvert_exporter": "python",
   "pygments_lexer": "ipython3",
   "version": "3.7.1"
  }
 },
 "nbformat": 4,
 "nbformat_minor": 2
}
