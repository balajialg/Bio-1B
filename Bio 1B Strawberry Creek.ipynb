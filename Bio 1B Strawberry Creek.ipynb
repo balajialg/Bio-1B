{
 "cells": [
  {
   "cell_type": "markdown",
   "metadata": {},
   "source": [
    "# Bioindicators of Strawberry Creek\n",
    "### Professors Mary Power, John Huelsenbeck & Bruce Baldwin\n",
    "_Estimated Time: 50 minutes_"
   ]
  },
  {
   "cell_type": "markdown",
   "metadata": {},
   "source": [
    "Welcome! In this lab you will be using data science tools to determine the significance between the ecological health of the two branches of Strawberry Creek.\n",
    "\n",
    "**Learning Outcomes**\n",
    "\n",
    "By the end of the notebook, students should be able to:\n",
    "\n",
    "1. Explain the use of biological organisms as indicators of ecosystem health\n",
    "2. Define dichotomous keys and use them to ID organisms\n",
    "3. Interpret biological metrics: taxa richness, %EPT, Biotic Index, % Filterers, % Predators\n",
    "4. Analyze simulated resampling to determine if two assemblages of organisms are different fro"
   ]
  },
  {
   "cell_type": "markdown",
   "metadata": {},
   "source": [
    "## Table of Contents \n",
    "\n",
    "1. [Jupyter Notebooks](#1)\n",
    "    - [Types of Cells](#1.1)\n",
    "    - [Running Cells](#1.2)\n",
    "    - [Editting, Saving and Submitting](#1.3)\n",
    "    - [Debugging Tips and Jupyter Help](#1.4)\n",
    "<br/><br/>\n",
    "2. [Introduction to Data Analytics](#2)\n",
    "    - [Null and Alternate Hypothesis](#2.1)\n",
    "    - [Permutation Test](#2.2)\n",
    "    - [Bootstrapping](#2.3)\n",
    "<br/><br/>\n",
    "3. [Introduction to Data Analytics](#3)\n",
    "    - [Experiment 1](#3.1)\n",
    "    - [Experiment 2](#3.2)\n",
    "    - [Experiment 3](#3.3)\n",
    "<br/><br/>"
   ]
  },
  {
   "cell_type": "markdown",
   "metadata": {},
   "source": [
    "## Jupyter Notebooks <a id='1'></a>"
   ]
  },
  {
   "cell_type": "markdown",
   "metadata": {},
   "source": [
    "This lab is currently set up in a Jupyter Notebook. A Jupyter Notebook is an online, interactive computing environment, composed of different types of __cells__. Cells are chunks of code or text that are used to break up a larger notebook into smaller, more manageable parts and to let the viewer modify and interact with the elements of the notebook.\n",
    " \n",
    "### Types of cells <a id= '1.1'> </a>\n",
    "\n",
    "There are two types of cells in Jupyter, __code__ cells and __markdown__ cells. Code cells are cells indicated with “In [ ]:” to the left of the cell. In these cells you can write you own code and run the code in the individual cell.\n",
    "Markdown cells hold text a majority of the time and do not have the “In [ ]” to the left of the cell (Just an empty space). "
   ]
  },
  {
   "cell_type": "markdown",
   "metadata": {},
   "source": [
    "### Running cells <a id= '1.2'> </a>"
   ]
  },
  {
   "cell_type": "markdown",
   "metadata": {},
   "source": [
    "\"Running\" a cell is similar to pressing 'Enter' on a calculator once you've typed in an expression; it computes all of the expressions contained within the cell.\n",
    "\n",
    "To run a code cell, you can do one of the following:\n",
    "- press __Shift + Enter__\n",
    "- click __Cell -> Run Cells__ in the toolbar at the top of the screen.\n",
    "\n",
    "You can navigate the cells by either clicking on them or by using your up and down arrow keys. Try running the cell below to see what happens. "
   ]
  },
  {
   "cell_type": "code",
   "execution_count": 4,
   "metadata": {},
   "outputs": [
    {
     "name": "stdout",
     "output_type": "stream",
     "text": [
      "Hello, World!\n"
     ]
    }
   ],
   "source": [
    "print(\"Hello, World!\")"
   ]
  },
  {
   "cell_type": "markdown",
   "metadata": {},
   "source": [
    "The input of the cell consists of the text/code that is contained within the cell's enclosing box. Here, the input is an expression in Python that \"prints\" or repeats whatever text or number is passed in. \n",
    "\n",
    "The output of running a cell is shown in the line immediately after it. Notice that markdown cells have no output. "
   ]
  },
  {
   "cell_type": "markdown",
   "metadata": {},
   "source": [
    "### Editing, Saving and Sumbitting <a id='1.3'> </a>"
   ]
  },
  {
   "cell_type": "markdown",
   "metadata": {},
   "source": [
    "- To __edit__ a cell simply click on the desired cell and begin typing \n",
    "- To __save__ your notebook press command + s on the keyboard \n",
    "- We will go into the specifics of how to __submit__ your work at the end of the lab, but you will essentially be converting your work into a PDF file and then submitting it to bCourses"
   ]
  },
  {
   "cell_type": "markdown",
   "metadata": {},
   "source": [
    "### Debugging Tips and Jupyter Help <a id= '1.4'> </a>"
   ]
  },
  {
   "cell_type": "markdown",
   "metadata": {},
   "source": [
    "..."
   ]
  },
  {
   "cell_type": "markdown",
   "metadata": {},
   "source": [
    "## Introduction <a id='2'> </a>"
   ]
  },
  {
   "cell_type": "markdown",
   "metadata": {},
   "source": [
    "Throughout the course of this lab you will be using Python to analyze the data that you collected from Strawberry Creek. The main purpose of this lab is to determine whether or not the ecological health of the two branches of the creek have a significant different.\n",
    "\n",
    "**More about how it relates to lab -exactly how they are going to use code and stuff- and why data analysis is helpful for what they are doing**"
   ]
  },
  {
   "cell_type": "code",
   "execution_count": 5,
   "metadata": {
    "scrolled": true
   },
   "outputs": [
    {
     "name": "stdout",
     "output_type": "stream",
     "text": [
      "Requirement already satisfied: qgrid in /Users/Karalyn/anaconda3/lib/python3.7/site-packages (1.1.1)\n",
      "Requirement already satisfied: pandas>=0.18.0 in /Users/Karalyn/anaconda3/lib/python3.7/site-packages (from qgrid) (0.24.2)\n",
      "Requirement already satisfied: ipywidgets>=7.0.0 in /Users/Karalyn/anaconda3/lib/python3.7/site-packages (from qgrid) (7.4.2)\n",
      "Requirement already satisfied: notebook>=4.0.0 in /Users/Karalyn/anaconda3/lib/python3.7/site-packages (from qgrid) (5.7.8)\n",
      "Requirement already satisfied: python-dateutil>=2.5.0 in /Users/Karalyn/anaconda3/lib/python3.7/site-packages (from pandas>=0.18.0->qgrid) (2.8.0)\n",
      "Requirement already satisfied: numpy>=1.12.0 in /Users/Karalyn/anaconda3/lib/python3.7/site-packages (from pandas>=0.18.0->qgrid) (1.16.2)\n",
      "Requirement already satisfied: pytz>=2011k in /Users/Karalyn/anaconda3/lib/python3.7/site-packages (from pandas>=0.18.0->qgrid) (2018.9)\n",
      "Requirement already satisfied: widgetsnbextension~=3.4.0 in /Users/Karalyn/anaconda3/lib/python3.7/site-packages (from ipywidgets>=7.0.0->qgrid) (3.4.2)\n",
      "Requirement already satisfied: traitlets>=4.3.1 in /Users/Karalyn/anaconda3/lib/python3.7/site-packages (from ipywidgets>=7.0.0->qgrid) (4.3.2)\n",
      "Requirement already satisfied: ipykernel>=4.5.1 in /Users/Karalyn/anaconda3/lib/python3.7/site-packages (from ipywidgets>=7.0.0->qgrid) (5.1.0)\n",
      "Requirement already satisfied: nbformat>=4.2.0 in /Users/Karalyn/anaconda3/lib/python3.7/site-packages (from ipywidgets>=7.0.0->qgrid) (4.4.0)\n",
      "Requirement already satisfied: ipython>=4.0.0; python_version >= \"3.3\" in /Users/Karalyn/anaconda3/lib/python3.7/site-packages (from ipywidgets>=7.0.0->qgrid) (7.4.0)\n",
      "Requirement already satisfied: ipython-genutils in /Users/Karalyn/anaconda3/lib/python3.7/site-packages (from notebook>=4.0.0->qgrid) (0.2.0)\n",
      "Requirement already satisfied: jupyter-core>=4.4.0 in /Users/Karalyn/anaconda3/lib/python3.7/site-packages (from notebook>=4.0.0->qgrid) (4.4.0)\n",
      "Requirement already satisfied: tornado<7,>=4.1 in /Users/Karalyn/anaconda3/lib/python3.7/site-packages (from notebook>=4.0.0->qgrid) (6.0.2)\n",
      "Requirement already satisfied: jinja2 in /Users/Karalyn/anaconda3/lib/python3.7/site-packages (from notebook>=4.0.0->qgrid) (2.10)\n",
      "Requirement already satisfied: terminado>=0.8.1 in /Users/Karalyn/anaconda3/lib/python3.7/site-packages (from notebook>=4.0.0->qgrid) (0.8.1)\n",
      "Requirement already satisfied: jupyter-client>=5.2.0 in /Users/Karalyn/anaconda3/lib/python3.7/site-packages (from notebook>=4.0.0->qgrid) (5.2.4)\n",
      "Requirement already satisfied: Send2Trash in /Users/Karalyn/anaconda3/lib/python3.7/site-packages (from notebook>=4.0.0->qgrid) (1.5.0)\n",
      "Requirement already satisfied: pyzmq>=17 in /Users/Karalyn/anaconda3/lib/python3.7/site-packages (from notebook>=4.0.0->qgrid) (18.0.0)\n",
      "Requirement already satisfied: nbconvert in /Users/Karalyn/anaconda3/lib/python3.7/site-packages (from notebook>=4.0.0->qgrid) (5.4.1)\n",
      "Requirement already satisfied: prometheus-client in /Users/Karalyn/anaconda3/lib/python3.7/site-packages (from notebook>=4.0.0->qgrid) (0.6.0)\n",
      "Requirement already satisfied: six>=1.5 in /Users/Karalyn/anaconda3/lib/python3.7/site-packages (from python-dateutil>=2.5.0->pandas>=0.18.0->qgrid) (1.12.0)\n",
      "Requirement already satisfied: decorator in /Users/Karalyn/anaconda3/lib/python3.7/site-packages (from traitlets>=4.3.1->ipywidgets>=7.0.0->qgrid) (4.4.0)\n",
      "Requirement already satisfied: jsonschema!=2.5.0,>=2.4 in /Users/Karalyn/anaconda3/lib/python3.7/site-packages (from nbformat>=4.2.0->ipywidgets>=7.0.0->qgrid) (3.0.1)\n",
      "Requirement already satisfied: setuptools>=18.5 in /Users/Karalyn/anaconda3/lib/python3.7/site-packages (from ipython>=4.0.0; python_version >= \"3.3\"->ipywidgets>=7.0.0->qgrid) (40.8.0)\n",
      "Requirement already satisfied: prompt-toolkit<2.1.0,>=2.0.0 in /Users/Karalyn/anaconda3/lib/python3.7/site-packages (from ipython>=4.0.0; python_version >= \"3.3\"->ipywidgets>=7.0.0->qgrid) (2.0.9)\n",
      "Requirement already satisfied: appnope; sys_platform == \"darwin\" in /Users/Karalyn/anaconda3/lib/python3.7/site-packages (from ipython>=4.0.0; python_version >= \"3.3\"->ipywidgets>=7.0.0->qgrid) (0.1.0)\n",
      "Requirement already satisfied: backcall in /Users/Karalyn/anaconda3/lib/python3.7/site-packages (from ipython>=4.0.0; python_version >= \"3.3\"->ipywidgets>=7.0.0->qgrid) (0.1.0)\n",
      "Requirement already satisfied: jedi>=0.10 in /Users/Karalyn/anaconda3/lib/python3.7/site-packages (from ipython>=4.0.0; python_version >= \"3.3\"->ipywidgets>=7.0.0->qgrid) (0.13.3)\n",
      "Requirement already satisfied: pygments in /Users/Karalyn/anaconda3/lib/python3.7/site-packages (from ipython>=4.0.0; python_version >= \"3.3\"->ipywidgets>=7.0.0->qgrid) (2.3.1)\n",
      "Requirement already satisfied: pickleshare in /Users/Karalyn/anaconda3/lib/python3.7/site-packages (from ipython>=4.0.0; python_version >= \"3.3\"->ipywidgets>=7.0.0->qgrid) (0.7.5)\n",
      "Requirement already satisfied: pexpect; sys_platform != \"win32\" in /Users/Karalyn/anaconda3/lib/python3.7/site-packages (from ipython>=4.0.0; python_version >= \"3.3\"->ipywidgets>=7.0.0->qgrid) (4.6.0)\n",
      "Requirement already satisfied: MarkupSafe>=0.23 in /Users/Karalyn/anaconda3/lib/python3.7/site-packages (from jinja2->notebook>=4.0.0->qgrid) (1.1.1)\n",
      "Requirement already satisfied: mistune>=0.8.1 in /Users/Karalyn/anaconda3/lib/python3.7/site-packages (from nbconvert->notebook>=4.0.0->qgrid) (0.8.4)\n",
      "Requirement already satisfied: entrypoints>=0.2.2 in /Users/Karalyn/anaconda3/lib/python3.7/site-packages (from nbconvert->notebook>=4.0.0->qgrid) (0.3)\n",
      "Requirement already satisfied: bleach in /Users/Karalyn/anaconda3/lib/python3.7/site-packages (from nbconvert->notebook>=4.0.0->qgrid) (3.1.0)\n",
      "Requirement already satisfied: pandocfilters>=1.4.1 in /Users/Karalyn/anaconda3/lib/python3.7/site-packages (from nbconvert->notebook>=4.0.0->qgrid) (1.4.2)\n",
      "Requirement already satisfied: testpath in /Users/Karalyn/anaconda3/lib/python3.7/site-packages (from nbconvert->notebook>=4.0.0->qgrid) (0.4.2)\n",
      "Requirement already satisfied: defusedxml in /Users/Karalyn/anaconda3/lib/python3.7/site-packages (from nbconvert->notebook>=4.0.0->qgrid) (0.5.0)\n",
      "Requirement already satisfied: attrs>=17.4.0 in /Users/Karalyn/anaconda3/lib/python3.7/site-packages (from jsonschema!=2.5.0,>=2.4->nbformat>=4.2.0->ipywidgets>=7.0.0->qgrid) (19.1.0)\n",
      "Requirement already satisfied: pyrsistent>=0.14.0 in /Users/Karalyn/anaconda3/lib/python3.7/site-packages (from jsonschema!=2.5.0,>=2.4->nbformat>=4.2.0->ipywidgets>=7.0.0->qgrid) (0.14.11)\n",
      "Requirement already satisfied: wcwidth in /Users/Karalyn/anaconda3/lib/python3.7/site-packages (from prompt-toolkit<2.1.0,>=2.0.0->ipython>=4.0.0; python_version >= \"3.3\"->ipywidgets>=7.0.0->qgrid) (0.1.7)\n",
      "Requirement already satisfied: parso>=0.3.0 in /Users/Karalyn/anaconda3/lib/python3.7/site-packages (from jedi>=0.10->ipython>=4.0.0; python_version >= \"3.3\"->ipywidgets>=7.0.0->qgrid) (0.3.4)\n",
      "Requirement already satisfied: ptyprocess>=0.5 in /Users/Karalyn/anaconda3/lib/python3.7/site-packages (from pexpect; sys_platform != \"win32\"->ipython>=4.0.0; python_version >= \"3.3\"->ipywidgets>=7.0.0->qgrid) (0.6.0)\n",
      "Requirement already satisfied: webencodings in /Users/Karalyn/anaconda3/lib/python3.7/site-packages (from bleach->nbconvert->notebook>=4.0.0->qgrid) (0.5.1)\n"
     ]
    }
   ],
   "source": [
    "! pip install qgrid\n",
    "import pandas as pd\n",
    "import ipywidgets as widgets\n",
    "import numpy as np\n",
    "import qgrid\n",
    "from datascience import *\n",
    "from IPython.display import display"
   ]
  },
  {
   "cell_type": "markdown",
   "metadata": {},
   "source": [
    "## Data Recording"
   ]
  },
  {
   "cell_type": "code",
   "execution_count": null,
   "metadata": {},
   "outputs": [],
   "source": []
  },
  {
   "cell_type": "markdown",
   "metadata": {},
   "source": [
    "## Introduction to Data Analytics <a id= '2'> </a>"
   ]
  },
  {
   "cell_type": "markdown",
   "metadata": {},
   "source": [
    "### Null Hypothesis vs. Alternate Hypothesis <a id='2.1'> </a>\n",
    "\n",
    "One of the first problems to work through when looking at a data set is to determine whether or not the trends in the data are significant or purely due to random chance. In this particular lab we are trying to determine whether or not the difference between the ecological healths of the two branches of the creek are significant or if it is due to chance. To do this we begin by forming a null hypothesis and an alternative hypothesis to test. \n",
    "\n",
    "__Null Hypothesis__: A null hypothesis claims that there is no statistical difference between two distributions and that any difference is due to experimental error or chance.\n",
    "\n",
    "__Alternative Hypothesis__: An alternative hypothesis essentially counters the null hypothesis and claims that the difference in distribution is significant.\n",
    "\n",
    "Example Null and Alternative Hypothesis\n",
    "\n",
    "Say we have a data set with data on the number of boba shops on Southside and Northside. The data set shows that Southside has a higher average of boba shops than Northside, but it is unclear whether the difference in the average is due to chance or some other unknown reason. For this data set potential hypotheses would be:\n",
    "\n",
    "Example Null Hypothesis\n",
    "- The distribution of the average of boba shops is the same for the samples taken from Southside as the samples taken from Northside. The difference in sample distribution is due to chance. \n",
    "\n",
    "Example Alternative Hypothesis  \n",
    "- The average of boba shops in Northside is lower than the average of boba shops in Northside."
   ]
  },
  {
   "cell_type": "markdown",
   "metadata": {},
   "source": [
    "**What would be a potential null hypothesis for this lab?**"
   ]
  },
  {
   "cell_type": "markdown",
   "metadata": {},
   "source": [
    "_Type your answer here_"
   ]
  },
  {
   "cell_type": "markdown",
   "metadata": {},
   "source": [
    "**What would be a potential alternative hypothesis?**"
   ]
  },
  {
   "cell_type": "markdown",
   "metadata": {},
   "source": [
    "_Type your answer here_"
   ]
  },
  {
   "cell_type": "markdown",
   "metadata": {},
   "source": [
    "After you have your null and alternative hypothesis, the next step is to simulate the distribution under the null hypothesis! Theoretically, if the difference in distribution were solely due to random chance, then the data that the distribution originally comes from would not matter. This is where permutation tests come in to play."
   ]
  },
  {
   "cell_type": "markdown",
   "metadata": {},
   "source": [
    "### Permutation Test <a id='2.2'> </a>"
   ]
  },
  {
   "cell_type": "markdown",
   "metadata": {},
   "source": [
    "A permutation test essentially shuffles the given data set and creates new distributions. In this case, we are using a permutation test to shuffle the difference in ecological health of the two creeks. As was previously mentioned, permutation tests simulate the null hypothesis because it assumes that there is no significant difference between the distributions. "
   ]
  },
  {
   "cell_type": "code",
   "execution_count": 6,
   "metadata": {},
   "outputs": [
    {
     "data": {
      "text/html": [
       "<div>\n",
       "<style scoped>\n",
       "    .dataframe tbody tr th:only-of-type {\n",
       "        vertical-align: middle;\n",
       "    }\n",
       "\n",
       "    .dataframe tbody tr th {\n",
       "        vertical-align: top;\n",
       "    }\n",
       "\n",
       "    .dataframe thead th {\n",
       "        text-align: right;\n",
       "    }\n",
       "</style>\n",
       "<table border=\"1\" class=\"dataframe\">\n",
       "  <thead>\n",
       "    <tr style=\"text-align: right;\">\n",
       "      <th></th>\n",
       "      <th>FBI Score</th>\n",
       "      <th>Mean FBI Score</th>\n",
       "      <th>Score - Mean</th>\n",
       "      <th>Square of Difference</th>\n",
       "    </tr>\n",
       "  </thead>\n",
       "  <tbody>\n",
       "    <tr>\n",
       "      <th>0</th>\n",
       "      <td>3.5</td>\n",
       "      <td>3.64</td>\n",
       "      <td>-0.14</td>\n",
       "      <td>0.0196</td>\n",
       "    </tr>\n",
       "    <tr>\n",
       "      <th>1</th>\n",
       "      <td>4.0</td>\n",
       "      <td>3.64</td>\n",
       "      <td>0.36</td>\n",
       "      <td>0.1296</td>\n",
       "    </tr>\n",
       "    <tr>\n",
       "      <th>2</th>\n",
       "      <td>3.0</td>\n",
       "      <td>3.64</td>\n",
       "      <td>-0.64</td>\n",
       "      <td>0.4096</td>\n",
       "    </tr>\n",
       "    <tr>\n",
       "      <th>3</th>\n",
       "      <td>3.5</td>\n",
       "      <td>3.64</td>\n",
       "      <td>-0.14</td>\n",
       "      <td>0.0196</td>\n",
       "    </tr>\n",
       "    <tr>\n",
       "      <th>4</th>\n",
       "      <td>4.2</td>\n",
       "      <td>3.64</td>\n",
       "      <td>0.56</td>\n",
       "      <td>0.3136</td>\n",
       "    </tr>\n",
       "  </tbody>\n",
       "</table>\n",
       "</div>"
      ],
      "text/plain": [
       "   FBI Score  Mean FBI Score  Score - Mean  Square of Difference\n",
       "0        3.5            3.64         -0.14                0.0196\n",
       "1        4.0            3.64          0.36                0.1296\n",
       "2        3.0            3.64         -0.64                0.4096\n",
       "3        3.5            3.64         -0.14                0.0196\n",
       "4        4.2            3.64          0.56                0.3136"
      ]
     },
     "execution_count": 6,
     "metadata": {},
     "output_type": "execute_result"
    }
   ],
   "source": [
    "north_fork_example = pd.DataFrame({\n",
    "    'FBI Score':[3.5, 4.0, 3.0, 3.5, 4.2],\n",
    "    'Mean FBI Score':[3.64, 3.64, 3.64, 3.64, 3.64],\n",
    "    'Score - Mean':[-0.14, 0.36, -0.64, -0.14, 0.56],\n",
    "    'Square of Difference':[0.0196, 0.1296, 0.4096, 0.0196, 0.3136]\n",
    "})\n",
    "\n",
    "north_fork_example"
   ]
  },
  {
   "cell_type": "code",
   "execution_count": 7,
   "metadata": {},
   "outputs": [
    {
     "data": {
      "text/html": [
       "<div>\n",
       "<style scoped>\n",
       "    .dataframe tbody tr th:only-of-type {\n",
       "        vertical-align: middle;\n",
       "    }\n",
       "\n",
       "    .dataframe tbody tr th {\n",
       "        vertical-align: top;\n",
       "    }\n",
       "\n",
       "    .dataframe thead th {\n",
       "        text-align: right;\n",
       "    }\n",
       "</style>\n",
       "<table border=\"1\" class=\"dataframe\">\n",
       "  <thead>\n",
       "    <tr style=\"text-align: right;\">\n",
       "      <th></th>\n",
       "      <th>FBI Score</th>\n",
       "      <th>Fork</th>\n",
       "    </tr>\n",
       "  </thead>\n",
       "  <tbody>\n",
       "    <tr>\n",
       "      <th>0</th>\n",
       "      <td>3.5</td>\n",
       "      <td>North</td>\n",
       "    </tr>\n",
       "    <tr>\n",
       "      <th>1</th>\n",
       "      <td>4.0</td>\n",
       "      <td>North</td>\n",
       "    </tr>\n",
       "    <tr>\n",
       "      <th>2</th>\n",
       "      <td>3.0</td>\n",
       "      <td>North</td>\n",
       "    </tr>\n",
       "    <tr>\n",
       "      <th>3</th>\n",
       "      <td>3.5</td>\n",
       "      <td>North</td>\n",
       "    </tr>\n",
       "    <tr>\n",
       "      <th>4</th>\n",
       "      <td>4.2</td>\n",
       "      <td>North</td>\n",
       "    </tr>\n",
       "    <tr>\n",
       "      <th>5</th>\n",
       "      <td>4.5</td>\n",
       "      <td>South</td>\n",
       "    </tr>\n",
       "    <tr>\n",
       "      <th>6</th>\n",
       "      <td>5.0</td>\n",
       "      <td>South</td>\n",
       "    </tr>\n",
       "    <tr>\n",
       "      <th>7</th>\n",
       "      <td>3.6</td>\n",
       "      <td>South</td>\n",
       "    </tr>\n",
       "    <tr>\n",
       "      <th>8</th>\n",
       "      <td>4.9</td>\n",
       "      <td>South</td>\n",
       "    </tr>\n",
       "    <tr>\n",
       "      <th>9</th>\n",
       "      <td>5.1</td>\n",
       "      <td>South</td>\n",
       "    </tr>\n",
       "    <tr>\n",
       "      <th>10</th>\n",
       "      <td>3.4</td>\n",
       "      <td>South</td>\n",
       "    </tr>\n",
       "    <tr>\n",
       "      <th>11</th>\n",
       "      <td>2.9</td>\n",
       "      <td>South</td>\n",
       "    </tr>\n",
       "  </tbody>\n",
       "</table>\n",
       "</div>"
      ],
      "text/plain": [
       "    FBI Score   Fork\n",
       "0         3.5  North\n",
       "1         4.0  North\n",
       "2         3.0  North\n",
       "3         3.5  North\n",
       "4         4.2  North\n",
       "5         4.5  South\n",
       "6         5.0  South\n",
       "7         3.6  South\n",
       "8         4.9  South\n",
       "9         5.1  South\n",
       "10        3.4  South\n",
       "11        2.9  South"
      ]
     },
     "execution_count": 7,
     "metadata": {},
     "output_type": "execute_result"
    }
   ],
   "source": [
    "example = pd.DataFrame({\n",
    "    'FBI Score':[3.5, 4.0, 3.0, 3.5, 4.2, 4.5, 5.0, 3.6, 4.9, 5.1, 3.4, 2.9],\n",
    "    'Fork':np.append(np.repeat('North', 5), np.repeat('South', 7))\n",
    "})\n",
    "example"
   ]
  },
  {
   "cell_type": "code",
   "execution_count": 8,
   "metadata": {},
   "outputs": [
    {
     "data": {
      "text/plain": [
       "FBI Score   -0.56\n",
       "dtype: float64"
      ]
     },
     "execution_count": 8,
     "metadata": {},
     "output_type": "execute_result"
    }
   ],
   "source": [
    "observed_difference = example[example['Fork']=='North'].mean() - example[example['Fork']=='South'].mean()\n",
    "observed_difference"
   ]
  },
  {
   "cell_type": "code",
   "execution_count": 9,
   "metadata": {},
   "outputs": [
    {
     "data": {
      "text/html": [
       "<div>\n",
       "<style scoped>\n",
       "    .dataframe tbody tr th:only-of-type {\n",
       "        vertical-align: middle;\n",
       "    }\n",
       "\n",
       "    .dataframe tbody tr th {\n",
       "        vertical-align: top;\n",
       "    }\n",
       "\n",
       "    .dataframe thead th {\n",
       "        text-align: right;\n",
       "    }\n",
       "</style>\n",
       "<table border=\"1\" class=\"dataframe\">\n",
       "  <thead>\n",
       "    <tr style=\"text-align: right;\">\n",
       "      <th></th>\n",
       "      <th>FBI Score</th>\n",
       "      <th>Fork</th>\n",
       "    </tr>\n",
       "  </thead>\n",
       "  <tbody>\n",
       "    <tr>\n",
       "      <th>5</th>\n",
       "      <td>4.5</td>\n",
       "      <td>North</td>\n",
       "    </tr>\n",
       "    <tr>\n",
       "      <th>11</th>\n",
       "      <td>2.9</td>\n",
       "      <td>North</td>\n",
       "    </tr>\n",
       "    <tr>\n",
       "      <th>10</th>\n",
       "      <td>3.4</td>\n",
       "      <td>North</td>\n",
       "    </tr>\n",
       "    <tr>\n",
       "      <th>1</th>\n",
       "      <td>4.0</td>\n",
       "      <td>North</td>\n",
       "    </tr>\n",
       "    <tr>\n",
       "      <th>4</th>\n",
       "      <td>4.2</td>\n",
       "      <td>North</td>\n",
       "    </tr>\n",
       "    <tr>\n",
       "      <th>7</th>\n",
       "      <td>3.6</td>\n",
       "      <td>South</td>\n",
       "    </tr>\n",
       "    <tr>\n",
       "      <th>9</th>\n",
       "      <td>5.1</td>\n",
       "      <td>South</td>\n",
       "    </tr>\n",
       "    <tr>\n",
       "      <th>2</th>\n",
       "      <td>3.0</td>\n",
       "      <td>South</td>\n",
       "    </tr>\n",
       "    <tr>\n",
       "      <th>3</th>\n",
       "      <td>3.5</td>\n",
       "      <td>South</td>\n",
       "    </tr>\n",
       "    <tr>\n",
       "      <th>6</th>\n",
       "      <td>5.0</td>\n",
       "      <td>South</td>\n",
       "    </tr>\n",
       "    <tr>\n",
       "      <th>0</th>\n",
       "      <td>3.5</td>\n",
       "      <td>South</td>\n",
       "    </tr>\n",
       "    <tr>\n",
       "      <th>8</th>\n",
       "      <td>4.9</td>\n",
       "      <td>South</td>\n",
       "    </tr>\n",
       "  </tbody>\n",
       "</table>\n",
       "</div>"
      ],
      "text/plain": [
       "    FBI Score   Fork\n",
       "5         4.5  North\n",
       "11        2.9  North\n",
       "10        3.4  North\n",
       "1         4.0  North\n",
       "4         4.2  North\n",
       "7         3.6  South\n",
       "9         5.1  South\n",
       "2         3.0  South\n",
       "3         3.5  South\n",
       "6         5.0  South\n",
       "0         3.5  South\n",
       "8         4.9  South"
      ]
     },
     "execution_count": 9,
     "metadata": {},
     "output_type": "execute_result"
    }
   ],
   "source": [
    "perm_example = pd.DataFrame({\n",
    "    'FBI Score':example['FBI Score'].sample(len(example['FBI Score'])),\n",
    "    'Fork':np.append(np.repeat('North', 5), np.repeat('South', 7))\n",
    "})\n",
    "perm_example"
   ]
  },
  {
   "cell_type": "code",
   "execution_count": 10,
   "metadata": {},
   "outputs": [
    {
     "data": {
      "text/plain": [
       "FBI Score   -0.285714\n",
       "dtype: float64"
      ]
     },
     "execution_count": 10,
     "metadata": {},
     "output_type": "execute_result"
    }
   ],
   "source": [
    "perm_difference = perm_example[perm_example['Fork']=='North'].mean() - perm_example[perm_example['Fork']=='South'].mean()\n",
    "perm_difference"
   ]
  },
  {
   "cell_type": "markdown",
   "metadata": {},
   "source": [
    "_explain what the graph is showing_\n",
    "\n",
    "To make the observations more generalizable, we perform the permutation test many more times and compile the distributions to see what range a distribution under the null hypothesis would be. "
   ]
  },
  {
   "cell_type": "code",
   "execution_count": 11,
   "metadata": {},
   "outputs": [],
   "source": [
    "def difference_in_means(fbi_scores):\n",
    "    return np.mean(fbi_scores[:5]) - np.mean(fbi_scores[5:])\n",
    "\n",
    "n_repeats = 1000\n",
    "permutation_differences = []\n",
    "for i in range(n_repeats):\n",
    "    permutation = example['FBI Score'].sample(len(example['FBI Score']))\n",
    "    new_difference = difference_in_means(permutation)\n",
    "    permutation_differences.append(new_difference)"
   ]
  },
  {
   "cell_type": "code",
   "execution_count": 12,
   "metadata": {},
   "outputs": [],
   "source": [
    "import matplotlib.pyplot as plt\n",
    "%matplotlib inline"
   ]
  },
  {
   "cell_type": "code",
   "execution_count": 13,
   "metadata": {},
   "outputs": [
    {
     "data": {
      "image/png": "[encoded data removed]",
      "text/plain": [
       "<Figure size 432x288 with 1 Axes>"
      ]
     },
     "metadata": {
      "needs_background": "light"
     },
     "output_type": "display_data"
    }
   ],
   "source": [
    "plt.hist(permutation_differences)\n",
    "plt.axvline(observed_difference[0], color='red');"
   ]
  },
  {
   "cell_type": "markdown",
   "metadata": {},
   "source": [
    "#### Introduction to permutation test\n",
    "- Null hypothesis (the observed difference between the two branches is due to random chance) vs alternate hypothesis\n",
    "- Code: resample data, recalculate metrics\n",
    "- Question: do we see a difference?\n"
   ]
  },
  {
   "cell_type": "markdown",
   "metadata": {},
   "source": [
    "### Bootstrapping <a id='2.3'> </a>"
   ]
  },
  {
   "cell_type": "markdown",
   "metadata": {},
   "source": [
    "Another problem that often surfaces when analysing a data set is the accuracy of an estimated statistic. For example, if we wanted to provide an estimate of the ecological health of the whole Strawberry Creek, using the calculations from just the North Fork or South Fork would not be representative of the whole creek. On the otherhand, it would also not be feasible to go around collecting samples and calculating the ecological health of every section of the creek. This is where bootstrapping comes into play!  "
   ]
  },
  {
   "cell_type": "markdown",
   "metadata": {},
   "source": [
    "Bootstrapping generates new random samples by drawing samples from the original data set. We essentially treat our data set as the population. We randomly draw from the data set __with replacement__ to creat new data sets that are the same size as the original."
   ]
  },
  {
   "cell_type": "code",
   "execution_count": 63,
   "metadata": {},
   "outputs": [
    {
     "data": {
      "text/plain": [
       "array([[<matplotlib.axes._subplots.AxesSubplot object at 0x1a230085f8>]],\n",
       "      dtype=object)"
      ]
     },
     "execution_count": 63,
     "metadata": {},
     "output_type": "execute_result"
    },
    {
     "data": {
      "image/png": "[encoded data removed]",
      "text/plain": [
       "<Figure size 432x288 with 1 Axes>"
      ]
     },
     "metadata": {
      "needs_background": "light"
     },
     "output_type": "display_data"
    }
   ],
   "source": [
    "example.hist(bins = 5)"
   ]
  },
  {
   "cell_type": "code",
   "execution_count": 27,
   "metadata": {},
   "outputs": [
    {
     "data": {
      "text/plain": [
       "FBI Score    3.966667\n",
       "dtype: float64"
      ]
     },
     "execution_count": 27,
     "metadata": {},
     "output_type": "execute_result"
    }
   ],
   "source": [
    "example.mean(axis = 0)"
   ]
  },
  {
   "cell_type": "markdown",
   "metadata": {},
   "source": [
    "Using only the data collected from your individual experiment, the estimated average Family Biotic Index (FBI) is 3.966667, but as we described above, this is not an accurate representation of the average FBI of the whole creek. One solution is to use bootstrapping. "
   ]
  },
  {
   "cell_type": "code",
   "execution_count": 65,
   "metadata": {},
   "outputs": [
    {
     "data": {
      "text/html": [
       "<div>\n",
       "<style scoped>\n",
       "    .dataframe tbody tr th:only-of-type {\n",
       "        vertical-align: middle;\n",
       "    }\n",
       "\n",
       "    .dataframe tbody tr th {\n",
       "        vertical-align: top;\n",
       "    }\n",
       "\n",
       "    .dataframe thead th {\n",
       "        text-align: right;\n",
       "    }\n",
       "</style>\n",
       "<table border=\"1\" class=\"dataframe\">\n",
       "  <thead>\n",
       "    <tr style=\"text-align: right;\">\n",
       "      <th></th>\n",
       "      <th>FBI Score</th>\n",
       "      <th>Fork</th>\n",
       "    </tr>\n",
       "  </thead>\n",
       "  <tbody>\n",
       "    <tr>\n",
       "      <th>8</th>\n",
       "      <td>4.9</td>\n",
       "      <td>South</td>\n",
       "    </tr>\n",
       "    <tr>\n",
       "      <th>3</th>\n",
       "      <td>3.5</td>\n",
       "      <td>North</td>\n",
       "    </tr>\n",
       "    <tr>\n",
       "      <th>0</th>\n",
       "      <td>3.5</td>\n",
       "      <td>North</td>\n",
       "    </tr>\n",
       "    <tr>\n",
       "      <th>5</th>\n",
       "      <td>4.5</td>\n",
       "      <td>South</td>\n",
       "    </tr>\n",
       "    <tr>\n",
       "      <th>5</th>\n",
       "      <td>4.5</td>\n",
       "      <td>South</td>\n",
       "    </tr>\n",
       "    <tr>\n",
       "      <th>8</th>\n",
       "      <td>4.9</td>\n",
       "      <td>South</td>\n",
       "    </tr>\n",
       "    <tr>\n",
       "      <th>2</th>\n",
       "      <td>3.0</td>\n",
       "      <td>North</td>\n",
       "    </tr>\n",
       "    <tr>\n",
       "      <th>9</th>\n",
       "      <td>5.1</td>\n",
       "      <td>South</td>\n",
       "    </tr>\n",
       "    <tr>\n",
       "      <th>0</th>\n",
       "      <td>3.5</td>\n",
       "      <td>North</td>\n",
       "    </tr>\n",
       "    <tr>\n",
       "      <th>8</th>\n",
       "      <td>4.9</td>\n",
       "      <td>South</td>\n",
       "    </tr>\n",
       "    <tr>\n",
       "      <th>5</th>\n",
       "      <td>4.5</td>\n",
       "      <td>South</td>\n",
       "    </tr>\n",
       "    <tr>\n",
       "      <th>4</th>\n",
       "      <td>4.2</td>\n",
       "      <td>North</td>\n",
       "    </tr>\n",
       "  </tbody>\n",
       "</table>\n",
       "</div>"
      ],
      "text/plain": [
       "   FBI Score   Fork\n",
       "8        4.9  South\n",
       "3        3.5  North\n",
       "0        3.5  North\n",
       "5        4.5  South\n",
       "5        4.5  South\n",
       "8        4.9  South\n",
       "2        3.0  North\n",
       "9        5.1  South\n",
       "0        3.5  North\n",
       "8        4.9  South\n",
       "5        4.5  South\n",
       "4        4.2  North"
      ]
     },
     "execution_count": 65,
     "metadata": {},
     "output_type": "execute_result"
    }
   ],
   "source": [
    "new_sample = example.sample(n = 12, replace = True)\n",
    "new_sample"
   ]
  },
  {
   "cell_type": "code",
   "execution_count": 66,
   "metadata": {},
   "outputs": [
    {
     "data": {
      "text/plain": [
       "array([[<matplotlib.axes._subplots.AxesSubplot object at 0x1a23284a90>]],\n",
       "      dtype=object)"
      ]
     },
     "execution_count": 66,
     "metadata": {},
     "output_type": "execute_result"
    },
    {
     "data": {
      "image/png": "[encoded data removed]",
      "text/plain": [
       "<Figure size 432x288 with 1 Axes>"
      ]
     },
     "metadata": {
      "needs_background": "light"
     },
     "output_type": "display_data"
    }
   ],
   "source": [
    "new_sample.hist(bins = 5)"
   ]
  },
  {
   "cell_type": "code",
   "execution_count": 87,
   "metadata": {
    "scrolled": true
   },
   "outputs": [
    {
     "data": {
      "text/plain": [
       "FBI Score    4.25\n",
       "dtype: float64"
      ]
     },
     "execution_count": 87,
     "metadata": {},
     "output_type": "execute_result"
    }
   ],
   "source": [
    "np.mean(new_sample)"
   ]
  },
  {
   "cell_type": "markdown",
   "metadata": {},
   "source": [
    "After performing the bootstrapping method once, we have a new average FBI Score of 4.25."
   ]
  },
  {
   "cell_type": "markdown",
   "metadata": {},
   "source": [
    "Now we repeat the bootstrapping method many times and compile the calculated FBI averages into one distribution!"
   ]
  },
  {
   "cell_type": "code",
   "execution_count": 94,
   "metadata": {},
   "outputs": [
    {
     "data": {
      "text/plain": [
       "array([[<matplotlib.axes._subplots.AxesSubplot object at 0x1a24051d68>]],\n",
       "      dtype=object)"
      ]
     },
     "execution_count": 94,
     "metadata": {},
     "output_type": "execute_result"
    },
    {
     "data": {
      "image/png": "[encoded data removed]",
      "text/plain": [
       "<Figure size 432x288 with 1 Axes>"
      ]
     },
     "metadata": {
      "needs_background": "light"
     },
     "output_type": "display_data"
    }
   ],
   "source": [
    "FBI_averages = []\n",
    "for i in np.arange(1000):\n",
    "    one_new_sample = example.sample(n = 12, replace = True)\n",
    "    average = np.mean(one_new_sample)\n",
    "    FBI_averages.append(average)\n",
    "pd.DataFrame(FBI_averages).hist()"
   ]
  },
  {
   "cell_type": "markdown",
   "metadata": {},
   "source": [
    "Theoretically the data set that is collected represents the population, so the distribution of the original sample will resemble the distribution of the population. Similarly, the resampled data sets will resemble the original data set and therefore the population, which is why resampling from the same sample works for bootstrapping!"
   ]
  },
  {
   "cell_type": "markdown",
   "metadata": {},
   "source": [
    "__P-Values & Statistical Significance__"
   ]
  },
  {
   "cell_type": "markdown",
   "metadata": {},
   "source": []
  },
  {
   "cell_type": "markdown",
   "metadata": {},
   "source": [
    "## Submitting the Lab"
   ]
  },
  {
   "cell_type": "markdown",
   "metadata": {},
   "source": [
    "... "
   ]
  },
  {
   "cell_type": "code",
   "execution_count": null,
   "metadata": {},
   "outputs": [],
   "source": [
    "#not exactly sure why the qgrid widget isn't displaying anything"
   ]
  },
  {
   "cell_type": "code",
   "execution_count": null,
   "metadata": {},
   "outputs": [],
   "source": [
    "data = pd.read_csv('ice cream.csv')"
   ]
  },
  {
   "cell_type": "code",
   "execution_count": null,
   "metadata": {},
   "outputs": [],
   "source": [
    "qgrid.show_grid(data)"
   ]
  },
  {
   "cell_type": "code",
   "execution_count": null,
   "metadata": {},
   "outputs": [],
   "source": [
    "data"
   ]
  }
 ],
 "metadata": {
  "kernelspec": {
   "display_name": "Python 3",
   "language": "python",
   "name": "python3"
  },
  "language_info": {
   "codemirror_mode": {
    "name": "ipython",
    "version": 3
   },
   "file_extension": ".py",
   "mimetype": "text/x-python",
   "name": "python",
   "nbconvert_exporter": "python",
   "pygments_lexer": "ipython3",
   "version": "3.7.1"
  }
 },
 "nbformat": 4,
 "nbformat_minor": 2
}
