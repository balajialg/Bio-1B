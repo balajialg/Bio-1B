{
 "cells": [
  {
   "cell_type": "markdown",
   "metadata": {},
   "source": [
    "# Bioindicators of Strawberry Creek (Virtual Communities)\n",
    "### Professors George Roderick, John Huelsenbeck & Alan Shabel\n",
    "_Estimated Time: 50 minutes_\n",
    "\n",
    "--- "
   ]
  },
  {
   "cell_type": "markdown",
   "metadata": {},
   "source": [
    "Welcome! Throughout this lab you will be using Python to analyze the data that you collected from Strawberry Creek. Python is a general-purpose programming language that allows one to use data analysis methods that simulate data sets that we may not have the resources to collect in real life. \n",
    "\n",
    "This notebook samples from two virtual biological communities, representing the North and South Forks of Strawberry Creek."
   ]
  },
  {
   "cell_type": "markdown",
   "metadata": {},
   "source": []
  },
  {
   "cell_type": "markdown",
   "metadata": {},
   "source": [
    "**Learning Outcomes**\n",
    "\n",
    "By the end of the notebook, students should be able to:\n",
    "\n",
    "1. Explain the use of biological organisms as indicators of ecosystem health\n",
    "2. Interpret biological metrics of diversity: taxon richness, %EPT, biotic index (FBI), % filterers, % predators, Shannon index\n",
    "3. Use simulated resampling, or permutaions, to determine if two samples are likely to have come from the same underlying distribution.\n",
    "4. Apply p-value to describe statistical significance"
   ]
  },
  {
   "cell_type": "markdown",
   "metadata": {},
   "source": [
    "## Table of Contents \n",
    "\n",
    "1. [Jupyter Notebooks](#1)\n",
    "    - [Types of Cells](#1.1)\n",
    "    - [Running Cells](#1.2)\n",
    "    - [Editting, Saving and Submitting](#1.3)\n",
    "<br/><br/>\n",
    "2. [Data Recording](#2)\n",
    "<br/><br/>\n",
    "3. [Introduction to Data Analytics](#3)\n",
    "    - [Null and Alternate Hypothesis](#3.1)\n",
    "    - [Permutation Test](#3.2)\n",
    "    - [P-values & Statistical Significance](#3.3)\n",
    "<br/><br/>\n",
    "4. [Your Data](#4)\n",
    "<br/><br/>\n",
    "5. [Submitting the Lab](#5)"
   ]
  },
  {
   "cell_type": "markdown",
   "metadata": {},
   "source": [
    "<br>\n",
    "\n",
    "# 1. Jupyter Notebooks <a id='1'></a>\n",
    "---"
   ]
  },
  {
   "cell_type": "markdown",
   "metadata": {},
   "source": [
    "This lab is currently set up in a Jupyter Notebook. A Jupyter Notebook is an online, interactive computing environment, composed of different types of __cells__. Cells are chunks of code or text that are used to break up a larger notebook into smaller, more manageable parts and to let the viewer modify and interact with the elements of the notebook.\n",
    " \n",
    "### Types of cells <a id= '1.1'> </a>\n",
    "\n",
    "There are two types of cells in Jupyter, __code__ cells and __markdown__ cells. Code cells are cells indicated with “In [  ]:” to the left of the cell. In these cells you can write you own code and run the code in the individual cell.\n",
    "Markdown cells hold text a majority of the time and do not have the “In [ ]” to the left of the cell."
   ]
  },
  {
   "cell_type": "markdown",
   "metadata": {},
   "source": [
    "### Running cells <a id= '1.2'> </a>"
   ]
  },
  {
   "cell_type": "markdown",
   "metadata": {},
   "source": [
    "'Running' a cell is similar to pressing 'Enter' on a calculator once you've typed in an expression; it computes all of the expressions contained within the cell.\n",
    "\n",
    "To run a code cell, you can do one of the following:\n",
    "- press __Shift + Enter__\n",
    "- click __Cell -> Run Cells__ in the toolbar at the top of the screen.\n",
    "\n",
    "You can navigate the cells by either clicking on them or by using your up and down arrow keys. Try running the cell below to see what happens. "
   ]
  },
  {
   "cell_type": "code",
   "execution_count": null,
   "metadata": {},
   "outputs": [],
   "source": [
    "print(\"Hello, World\")"
   ]
  },
  {
   "cell_type": "markdown",
   "metadata": {},
   "source": [
    "The input of the cell consists of the text/code that is contained within the cell's enclosing box. Here, the input is an expression in Python that \"prints\" or repeats whatever text or number is passed in. \n",
    "\n",
    "The output of running a cell is shown in the line immediately after it. Notice that markdown cells have no output. "
   ]
  },
  {
   "cell_type": "markdown",
   "metadata": {},
   "source": [
    "### Editing, Saving and Submitting <a id='1.3'> </a>"
   ]
  },
  {
   "cell_type": "markdown",
   "metadata": {},
   "source": [
    "- To __edit__ a cell simply click on the desired cell and begin typing \n",
    "- To __save__ your notebook press _command + s_ on the keyboard \n",
    "- We will go into the specifics of how to __submit__ your work at the end of the lab, but you will essentially be converting your work into a PDF file and then including it in your Lab Report"
   ]
  },
  {
   "cell_type": "markdown",
   "metadata": {},
   "source": [
    "Run this cell before proceeding with the rest of the lab!"
   ]
  },
  {
   "cell_type": "code",
   "execution_count": null,
   "metadata": {},
   "outputs": [],
   "source": [
    "import numpy as np\n",
    "import pandas as pd\n",
    "import ipywidgets as widgets\n",
    "from ipywidgets import interact, interact_manual\n",
    "from IPython.display import display\n",
    "from IPython.display import clear_output\n",
    "import matplotlib.pyplot as plt\n",
    "plt.style.use('fivethirtyeight')\n",
    "%matplotlib inline"
   ]
  },
  {
   "cell_type": "markdown",
   "metadata": {},
   "source": [
    "<br>\n",
    "\n",
    "# 2. Data Recording <a id='2'> </a>\n",
    "---"
   ]
  },
  {
   "cell_type": "markdown",
   "metadata": {},
   "source": [
    "In this section you will be importing the data you collected in the lab!\n",
    "\n",
    "To import your data you must:\n",
    "1. Open up the desired google sheets form.\n",
    "2. Navigate to the __File__ tab and hover over __Download__.\n",
    "3. From there another drop down tab should appear with differect formats to download the form as. Select the __Comma-Separated Values (csv)__ option."
   ]
  },
  {
   "cell_type": "markdown",
   "metadata": {},
   "source": [
    "To import the data set just run the following cell!  If all goes smoothly, you will see the first few rows of your data file."
   ]
  },
  {
   "cell_type": "code",
   "execution_count": null,
   "metadata": {},
   "outputs": [],
   "source": [
    "#data = pd.read_csv(\"data set name\")\n",
    "data = pd.read_csv(\"CommunityData.csv\")\n",
    "data"
   ]
  },
  {
   "cell_type": "markdown",
   "metadata": {},
   "source": [
    "Sample 50 individuals out of a community of 10000"
   ]
  },
  {
   "cell_type": "code",
   "execution_count": null,
   "metadata": {},
   "outputs": [],
   "source": [
    "sample_size = 50\n",
    "indices = np.random.choice(len(data.index), size=sample_size, p=data['North'])\n",
    "NorthSample = data.iloc[indices]\n",
    "indices = np.random.choice(len(data.index), size=sample_size, p=data['South'])\n",
    "SouthSample = data.iloc[indices]\n",
    "#NorthSample\n",
    "SouthSample\n"
   ]
  },
  {
   "cell_type": "code",
   "execution_count": null,
   "metadata": {},
   "outputs": [],
   "source": [
    "print ('EPT North', NorthSample['EPT'].mean() )\n",
    "print ('EPT South', SouthSample['EPT'].mean() )\n",
    "\n",
    "print ('Filters North', (NorthSample['Function'] == 'F').mean() )\n",
    "print ('Filters South', (SouthSample['Function'] == 'F').mean() )\n",
    "\n",
    "print ('Predators North', (NorthSample['Function'] == 'P').mean() )\n",
    "print ('Predators South', (SouthSample['Function'] == 'P').mean() )\n",
    "\n",
    "print ('FBI North', NorthSample['Biotic'].mean() )\n",
    "print ('FBI South', SouthSample['Biotic'].mean() )\n",
    "\n",
    "unique_NorthTaxa, counts_NorthTaxa = np.unique(NorthSample['Name'], return_counts=True)\n",
    "NorthTaxa = (np.asarray((unique_NorthTaxa, counts_NorthTaxa)))\n",
    "prop_NorthTaxa = counts_NorthTaxa / sample_size\n",
    "\n",
    "unique_SouthTaxa, counts_SouthTaxa = np.unique(SouthSample['Name'], return_counts=True)\n",
    "SouthTaxa = (np.asarray((unique_SouthTaxa, counts_SouthTaxa)))\n",
    "prop_SouthTaxa = counts_SouthTaxa / sample_size\n",
    "\n",
    "\n",
    "print (\"Richness North\", len(unique_NorthTaxa) )\n",
    "print (\"Richness South\", len(unique_SouthTaxa) )\n",
    "\n",
    "print (\"Shannon North \", round(-(prop_NorthTaxa * np.log(prop_NorthTaxa)).sum(), 3) )\n",
    "print (\"Shannon South \", round(-(prop_SouthTaxa * np.log(prop_SouthTaxa)).sum(), 3) )\n",
    "\n"
   ]
  },
  {
   "cell_type": "markdown",
   "metadata": {},
   "source": [
    "### Bibliography "
   ]
  },
  {
   "cell_type": "raw",
   "metadata": {},
   "source": [
    "\n",
    "\n",
    "Notebook developed by: George Roderick, Mel Roderick, and Joshua Povich\n",
    "\n",
    "Strawberry Creek 2007 Data"
   ]
  }
 ],
 "metadata": {
  "kernelspec": {
   "display_name": "Python 3",
   "language": "python",
   "name": "python3"
  },
  "language_info": {
   "codemirror_mode": {
    "name": "ipython",
    "version": 3
   },
   "file_extension": ".py",
   "mimetype": "text/x-python",
   "name": "python",
   "nbconvert_exporter": "python",
   "pygments_lexer": "ipython3",
   "version": "3.6.9"
  }
 },
 "nbformat": 4,
 "nbformat_minor": 2
}
