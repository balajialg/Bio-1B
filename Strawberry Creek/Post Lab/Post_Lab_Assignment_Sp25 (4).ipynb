{
 "cells": [
  {
   "cell_type": "markdown",
   "id": "f711576b",
   "metadata": {
    "id": "f711576b"
   },
   "source": [
    "# Post-Lab Assignment: Bioindicators Analysis\n",
    "\n",
    "In this notebook, you will analyze creek metrics data to compare North and South Fork regions. You will create boxplots, perform randomization testing, and interpret the results.\n",
    "\n",
    "Make sure to answer all the questions in bCourses after running the code cells."
   ]
  },
  {
   "cell_type": "code",
   "execution_count": 9,
   "id": "af27cadf",
   "metadata": {
    "id": "af27cadf"
   },
   "outputs": [
    {
     "data": {
      "text/html": [
       "<div>\n",
       "<style scoped>\n",
       "    .dataframe tbody tr th:only-of-type {\n",
       "        vertical-align: middle;\n",
       "    }\n",
       "\n",
       "    .dataframe tbody tr th {\n",
       "        vertical-align: top;\n",
       "    }\n",
       "\n",
       "    .dataframe thead th {\n",
       "        text-align: right;\n",
       "    }\n",
       "</style>\n",
       "<table border=\"1\" class=\"dataframe\">\n",
       "  <thead>\n",
       "    <tr style=\"text-align: right;\">\n",
       "      <th></th>\n",
       "      <th>Group</th>\n",
       "      <th>Fork</th>\n",
       "      <th>Richness</th>\n",
       "      <th>EPT</th>\n",
       "      <th>FBI</th>\n",
       "      <th>Filters</th>\n",
       "      <th>Predators</th>\n",
       "      <th>Shannon</th>\n",
       "    </tr>\n",
       "  </thead>\n",
       "  <tbody>\n",
       "    <tr>\n",
       "      <th>0</th>\n",
       "      <td>1</td>\n",
       "      <td>North</td>\n",
       "      <td>9</td>\n",
       "      <td>25</td>\n",
       "      <td>5.28</td>\n",
       "      <td>43</td>\n",
       "      <td>16</td>\n",
       "      <td>1.83</td>\n",
       "    </tr>\n",
       "    <tr>\n",
       "      <th>1</th>\n",
       "      <td>2</td>\n",
       "      <td>North</td>\n",
       "      <td>8</td>\n",
       "      <td>30</td>\n",
       "      <td>5.06</td>\n",
       "      <td>50</td>\n",
       "      <td>18</td>\n",
       "      <td>1.82</td>\n",
       "    </tr>\n",
       "    <tr>\n",
       "      <th>2</th>\n",
       "      <td>3</td>\n",
       "      <td>North</td>\n",
       "      <td>9</td>\n",
       "      <td>28</td>\n",
       "      <td>5.28</td>\n",
       "      <td>43</td>\n",
       "      <td>15</td>\n",
       "      <td>1.83</td>\n",
       "    </tr>\n",
       "    <tr>\n",
       "      <th>3</th>\n",
       "      <td>4</td>\n",
       "      <td>North</td>\n",
       "      <td>9</td>\n",
       "      <td>18</td>\n",
       "      <td>5.12</td>\n",
       "      <td>46</td>\n",
       "      <td>16</td>\n",
       "      <td>1.96</td>\n",
       "    </tr>\n",
       "    <tr>\n",
       "      <th>4</th>\n",
       "      <td>5</td>\n",
       "      <td>North</td>\n",
       "      <td>7</td>\n",
       "      <td>32</td>\n",
       "      <td>5.40</td>\n",
       "      <td>40</td>\n",
       "      <td>13</td>\n",
       "      <td>2.03</td>\n",
       "    </tr>\n",
       "  </tbody>\n",
       "</table>\n",
       "</div>"
      ],
      "text/plain": [
       "   Group   Fork  Richness  EPT   FBI  Filters  Predators  Shannon\n",
       "0      1  North         9   25  5.28       43         16     1.83\n",
       "1      2  North         8   30  5.06       50         18     1.82\n",
       "2      3  North         9   28  5.28       43         15     1.83\n",
       "3      4  North         9   18  5.12       46         16     1.96\n",
       "4      5  North         7   32  5.40       40         13     2.03"
      ]
     },
     "execution_count": 9,
     "metadata": {},
     "output_type": "execute_result"
    }
   ],
   "source": [
    "# Import necessary libraries\n",
    "import pandas as pd\n",
    "import matplotlib.pyplot as plt\n",
    "import numpy as np\n",
    "\n",
    "# Load the creek metrics data\n",
    "data = pd.read_csv('post-lab_data_Sp25.csv')\n",
    "\n",
    "# Display the first few rows of the dataset\n",
    "data.head()\n"
   ]
  },
  {
   "cell_type": "markdown",
   "id": "a9469f2c",
   "metadata": {
    "id": "a9469f2c"
   },
   "source": [
    "## Create Boxplots for Metrics\n",
    "\n",
    "Create boxplots comparing the North and South Forks for Richness, FBI, EPT, Filters, and Predator metrics."
   ]
  },
  {
   "cell_type": "code",
   "execution_count": 10,
   "id": "92eae21b",
   "metadata": {
    "id": "92eae21b"
   },
   "outputs": [
    {
     "data": {
      "image/png": "[encoded data removed]",
      "text/plain": [
       "<Figure size 640x480 with 1 Axes>"
      ]
     },
     "metadata": {},
     "output_type": "display_data"
    }
   ],
   "source": [
    "# List of metrics to plot (adjust as needed based on question variation)\n",
    "metric_to_plot = ['Richness']  # Change these metric as per the question\n",
    "\n",
    "# Create boxplots for each selected metric, comparing North and South Fork\n",
    "for metric in metric_to_plot:\n",
    "    data.boxplot(column=metric, by='Fork')\n",
    "    plt.title(f'Boxplot of {metric} by Fork')\n",
    "    plt.suptitle('')  # Remove automatic title\n",
    "    plt.xlabel('Fork')\n",
    "    plt.ylabel(metric)\n",
    "    plt.show()\n"
   ]
  },
  {
   "cell_type": "markdown",
   "id": "b94e2543",
   "metadata": {
    "id": "b94e2543"
   },
   "source": [
    "## Randomization Testing\n",
    "\n",
    "Perform randomization testing to assess whether the observed differences in different biodicator metrics are statistically significant."
   ]
  },
  {
   "cell_type": "code",
   "execution_count": 13,
   "id": "69a82f77",
   "metadata": {
    "id": "69a82f77"
   },
   "outputs": [
    {
     "data": {
      "image/png": "[encoded data removed]",
      "text/plain": [
       "<Figure size 640x480 with 1 Axes>"
      ]
     },
     "metadata": {},
     "output_type": "display_data"
    },
    {
     "name": "stdout",
     "output_type": "stream",
     "text": [
      "Observed Difference: -1.0041666666666664\n",
      "P-value: 0.0\n"
     ]
    }
   ],
   "source": [
    "# Randomization testing on the FBI metric (change to other metrics as per question variation)\n",
    "\n",
    "# Function to perform a single randomization\n",
    "def randomization_test(data, metric, n_iterations=1000):\n",
    "    observed_difference = data.groupby('Fork')[metric].mean().diff().iloc[-1]\n",
    "    randomized_diffs = []\n",
    "\n",
    "    for _ in range(n_iterations):\n",
    "        # Shuffle the 'Fork' labels\n",
    "        shuffled = data.copy()\n",
    "        shuffled['Fork'] = np.random.permutation(shuffled['Fork'])\n",
    "        # Compute the difference between the means after shuffling\n",
    "        randomized_diff = shuffled.groupby('Fork')[metric].mean().diff().iloc[-1]\n",
    "        randomized_diffs.append(randomized_diff)\n",
    "\n",
    "    # Calculate the p-value (how often random difference exceeds observed difference)\n",
    "    p_value = np.mean(np.abs(randomized_diffs) >= np.abs(observed_difference))\n",
    "\n",
    "    # Plot the distribution of randomized differences\n",
    "    plt.hist(randomized_diffs, bins=30, alpha=0.7)\n",
    "    plt.axvline(observed_difference, color='red', linestyle='--', label=f'Observed Difference: {observed_difference:.4f}')\n",
    "    plt.xlabel('Difference in Means (Randomized)')\n",
    "    plt.ylabel('Frequency')\n",
    "    plt.title(f'Randomization Test for {metric}')\n",
    "    plt.legend()\n",
    "    plt.show()\n",
    "\n",
    "    return observed_difference, p_value\n",
    "\n",
    "# Perform the randomization test for FBI (or change the metric as needed)\n",
    "obs_diff, p_val = randomization_test(data, 'FBI')\n",
    "print(f\"Observed Difference: {obs_diff}\")\n",
    "print(f\"P-value: {p_val}\")\n"
   ]
  },
  {
   "cell_type": "markdown",
   "id": "6c4603dc",
   "metadata": {
    "id": "6c4603dc"
   },
   "source": [
    "## Writing a Results Section\n",
    "\n",
    "Carefull review figures you have generated. Write a proper interpretation of the results after generating boxplots and running the randomization test."
   ]
  },
  {
   "cell_type": "code",
   "execution_count": null,
   "id": "30da4c9c-2751-45dc-aeae-28bc7a274cca",
   "metadata": {},
   "outputs": [],
   "source": []
  },
  {
   "cell_type": "code",
   "execution_count": null,
   "id": "af77ec73-7707-4968-a0fd-ec87b6080dc8",
   "metadata": {},
   "outputs": [],
   "source": []
  },
  {
   "cell_type": "code",
   "execution_count": null,
   "id": "6c3ccde3-ed45-4702-9865-bed853b14ed8",
   "metadata": {},
   "outputs": [],
   "source": []
  },
  {
   "cell_type": "code",
   "execution_count": null,
   "id": "df9c6565-7996-4e62-bc06-e5dd17c47c51",
   "metadata": {},
   "outputs": [],
   "source": []
  }
 ],
 "metadata": {
  "colab": {
   "provenance": []
  },
  "kernelspec": {
   "display_name": "Python 3 (ipykernel)",
   "language": "python",
   "name": "python3"
  },
  "language_info": {
   "codemirror_mode": {
    "name": "ipython",
    "version": 3
   },
   "file_extension": ".py",
   "mimetype": "text/x-python",
   "name": "python",
   "nbconvert_exporter": "python",
   "pygments_lexer": "ipython3",
   "version": "3.11.11"
  }
 },
 "nbformat": 4,
 "nbformat_minor": 5
}
