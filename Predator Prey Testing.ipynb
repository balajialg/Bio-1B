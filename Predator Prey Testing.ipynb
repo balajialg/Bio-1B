{
 "cells": [
  {
   "cell_type": "code",
   "execution_count": 1,
   "metadata": {},
   "outputs": [],
   "source": [
    "import numpy as np\n",
    "import pandas as pd\n",
    "\n",
    "import matplotlib\n",
    "%matplotlib inline\n",
    "import matplotlib.pyplot as plt\n",
    "plt.style.use('fivethirtyeight')"
   ]
  },
  {
   "cell_type": "markdown",
   "metadata": {},
   "source": [
    "# Experiment 1"
   ]
  },
  {
   "cell_type": "code",
   "execution_count": 2,
   "metadata": {},
   "outputs": [],
   "source": [
    "def predator_yields(populations, predation_rates):\n",
    "    if sum(populations) == 0:\n",
    "        return populations\n",
    "    chance_of_being_eaten = [population * predation_rate for (population, predation_rate) in \n",
    "                             zip(populations, predation_rates)]\n",
    "    chance_of_being_eaten = [chance / sum(chance_of_being_eaten) for chance in chance_of_being_eaten]\n",
    "    # Technically allows for one prey to be eaten twice. This is fine.\n",
    "    prey_eaten = np.random.choice(prey_species_count, predator_count, replace=True, p=chance_of_being_eaten)\n",
    "    yield_counts = [list(prey_eaten).count(prey) for prey in range(prey_species_count)]\n",
    "    return yield_counts\n",
    "\n",
    "def discrete_generation_no_carrying_capacity(reproduction_rate, population_at_t, yield_count):\n",
    "    return max(0, int(reproduction_rate * (population_at_t - yield_count)))\n",
    "\n",
    "def process_carrying_capacity(list_of_populations):\n",
    "    total = sum(list_of_populations)\n",
    "    if total > prey_limit:\n",
    "        return [int(population * (prey_limit / total)) for population in list_of_populations]\n",
    "    else:\n",
    "        return list_of_populations"
   ]
  },
  {
   "cell_type": "code",
   "execution_count": 3,
   "metadata": {},
   "outputs": [],
   "source": [
    "def simulate():\n",
    "    global prey_limit, predator_count, starting_populations, predation_rates, reproductive_rates\n",
    "    global num_generations, has_carrying_capacity, prey_species_count\n",
    "    \n",
    "    assert prey_species_count == len(starting_populations) == len(predation_rates) == len(reproductive_rates)\n",
    "    prey_names = ['Prey ' + str(i) for i in range(prey_species_count)]\n",
    "    population_df = pd.DataFrame(columns=['Generation'] + prey_names)\n",
    "    population_df = population_df.set_index('Generation')\n",
    "    populations = starting_populations\n",
    "    population_df.loc[0] = populations\n",
    "\n",
    "    for generation in np.arange(1, 1+num_generations):\n",
    "        yield_counts = predator_yields(populations, predation_rates)\n",
    "        populations = [discrete_generation_no_carrying_capacity(reproductive_rate, population, yield_count) \n",
    "                       for (reproductive_rate, population, yield_count) in \n",
    "                       zip(reproductive_rates, populations, yield_counts)]\n",
    "        if has_carrying_capacity:\n",
    "            populations = process_carrying_capacity(populations)\n",
    "        population_df.loc[generation] = populations\n",
    "        \n",
    "    return population_df"
   ]
  },
  {
   "cell_type": "code",
   "execution_count": 33,
   "metadata": {},
   "outputs": [
    {
     "data": {
      "text/html": [
       "<div>\n",
       "<style scoped>\n",
       "    .dataframe tbody tr th:only-of-type {\n",
       "        vertical-align: middle;\n",
       "    }\n",
       "\n",
       "    .dataframe tbody tr th {\n",
       "        vertical-align: top;\n",
       "    }\n",
       "\n",
       "    .dataframe thead th {\n",
       "        text-align: right;\n",
       "    }\n",
       "</style>\n",
       "<table border=\"1\" class=\"dataframe\">\n",
       "  <thead>\n",
       "    <tr style=\"text-align: right;\">\n",
       "      <th></th>\n",
       "      <th>Prey 0</th>\n",
       "      <th>Prey 1</th>\n",
       "      <th>Prey 2</th>\n",
       "      <th>Prey 3</th>\n",
       "    </tr>\n",
       "    <tr>\n",
       "      <th>Generation</th>\n",
       "      <th></th>\n",
       "      <th></th>\n",
       "      <th></th>\n",
       "      <th></th>\n",
       "    </tr>\n",
       "  </thead>\n",
       "  <tbody>\n",
       "    <tr>\n",
       "      <th>0</th>\n",
       "      <td>20</td>\n",
       "      <td>20</td>\n",
       "      <td>20</td>\n",
       "      <td>20</td>\n",
       "    </tr>\n",
       "    <tr>\n",
       "      <th>1</th>\n",
       "      <td>23</td>\n",
       "      <td>22</td>\n",
       "      <td>21</td>\n",
       "      <td>15</td>\n",
       "    </tr>\n",
       "    <tr>\n",
       "      <th>2</th>\n",
       "      <td>23</td>\n",
       "      <td>21</td>\n",
       "      <td>22</td>\n",
       "      <td>16</td>\n",
       "    </tr>\n",
       "    <tr>\n",
       "      <th>3</th>\n",
       "      <td>24</td>\n",
       "      <td>24</td>\n",
       "      <td>21</td>\n",
       "      <td>14</td>\n",
       "    </tr>\n",
       "    <tr>\n",
       "      <th>4</th>\n",
       "      <td>25</td>\n",
       "      <td>21</td>\n",
       "      <td>23</td>\n",
       "      <td>15</td>\n",
       "    </tr>\n",
       "  </tbody>\n",
       "</table>\n",
       "</div>"
      ],
      "text/plain": [
       "           Prey 0 Prey 1 Prey 2 Prey 3\n",
       "Generation                            \n",
       "0              20     20     20     20\n",
       "1              23     22     21     15\n",
       "2              23     21     22     16\n",
       "3              24     24     21     14\n",
       "4              25     21     23     15"
      ]
     },
     "execution_count": 33,
     "metadata": {},
     "output_type": "execute_result"
    },
    {
     "data": {
      "image/png": "[encoded data removed]",
      "text/plain": [
       "<Figure size 432x288 with 1 Axes>"
      ]
     },
     "metadata": {
      "needs_background": "light"
     },
     "output_type": "display_data"
    }
   ],
   "source": [
    "prey_limit = 100\n",
    "predator_count = 10\n",
    "starting_populations = [20, 20, 20, 20]\n",
    "predation_rates = [6, 7, 8, 9] # Relative chance of each prey type getting eaten (per predator)\n",
    "reproductive_rates = [1.17, 1.17, 1.17, 1.17]\n",
    "num_generations = 25\n",
    "has_carrying_capacity = False\n",
    "prey_species_count = len(starting_populations)\n",
    "\n",
    "population_df = simulate()\n",
    "population_df.plot()\n",
    "population_df.head()"
   ]
  },
  {
   "cell_type": "markdown",
   "metadata": {},
   "source": [
    "# Experiment 2"
   ]
  },
  {
   "cell_type": "code",
   "execution_count": 32,
   "metadata": {},
   "outputs": [
    {
     "data": {
      "text/html": [
       "<div>\n",
       "<style scoped>\n",
       "    .dataframe tbody tr th:only-of-type {\n",
       "        vertical-align: middle;\n",
       "    }\n",
       "\n",
       "    .dataframe tbody tr th {\n",
       "        vertical-align: top;\n",
       "    }\n",
       "\n",
       "    .dataframe thead th {\n",
       "        text-align: right;\n",
       "    }\n",
       "</style>\n",
       "<table border=\"1\" class=\"dataframe\">\n",
       "  <thead>\n",
       "    <tr style=\"text-align: right;\">\n",
       "      <th></th>\n",
       "      <th>Prey 0</th>\n",
       "      <th>Prey 1</th>\n",
       "      <th>Prey 2</th>\n",
       "      <th>Prey 3</th>\n",
       "    </tr>\n",
       "    <tr>\n",
       "      <th>Generation</th>\n",
       "      <th></th>\n",
       "      <th></th>\n",
       "      <th></th>\n",
       "      <th></th>\n",
       "    </tr>\n",
       "  </thead>\n",
       "  <tbody>\n",
       "    <tr>\n",
       "      <th>0</th>\n",
       "      <td>20</td>\n",
       "      <td>20</td>\n",
       "      <td>20</td>\n",
       "      <td>20</td>\n",
       "    </tr>\n",
       "    <tr>\n",
       "      <th>1</th>\n",
       "      <td>22</td>\n",
       "      <td>21</td>\n",
       "      <td>20</td>\n",
       "      <td>19</td>\n",
       "    </tr>\n",
       "    <tr>\n",
       "      <th>2</th>\n",
       "      <td>25</td>\n",
       "      <td>21</td>\n",
       "      <td>21</td>\n",
       "      <td>17</td>\n",
       "    </tr>\n",
       "    <tr>\n",
       "      <th>3</th>\n",
       "      <td>26</td>\n",
       "      <td>22</td>\n",
       "      <td>22</td>\n",
       "      <td>15</td>\n",
       "    </tr>\n",
       "    <tr>\n",
       "      <th>4</th>\n",
       "      <td>29</td>\n",
       "      <td>21</td>\n",
       "      <td>24</td>\n",
       "      <td>14</td>\n",
       "    </tr>\n",
       "  </tbody>\n",
       "</table>\n",
       "</div>"
      ],
      "text/plain": [
       "           Prey 0 Prey 1 Prey 2 Prey 3\n",
       "Generation                            \n",
       "0              20     20     20     20\n",
       "1              22     21     20     19\n",
       "2              25     21     21     17\n",
       "3              26     22     22     15\n",
       "4              29     21     24     14"
      ]
     },
     "execution_count": 32,
     "metadata": {},
     "output_type": "execute_result"
    },
    {
     "data": {
      "image/png": "[encoded data removed]",
      "text/plain": [
       "<Figure size 432x288 with 1 Axes>"
      ]
     },
     "metadata": {
      "needs_background": "light"
     },
     "output_type": "display_data"
    }
   ],
   "source": [
    "prey_limit = 100\n",
    "predator_count = 10\n",
    "starting_populations = [20, 20, 20, 20]\n",
    "predation_rates = [6, 7, 8, 9] # Relative chance of each prey type getting eaten (per predator)\n",
    "reproductive_rates = [1.17, 1.2, 1.2, 1.23]\n",
    "num_generations = 25\n",
    "has_carrying_capacity = True\n",
    "prey_species_count = len(starting_populations)\n",
    "\n",
    "population_df = simulate()\n",
    "population_df.plot()\n",
    "population_df.head()"
   ]
  },
  {
   "cell_type": "code",
   "execution_count": null,
   "metadata": {},
   "outputs": [],
   "source": []
  }
 ],
 "metadata": {
  "kernelspec": {
   "display_name": "Python 3",
   "language": "python",
   "name": "python3"
  },
  "language_info": {
   "codemirror_mode": {
    "name": "ipython",
    "version": 3
   },
   "file_extension": ".py",
   "mimetype": "text/x-python",
   "name": "python",
   "nbconvert_exporter": "python",
   "pygments_lexer": "ipython3",
   "version": "3.6.8"
  }
 },
 "nbformat": 4,
 "nbformat_minor": 2
}
